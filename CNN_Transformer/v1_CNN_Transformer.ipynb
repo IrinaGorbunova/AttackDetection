{
  "nbformat": 4,
  "nbformat_minor": 0,
  "metadata": {
    "accelerator": "GPU",
    "colab": {
      "name": "CNN_Transformer.ipynb",
      "provenance": [],
      "collapsed_sections": [],
      "toc_visible": true,
      "machine_shape": "hm"
    },
    "kernelspec": {
      "display_name": "Python 3",
      "name": "python3"
    },
    "widgets": {
      "application/vnd.jupyter.widget-state+json": {
        "1b2fa26fe364470490916ff2b6d1ddee": {
          "model_module": "@jupyter-widgets/controls",
          "model_name": "HBoxModel",
          "state": {
            "_view_name": "HBoxView",
            "_dom_classes": [],
            "_model_name": "HBoxModel",
            "_view_module": "@jupyter-widgets/controls",
            "_model_module_version": "1.5.0",
            "_view_count": null,
            "_view_module_version": "1.5.0",
            "box_style": "",
            "layout": "IPY_MODEL_41941af846b84d22a3d7f3b438178380",
            "_model_module": "@jupyter-widgets/controls",
            "children": [
              "IPY_MODEL_21cdb54335d446178d4c0771c653552d",
              "IPY_MODEL_ef9fbd682f834f7589f0d32ef30431e1"
            ]
          }
        },
        "41941af846b84d22a3d7f3b438178380": {
          "model_module": "@jupyter-widgets/base",
          "model_name": "LayoutModel",
          "state": {
            "_view_name": "LayoutView",
            "grid_template_rows": null,
            "right": null,
            "justify_content": null,
            "_view_module": "@jupyter-widgets/base",
            "overflow": null,
            "_model_module_version": "1.2.0",
            "_view_count": null,
            "flex_flow": null,
            "width": null,
            "min_width": null,
            "border": null,
            "align_items": null,
            "bottom": null,
            "_model_module": "@jupyter-widgets/base",
            "top": null,
            "grid_column": null,
            "overflow_y": null,
            "overflow_x": null,
            "grid_auto_flow": null,
            "grid_area": null,
            "grid_template_columns": null,
            "flex": null,
            "_model_name": "LayoutModel",
            "justify_items": null,
            "grid_row": null,
            "max_height": null,
            "align_content": null,
            "visibility": null,
            "align_self": null,
            "height": null,
            "min_height": null,
            "padding": null,
            "grid_auto_rows": null,
            "grid_gap": null,
            "max_width": null,
            "order": null,
            "_view_module_version": "1.2.0",
            "grid_template_areas": null,
            "object_position": null,
            "object_fit": null,
            "grid_auto_columns": null,
            "margin": null,
            "display": null,
            "left": null
          }
        },
        "21cdb54335d446178d4c0771c653552d": {
          "model_module": "@jupyter-widgets/controls",
          "model_name": "FloatProgressModel",
          "state": {
            "_view_name": "ProgressView",
            "style": "IPY_MODEL_b3968d35a9b4458ab021e449943770fc",
            "_dom_classes": [],
            "description": "100%",
            "_model_name": "FloatProgressModel",
            "bar_style": "success",
            "max": 87306240,
            "_view_module": "@jupyter-widgets/controls",
            "_model_module_version": "1.5.0",
            "value": 87306240,
            "_view_count": null,
            "_view_module_version": "1.5.0",
            "orientation": "horizontal",
            "min": 0,
            "description_tooltip": null,
            "_model_module": "@jupyter-widgets/controls",
            "layout": "IPY_MODEL_fbe3db57303d418999bc5e61b9c335bc"
          }
        },
        "ef9fbd682f834f7589f0d32ef30431e1": {
          "model_module": "@jupyter-widgets/controls",
          "model_name": "HTMLModel",
          "state": {
            "_view_name": "HTMLView",
            "style": "IPY_MODEL_90f8df4d462f4f5f8f23e93fe7edf79b",
            "_dom_classes": [],
            "description": "",
            "_model_name": "HTMLModel",
            "placeholder": "​",
            "_view_module": "@jupyter-widgets/controls",
            "_model_module_version": "1.5.0",
            "value": " 83.3M/83.3M [03:55&lt;00:00, 371kB/s]",
            "_view_count": null,
            "_view_module_version": "1.5.0",
            "description_tooltip": null,
            "_model_module": "@jupyter-widgets/controls",
            "layout": "IPY_MODEL_74a6f8bb46c44fad875b1d0b60e73abc"
          }
        },
        "b3968d35a9b4458ab021e449943770fc": {
          "model_module": "@jupyter-widgets/controls",
          "model_name": "ProgressStyleModel",
          "state": {
            "_view_name": "StyleView",
            "_model_name": "ProgressStyleModel",
            "description_width": "initial",
            "_view_module": "@jupyter-widgets/base",
            "_model_module_version": "1.5.0",
            "_view_count": null,
            "_view_module_version": "1.2.0",
            "bar_color": null,
            "_model_module": "@jupyter-widgets/controls"
          }
        },
        "fbe3db57303d418999bc5e61b9c335bc": {
          "model_module": "@jupyter-widgets/base",
          "model_name": "LayoutModel",
          "state": {
            "_view_name": "LayoutView",
            "grid_template_rows": null,
            "right": null,
            "justify_content": null,
            "_view_module": "@jupyter-widgets/base",
            "overflow": null,
            "_model_module_version": "1.2.0",
            "_view_count": null,
            "flex_flow": null,
            "width": null,
            "min_width": null,
            "border": null,
            "align_items": null,
            "bottom": null,
            "_model_module": "@jupyter-widgets/base",
            "top": null,
            "grid_column": null,
            "overflow_y": null,
            "overflow_x": null,
            "grid_auto_flow": null,
            "grid_area": null,
            "grid_template_columns": null,
            "flex": null,
            "_model_name": "LayoutModel",
            "justify_items": null,
            "grid_row": null,
            "max_height": null,
            "align_content": null,
            "visibility": null,
            "align_self": null,
            "height": null,
            "min_height": null,
            "padding": null,
            "grid_auto_rows": null,
            "grid_gap": null,
            "max_width": null,
            "order": null,
            "_view_module_version": "1.2.0",
            "grid_template_areas": null,
            "object_position": null,
            "object_fit": null,
            "grid_auto_columns": null,
            "margin": null,
            "display": null,
            "left": null
          }
        },
        "90f8df4d462f4f5f8f23e93fe7edf79b": {
          "model_module": "@jupyter-widgets/controls",
          "model_name": "DescriptionStyleModel",
          "state": {
            "_view_name": "StyleView",
            "_model_name": "DescriptionStyleModel",
            "description_width": "",
            "_view_module": "@jupyter-widgets/base",
            "_model_module_version": "1.5.0",
            "_view_count": null,
            "_view_module_version": "1.2.0",
            "_model_module": "@jupyter-widgets/controls"
          }
        },
        "74a6f8bb46c44fad875b1d0b60e73abc": {
          "model_module": "@jupyter-widgets/base",
          "model_name": "LayoutModel",
          "state": {
            "_view_name": "LayoutView",
            "grid_template_rows": null,
            "right": null,
            "justify_content": null,
            "_view_module": "@jupyter-widgets/base",
            "overflow": null,
            "_model_module_version": "1.2.0",
            "_view_count": null,
            "flex_flow": null,
            "width": null,
            "min_width": null,
            "border": null,
            "align_items": null,
            "bottom": null,
            "_model_module": "@jupyter-widgets/base",
            "top": null,
            "grid_column": null,
            "overflow_y": null,
            "overflow_x": null,
            "grid_auto_flow": null,
            "grid_area": null,
            "grid_template_columns": null,
            "flex": null,
            "_model_name": "LayoutModel",
            "justify_items": null,
            "grid_row": null,
            "max_height": null,
            "align_content": null,
            "visibility": null,
            "align_self": null,
            "height": null,
            "min_height": null,
            "padding": null,
            "grid_auto_rows": null,
            "grid_gap": null,
            "max_width": null,
            "order": null,
            "_view_module_version": "1.2.0",
            "grid_template_areas": null,
            "object_position": null,
            "object_fit": null,
            "grid_auto_columns": null,
            "margin": null,
            "display": null,
            "left": null
          }
        }
      }
    }
  },
  "cells": [
    {
      "cell_type": "markdown",
      "metadata": {
        "id": "xSmXB9NX7JGM"
      },
      "source": [
        "# CNN-Transformer"
      ]
    },
    {
      "cell_type": "markdown",
      "metadata": {
        "id": "Dj-7Q2vvDZl-"
      },
      "source": [
        "## Dependences"
      ]
    },
    {
      "cell_type": "code",
      "metadata": {
        "colab": {
          "base_uri": "https://localhost:8080/"
        },
        "id": "n2H3pD4GrRKN",
        "outputId": "f1b469cd-e08a-40e7-ced4-33d19378c41d"
      },
      "source": [
        "!nvidia-smi"
      ],
      "execution_count": null,
      "outputs": [
        {
          "output_type": "stream",
          "text": [
            "Mon Apr 26 20:45:21 2021       \n",
            "+-----------------------------------------------------------------------------+\n",
            "| NVIDIA-SMI 465.19.01    Driver Version: 460.32.03    CUDA Version: 11.2     |\n",
            "|-------------------------------+----------------------+----------------------+\n",
            "| GPU  Name        Persistence-M| Bus-Id        Disp.A | Volatile Uncorr. ECC |\n",
            "| Fan  Temp  Perf  Pwr:Usage/Cap|         Memory-Usage | GPU-Util  Compute M. |\n",
            "|                               |                      |               MIG M. |\n",
            "|===============================+======================+======================|\n",
            "|   0  Tesla T4            Off  | 00000000:00:04.0 Off |                    0 |\n",
            "| N/A   67C    P8    11W /  70W |      0MiB / 15109MiB |      0%      Default |\n",
            "|                               |                      |                  N/A |\n",
            "+-------------------------------+----------------------+----------------------+\n",
            "                                                                               \n",
            "+-----------------------------------------------------------------------------+\n",
            "| Processes:                                                                  |\n",
            "|  GPU   GI   CI        PID   Type   Process name                  GPU Memory |\n",
            "|        ID   ID                                                   Usage      |\n",
            "|=============================================================================|\n",
            "|  No running processes found                                                 |\n",
            "+-----------------------------------------------------------------------------+\n"
          ],
          "name": "stdout"
        }
      ]
    },
    {
      "cell_type": "code",
      "metadata": {
        "colab": {
          "base_uri": "https://localhost:8080/"
        },
        "id": "LLbLrZhUnbhs",
        "outputId": "32259543-1d62-4409-a29c-35c880784559"
      },
      "source": [
        "!pip install ffmpeg-python"
      ],
      "execution_count": null,
      "outputs": [
        {
          "output_type": "stream",
          "text": [
            "Collecting ffmpeg-python\n",
            "  Downloading https://files.pythonhosted.org/packages/d7/0c/56be52741f75bad4dc6555991fabd2e07b432d333da82c11ad701123888a/ffmpeg_python-0.2.0-py3-none-any.whl\n",
            "Requirement already satisfied: future in /usr/local/lib/python3.7/dist-packages (from ffmpeg-python) (0.16.0)\n",
            "Installing collected packages: ffmpeg-python\n",
            "Successfully installed ffmpeg-python-0.2.0\n"
          ],
          "name": "stdout"
        }
      ]
    },
    {
      "cell_type": "code",
      "metadata": {
        "id": "BF8XH99LcxmV"
      },
      "source": [
        "import os\n",
        "import cv2\n",
        "import ffmpeg\n",
        "from PIL import Image\n",
        "import numpy as np\n",
        "from torch.utils import data\n",
        "import torch\n",
        "import torch.nn as nn\n",
        "import torch.nn.functional as F\n",
        "import torchvision.models as models\n",
        "import torchvision.transforms as transforms\n",
        "from tqdm import tqdm\n",
        "import requests\n",
        "import math\n",
        "import glob\n",
        "import random\n",
        "from random import choice\n",
        "from sklearn.metrics import accuracy_score, f1_score, confusion_matrix, roc_auc_score\n",
        "import matplotlib.pyplot as plt"
      ],
      "execution_count": null,
      "outputs": []
    },
    {
      "cell_type": "code",
      "metadata": {
        "id": "CxKHcYo71lRV"
      },
      "source": [
        "device = torch.device(\"cuda\" if torch.cuda.is_available() else \"cpu\")"
      ],
      "execution_count": null,
      "outputs": []
    },
    {
      "cell_type": "code",
      "metadata": {
        "id": "F9PZXpS79DWk"
      },
      "source": [
        "SEED = 42\n",
        "\n",
        "def seed_everything(seed):\n",
        "    random.seed(seed)\n",
        "    os.environ['PYTHONHASHSEED'] = str(seed)\n",
        "    np.random.seed(seed)\n",
        "    torch.manual_seed(seed)\n",
        "    torch.cuda.manual_seed(seed)\n",
        "    torch.backends.cudnn.deterministic = False\n",
        "    torch.backends.cudnn.benchmark = True\n",
        "\n",
        "seed_everything(SEED)"
      ],
      "execution_count": null,
      "outputs": []
    },
    {
      "cell_type": "markdown",
      "metadata": {
        "id": "5TsKdzsuDgRB"
      },
      "source": [
        "## Data"
      ]
    },
    {
      "cell_type": "code",
      "metadata": {
        "colab": {
          "base_uri": "https://localhost:8080/"
        },
        "id": "u1WHKFeTzJfL",
        "outputId": "dd28f0ea-e283-4ad1-a992-02701f775769"
      },
      "source": [
        "%%time\n",
        "!gdown --id 1SB0qwhhlEFH1DZNeaFrsGEbYfWerRxWc"
      ],
      "execution_count": null,
      "outputs": [
        {
          "output_type": "stream",
          "text": [
            "Downloading...\n",
            "From: https://drive.google.com/uc?id=1SB0qwhhlEFH1DZNeaFrsGEbYfWerRxWc\n",
            "To: /content/combined_ds.tar.gz\n",
            "6.55GB [02:12, 49.5MB/s]\n",
            "CPU times: user 2.11 s, sys: 362 ms, total: 2.47 s\n",
            "Wall time: 5min 25s\n"
          ],
          "name": "stdout"
        }
      ]
    },
    {
      "cell_type": "code",
      "metadata": {
        "colab": {
          "base_uri": "https://localhost:8080/"
        },
        "id": "k3CHoOXNVubv",
        "outputId": "8801e191-df02-43fc-e92f-dacd93ab8573"
      },
      "source": [
        "%%time\n",
        "!tar xzf combined_ds.tar.gz"
      ],
      "execution_count": null,
      "outputs": [
        {
          "output_type": "stream",
          "text": [
            "CPU times: user 818 ms, sys: 122 ms, total: 940 ms\n",
            "Wall time: 3min 8s\n"
          ],
          "name": "stdout"
        }
      ]
    },
    {
      "cell_type": "code",
      "metadata": {
        "colab": {
          "base_uri": "https://localhost:8080/"
        },
        "id": "2jryH63puAv9",
        "outputId": "9e752be4-4b5f-4a89-f6f9-06838b9f9150"
      },
      "source": [
        "dir_1 = '/content/irina/attack/opt/labeler/static/video/api'\n",
        "images_1 = glob.glob(dir_1 + '/*.*') + glob.glob(dir_1 + '/*/*.*')\n",
        "len(images_1)"
      ],
      "execution_count": null,
      "outputs": [
        {
          "output_type": "execute_result",
          "data": {
            "text/plain": [
              "48"
            ]
          },
          "metadata": {
            "tags": []
          },
          "execution_count": 8
        }
      ]
    },
    {
      "cell_type": "code",
      "metadata": {
        "colab": {
          "base_uri": "https://localhost:8080/"
        },
        "id": "WuBjq2Iqwynz",
        "outputId": "07b9deac-b707-4bd7-acf1-2ac5085889c7"
      },
      "source": [
        "dir_2 = '/content/irina/original/opt/labeler/static/video/api'\n",
        "images_2 = glob.glob(dir_2 + '/*.*') + glob.glob(dir_2 + '/*/*.*')\n",
        "len(images_2)"
      ],
      "execution_count": null,
      "outputs": [
        {
          "output_type": "execute_result",
          "data": {
            "text/plain": [
              "5092"
            ]
          },
          "metadata": {
            "tags": []
          },
          "execution_count": 9
        }
      ]
    },
    {
      "cell_type": "code",
      "metadata": {
        "colab": {
          "base_uri": "https://localhost:8080/"
        },
        "id": "mT-EcMSA6F-a",
        "outputId": "79f2a51c-c328-4d3a-9553-d6a785728875"
      },
      "source": [
        "train_threshold = 40\n",
        "train_images = images_1[:40] + images_2[:5052]\n",
        "train_labels = [1 for i in range(train_threshold)] + [0 for i in range(len(train_images)-train_threshold)]\n",
        "print(len(train_images))"
      ],
      "execution_count": null,
      "outputs": [
        {
          "output_type": "stream",
          "text": [
            "5092\n"
          ],
          "name": "stdout"
        }
      ]
    },
    {
      "cell_type": "code",
      "metadata": {
        "colab": {
          "base_uri": "https://localhost:8080/"
        },
        "id": "_8iYtxpv4HGT",
        "outputId": "29874378-ef7f-4b72-ef9a-f80f6fea0d29"
      },
      "source": [
        "val_images = images_1[-8:] + images_2[-40:]\n",
        "val_labels = [1 for i in range(8)] + [0 for i in range(40)]\n",
        "print(len(val_images))"
      ],
      "execution_count": null,
      "outputs": [
        {
          "output_type": "stream",
          "text": [
            "48\n"
          ],
          "name": "stdout"
        }
      ]
    },
    {
      "cell_type": "markdown",
      "metadata": {
        "id": "d3TFupB2Dnk7"
      },
      "source": [
        "## Preprocessing"
      ]
    },
    {
      "cell_type": "code",
      "metadata": {
        "id": "k2ZRoG55XqHD"
      },
      "source": [
        "h, w = 224, 224\n",
        "mean = [0.485, 0.456, 0.406]\n",
        "std = [0.229, 0.224, 0.225]"
      ],
      "execution_count": null,
      "outputs": []
    },
    {
      "cell_type": "code",
      "metadata": {
        "id": "nYvEHxN0saVf"
      },
      "source": [
        "def check_rotation(path_video_file):\n",
        "\n",
        "    meta_dict = ffmpeg.probe(path_video_file)\n",
        "\n",
        "    rotateCode = None\n",
        "    try:\n",
        "        if int(meta_dict['streams'][0]['tags']['rotate']) == 90:\n",
        "            rotateCode = cv2.ROTATE_90_CLOCKWISE\n",
        "        elif int(meta_dict['streams'][0]['tags']['rotate']) == 180:\n",
        "            rotateCode = cv2.ROTATE_180\n",
        "        elif int(meta_dict['streams'][0]['tags']['rotate']) == 270:\n",
        "            rotateCode = cv2.ROTATE_90_COUNTERCLOCKWISE\n",
        "    except: \n",
        "        pass\n",
        "        \n",
        "    return rotateCode"
      ],
      "execution_count": null,
      "outputs": []
    },
    {
      "cell_type": "code",
      "metadata": {
        "id": "_C7Fyc_bsc_V"
      },
      "source": [
        "def correct_rotation(frame, rotateCode):  \n",
        "    return cv2.rotate(frame, rotateCode)"
      ],
      "execution_count": null,
      "outputs": []
    },
    {
      "cell_type": "code",
      "metadata": {
        "id": "tcigkDg4cz_7"
      },
      "source": [
        "def get_frames(filename, n_max=float('inf')):\n",
        "    \n",
        "    frames = []\n",
        "    v_cap = cv2.VideoCapture(filename)\n",
        "    rotateCode = check_rotation(filename)\n",
        "    v_len = int(v_cap.get(cv2.CAP_PROP_FRAME_COUNT))\n",
        "    \n",
        "    n_frames = min(v_len, n_max)\n",
        "    frame_list= np.linspace(0, v_len-1, n_frames, dtype=np.int16)\n",
        "\n",
        "    for fn in range(v_len):\n",
        "        success, frame = v_cap.read()\n",
        "        if success is False:\n",
        "            continue\n",
        "        if (fn in frame_list):\n",
        "            frame = cv2.cvtColor(frame, cv2.COLOR_BGR2RGB)\n",
        "            if rotateCode is not None:\n",
        "                frame = correct_rotation(frame, rotateCode)  \n",
        "            frames.append(frame)\n",
        "\n",
        "    v_cap.release()\n",
        "\n",
        "    return frames, len(frames)"
      ],
      "execution_count": null,
      "outputs": []
    },
    {
      "cell_type": "code",
      "metadata": {
        "id": "ZunZ2svjYKM-"
      },
      "source": [
        "def transform_frames(frames, train=True):\n",
        "\n",
        "    img_transforms_0 = transforms.Compose([\n",
        "                transforms.Resize((h,w)),\n",
        "                transforms.ToTensor(),\n",
        "                transforms.Normalize(mean, std)])\n",
        "    img_transforms_1 = transforms.Compose([\n",
        "                transforms.Resize((h,w)),\n",
        "                transforms.Grayscale(num_output_channels=3),\n",
        "                transforms.ToTensor(),\n",
        "                transforms.Normalize(mean, std)])\n",
        "    img_transforms_2 = transforms.Compose([\n",
        "                transforms.Resize((h,w)),\n",
        "                transforms.RandomHorizontalFlip(p=1.),\n",
        "                transforms.ToTensor(),\n",
        "                transforms.Normalize(mean, std)])\n",
        "    img_transforms_3 = transforms.Compose([\n",
        "                transforms.Resize((h,w)),\n",
        "                transforms.Grayscale(num_output_channels=3),\n",
        "                transforms.RandomHorizontalFlip(p=1.),\n",
        "                transforms.ToTensor(),\n",
        "                transforms.Normalize(mean, std)])\n",
        "    \n",
        "    img_transforms = [img_transforms_0, \n",
        "                      img_transforms_1, \n",
        "                      img_transforms_2, \n",
        "                      img_transforms_3] \n",
        "    if train:\n",
        "        img_transform = random.choice(img_transforms)\n",
        "    else:\n",
        "        img_transform = img_transforms_0\n",
        "    \n",
        "    frames_tr = []\n",
        "    for frame in frames:\n",
        "        frame = Image.fromarray(frame)       \n",
        "        frame_tr = img_transform(frame)\n",
        "        frames_tr.append(frame_tr)\n",
        "        \n",
        "    imgs_tensor = torch.stack(frames_tr)    \n",
        "\n",
        "    return imgs_tensor"
      ],
      "execution_count": null,
      "outputs": []
    },
    {
      "cell_type": "markdown",
      "metadata": {
        "id": "9ES92OoTDy8d"
      },
      "source": [
        "## Model"
      ]
    },
    {
      "cell_type": "code",
      "metadata": {
        "id": "d9_de_h6XqbJ"
      },
      "source": [
        "class CNNEncoder(nn.Module):\n",
        "\n",
        "    def __init__(self, pretrained=True):\n",
        "        super(CNNEncoder, self).__init__()\n",
        "        \n",
        "        resnet = models.resnet34(pretrained=pretrained) \n",
        "\n",
        "        # Удаляем последний линейный слой\n",
        "        # На выходе будем получать тензор (batch_size, 512, 1, 1)\n",
        "        modules = list(resnet.children())[:-1]\n",
        "        self.resnet = nn.Sequential(*modules)\n",
        "\n",
        "    def forward(self, image):\n",
        "\n",
        "        # (batch_size, 512, 1, 1)\n",
        "        out = self.resnet(image)\n",
        "\n",
        "        return out "
      ],
      "execution_count": null,
      "outputs": []
    },
    {
      "cell_type": "code",
      "metadata": {
        "id": "lALXvdbWtvQ4"
      },
      "source": [
        "class PositionalEncoding(nn.Module):\n",
        "    \n",
        "    def __init__(self, d_model, dropout=0.1, max_len=5000):\n",
        "        super(PositionalEncoding, self).__init__()\n",
        "        self.dropout = nn.Dropout(p=dropout)\n",
        "        self.scale = nn.Parameter(torch.ones(1))\n",
        "\n",
        "        pe = torch.zeros(max_len, d_model)\n",
        "        position = torch.arange(0, max_len, dtype=torch.float).unsqueeze(1)\n",
        "        div_term = torch.exp(torch.arange(\n",
        "            0, d_model, 2).float() * (-math.log(10000.0) / d_model))\n",
        "        pe[:, 0::2] = torch.sin(position * div_term)\n",
        "        pe[:, 1::2] = torch.cos(position * div_term)\n",
        "        pe = pe.unsqueeze(0).transpose(0, 1)\n",
        "        self.register_buffer('pe', pe)\n",
        "\n",
        "    def forward(self, x):\n",
        "        x = x + self.scale * self.pe[:x.size(0), :]\n",
        "        return self.dropout(x)"
      ],
      "execution_count": null,
      "outputs": []
    },
    {
      "cell_type": "code",
      "metadata": {
        "id": "vuD-90_DYliD"
      },
      "source": [
        "class CNN_Transformer(nn.Module):\n",
        "    def __init__(self, num_classes, nlayers, hidden, nhead, dim_feedforward, dropout=0, activation='relu'):\n",
        "\n",
        "        super(CNN_Transformer, self).__init__()\n",
        "\n",
        "        self.hidden = hidden\n",
        "        self.dropout= nn.Dropout(dropout)\n",
        "        self.cnn = CNNEncoder()\n",
        "        self.conv = nn.Conv2d(512, hidden, 1)\n",
        "        self.pos = PositionalEncoding(hidden) \n",
        "        encoder_layer = nn.TransformerEncoderLayer(hidden, nhead, dim_feedforward, dropout, activation)\n",
        "        encoder_norm = nn.LayerNorm(hidden)\n",
        "        self.transformer = nn.TransformerEncoder(encoder_layer, nlayers, encoder_norm)\n",
        "        self.fc = nn.Linear(hidden*1, num_classes)\n",
        "\n",
        "    def forward(self, frames, f_lens, mask):\n",
        "\n",
        "        bs, s, c, height, width = frames.shape\n",
        "        frames_emb = torch.zeros(s, bs, self.hidden).to(device)\n",
        "\n",
        "        for i in range(s):\n",
        "            img_emb = self.cnn(frames[:, i])\n",
        "            img_emb = torch.relu(self.conv(img_emb))\n",
        "            frames_emb[i] = img_emb.view(bs, -1)\n",
        "\n",
        "        frames_emb = self.pos(frames_emb) \n",
        "        out = self.transformer(src=frames_emb, src_key_padding_mask=mask)\n",
        "        out = self.fc(self.dropout(torch.max(out, 0)[0]))\n",
        " \n",
        "        return out"
      ],
      "execution_count": null,
      "outputs": []
    },
    {
      "cell_type": "markdown",
      "metadata": {
        "id": "1TNU7zq1l9Bd"
      },
      "source": [
        "## Configuration"
      ]
    },
    {
      "cell_type": "code",
      "metadata": {
        "id": "Xx8c5HWpUHJc",
        "colab": {
          "base_uri": "https://localhost:8080/",
          "height": 104,
          "referenced_widgets": [
            "1b2fa26fe364470490916ff2b6d1ddee",
            "41941af846b84d22a3d7f3b438178380",
            "21cdb54335d446178d4c0771c653552d",
            "ef9fbd682f834f7589f0d32ef30431e1",
            "b3968d35a9b4458ab021e449943770fc",
            "fbe3db57303d418999bc5e61b9c335bc",
            "90f8df4d462f4f5f8f23e93fe7edf79b",
            "74a6f8bb46c44fad875b1d0b60e73abc"
          ]
        },
        "outputId": "2050b15e-09f8-4a71-ed40-ab279549c149"
      },
      "source": [
        "model = CNN_Transformer(num_classes=2, \n",
        "                        nlayers=1, \n",
        "                        hidden=32, \n",
        "                        nhead=4, \n",
        "                        dim_feedforward=128, \n",
        "                        dropout=0.5)"
      ],
      "execution_count": null,
      "outputs": [
        {
          "output_type": "stream",
          "text": [
            "Downloading: \"https://download.pytorch.org/models/resnet34-333f7ec4.pth\" to /root/.cache/torch/hub/checkpoints/resnet34-333f7ec4.pth\n"
          ],
          "name": "stderr"
        },
        {
          "output_type": "display_data",
          "data": {
            "application/vnd.jupyter.widget-view+json": {
              "model_id": "1b2fa26fe364470490916ff2b6d1ddee",
              "version_minor": 0,
              "version_major": 2
            },
            "text/plain": [
              "HBox(children=(FloatProgress(value=0.0, max=87306240.0), HTML(value='')))"
            ]
          },
          "metadata": {
            "tags": []
          }
        },
        {
          "output_type": "stream",
          "text": [
            "\n"
          ],
          "name": "stdout"
        }
      ]
    },
    {
      "cell_type": "code",
      "metadata": {
        "id": "D5cxquf2UHJf"
      },
      "source": [
        "model = model.to(device)"
      ],
      "execution_count": null,
      "outputs": []
    },
    {
      "cell_type": "code",
      "metadata": {
        "id": "g0LsRqI1UHJg"
      },
      "source": [
        "optimizer = torch.optim.AdamW(model.parameters(), \n",
        "                              lr = 0.00005)\n",
        "criterion = nn.CrossEntropyLoss()\n",
        "scheduler = torch.optim.lr_scheduler.StepLR(optimizer, \n",
        "                                            step_size=1, \n",
        "                                            gamma=0.5)"
      ],
      "execution_count": null,
      "outputs": []
    },
    {
      "cell_type": "code",
      "metadata": {
        "id": "f0HVY6XLUHJg"
      },
      "source": [
        "max_epochs = 500\n",
        "every_epochs = 50\n",
        "n_max = 40\n",
        "clip = 3"
      ],
      "execution_count": null,
      "outputs": []
    },
    {
      "cell_type": "markdown",
      "metadata": {
        "id": "VfJJL6_GGCgf"
      },
      "source": [
        "## Training"
      ]
    },
    {
      "cell_type": "code",
      "metadata": {
        "id": "416eecDSwLNh"
      },
      "source": [
        "def generate_batch(images, labels, batch_size, threshold=None, size=None, train=True, n_max=30):\n",
        "    \n",
        "    if train:\n",
        "        if size is None:\n",
        "            size = batch_size // 2\n",
        "        if threshold is None:\n",
        "            threshold = sum(labels)\n",
        "        n = random.randint(max(1, n_max-10), n_max+10)\n",
        "        index_1 = np.random.randint(0, threshold, size=size)\n",
        "        index_2 = np.random.randint(threshold, len(images), size=batch_size-size)\n",
        "        random_index = np.concatenate((index_1, index_2))\n",
        "        np.random.shuffle(random_index)\n",
        "        filenames = np.array(images)[random_index]\n",
        "        batch_labels = np.array(labels)[random_index]\n",
        "    else:\n",
        "        n = n_max\n",
        "        filenames = np.array(images)\n",
        "        batch_labels = np.array(labels)\n",
        "\n",
        "    batch_images = []\n",
        "    f_lens = []\n",
        "\n",
        "    for filename in filenames:\n",
        "        frames, f_len = get_frames(filename, n_max=n)\n",
        "        f_lens.append(f_len)\n",
        "        img_tensor = transform_frames(frames, train)\n",
        "        batch_images.append(img_tensor)\n",
        "\n",
        "    max_len = np.max(f_lens)\n",
        "\n",
        "    _, c, h, w = batch_images[0].shape\n",
        "    batch_images_padded = torch.zeros((batch_size, max_len, c, h, w)) \n",
        "    mask = [] \n",
        "\n",
        "    for i, img in enumerate(batch_images):\n",
        "\n",
        "        batch_images_padded[i, :f_lens[i], :, :, :] = img\n",
        "        mask.append([False for j in range(f_lens[i])] + [True for j in range(max_len-f_lens[i])])\n",
        "    \n",
        "    return batch_images_padded, torch.LongTensor(batch_labels), torch.LongTensor(f_lens), torch.tensor(mask)"
      ],
      "execution_count": null,
      "outputs": []
    },
    {
      "cell_type": "code",
      "metadata": {
        "id": "g5OpYK0ryqMc"
      },
      "source": [
        "def evaluate(model, criterion, val_images, val_labels, batch_size):\n",
        "    \n",
        "    model.eval()\n",
        "    \n",
        "    epoch_loss = 0\n",
        "    f1 = 0\n",
        "    outputs = []\n",
        "\n",
        "    # Не учитываем последний неполный батч\n",
        "    val_size = len(val_images) // batch_size * batch_size\n",
        "    \n",
        "    with torch.no_grad():\n",
        "    \n",
        "        for i in range(0, val_size, batch_size):\n",
        "\n",
        "            batch = generate_batch(val_images[i:i+batch_size], val_labels[i:i+batch_size], batch_size=16, train=False)\n",
        "            labels = batch[1].to(device)\n",
        "        \n",
        "            output = model(batch[0].to(device), batch[2], batch[3].to(device))\n",
        "\n",
        "            loss = criterion(output, labels)\n",
        "            outputs += output.argmax(-1).tolist()\n",
        "            \n",
        "            epoch_loss += loss.item()\n",
        "    \n",
        "    f1 = f1_score(val_labels, outputs)\n",
        "    conf_matrix = confusion_matrix(val_labels, outputs)\n",
        "    roc_auc = roc_auc_score(val_labels, outputs)\n",
        "        \n",
        "    return epoch_loss / (val_size // batch_size), f1, conf_matrix, roc_auc"
      ],
      "execution_count": null,
      "outputs": []
    },
    {
      "cell_type": "code",
      "metadata": {
        "colab": {
          "base_uri": "https://localhost:8080/",
          "height": 1000
        },
        "id": "BanQSoKmUHJh",
        "outputId": "1a89dce4-e0c7-4afa-b4dd-896d7a0482e9"
      },
      "source": [
        "%%time\n",
        "best_f1 = 0\n",
        "best_loss = float('inf')\n",
        "epoch_loss = 0\n",
        "train_losses = []\n",
        "val_losses = []\n",
        "\n",
        "for epoch in range(1, max_epochs+1):\n",
        "\n",
        "    batch = generate_batch(images=train_images, \n",
        "                           labels=train_labels, \n",
        "                           batch_size=8, \n",
        "                           threshold=train_threshold, \n",
        "                           size=2, \n",
        "                           train=True, \n",
        "                           n_max=n_max)\n",
        "    labels = batch[1].to(device)\n",
        "    model.train()\n",
        "    optimizer.zero_grad()\n",
        "        \n",
        "    outputs = model(batch[0].to(device), batch[2], batch[3].to(device))\n",
        "\n",
        "    loss = criterion(outputs, labels)        \n",
        "    loss.backward()       \n",
        "    torch.nn.utils.clip_grad_norm_(model.parameters(), clip)       \n",
        "    optimizer.step()       \n",
        "    epoch_loss += loss.item()\n",
        "\n",
        "    if epoch % every_epochs == 0:\n",
        "        scheduler.step()\n",
        "        print('Epoch : {}'.format(epoch))\n",
        "        val_loss, val_f1, conf_matrix, val_roc_auc = evaluate(model, criterion, val_images, val_labels, batch_size=16)   \n",
        "        print('Train loss : {}'.format(epoch_loss / every_epochs))\n",
        "        print('Val loss   : {}'.format(val_loss))\n",
        "        print('Val f1     : {}'.format(val_f1))\n",
        "        print('Val roc auc: {}'.format(val_roc_auc))\n",
        "        print('Conf matrix:')\n",
        "        print(conf_matrix)\n",
        "        \n",
        "        train_losses.append(epoch_loss / every_epochs)\n",
        "        val_losses.append(val_loss)\n",
        "        if val_loss < best_loss:\n",
        "            best_loss = val_loss\n",
        "            torch.save(model.state_dict(), '/content/v1_CNN_Transformer_best_loss.pt')\n",
        "            print('Save best loss model')\n",
        "        if val_f1 > best_f1:\n",
        "            best_f1 = val_f1\n",
        "            torch.save(model.state_dict(), '/content/v1_CNN_Transformer_best_score.pt')\n",
        "            print('Save best score model')\n",
        "        epoch_loss = 0\n",
        "        print()\n",
        "\n",
        "plt.title(\"Losses\")\n",
        "plt.plot(train_losses, label=\"train loss\")\n",
        "plt.plot(val_losses, label=\"val loss\")\n",
        "plt.plot(np.argmin(val_losses), np.min(val_losses), marker=\"x\", color=\"r\", label=\"best val loss\")\n",
        "plt.xlabel(\"Epochs\")\n",
        "plt.ylabel(\"Losses\")\n",
        "plt.legend()\n",
        "plt.show()"
      ],
      "execution_count": null,
      "outputs": [
        {
          "output_type": "stream",
          "text": [
            "Epoch : 50\n",
            "Train loss : 0.4585861027240753\n",
            "Val loss   : 0.4264066467682521\n",
            "Val f1     : 0.5217391304347827\n",
            "Val roc auc: 0.7625\n",
            "Conf matrix:\n",
            "[[31  9]\n",
            " [ 2  6]]\n",
            "Save best loss model\n",
            "Save best score model\n",
            "\n",
            "Epoch : 100\n",
            "Train loss : 0.2307935396209359\n",
            "Val loss   : 0.7356205185254415\n",
            "Val f1     : 0.5\n",
            "Val roc auc: 0.8\n",
            "Conf matrix:\n",
            "[[24 16]\n",
            " [ 0  8]]\n",
            "\n",
            "Epoch : 150\n",
            "Train loss : 0.19274892047047615\n",
            "Val loss   : 0.5389986634254456\n",
            "Val f1     : 0.5925925925925926\n",
            "Val roc auc: 0.8625\n",
            "Conf matrix:\n",
            "[[29 11]\n",
            " [ 0  8]]\n",
            "Save best score model\n",
            "\n",
            "Epoch : 200\n",
            "Train loss : 0.1741849844902754\n",
            "Val loss   : 0.8765106002489725\n",
            "Val f1     : 0.47058823529411764\n",
            "Val roc auc: 0.775\n",
            "Conf matrix:\n",
            "[[22 18]\n",
            " [ 0  8]]\n",
            "\n",
            "Epoch : 250\n",
            "Train loss : 0.17326289158314467\n",
            "Val loss   : 0.19145090132951736\n",
            "Val f1     : 0.6666666666666666\n",
            "Val roc auc: 0.75\n",
            "Conf matrix:\n",
            "[[40  0]\n",
            " [ 4  4]]\n",
            "Save best loss model\n",
            "Save best score model\n",
            "\n",
            "Epoch : 300\n",
            "Train loss : 0.188678769338876\n",
            "Val loss   : 0.3219387133916219\n",
            "Val f1     : 0.7272727272727273\n",
            "Val roc auc: 0.9249999999999999\n",
            "Conf matrix:\n",
            "[[34  6]\n",
            " [ 0  8]]\n",
            "Save best score model\n",
            "\n",
            "Epoch : 350\n",
            "Train loss : 0.170063036698848\n",
            "Val loss   : 0.16411136339108148\n",
            "Val f1     : 0.7999999999999999\n",
            "Val roc auc: 0.8625\n",
            "Conf matrix:\n",
            "[[39  1]\n",
            " [ 2  6]]\n",
            "Save best loss model\n",
            "Save best score model\n",
            "\n",
            "Epoch : 400\n",
            "Train loss : 0.15977312877774238\n",
            "Val loss   : 0.3545411030451457\n",
            "Val f1     : 0.6666666666666666\n",
            "Val roc auc: 0.9\n",
            "Conf matrix:\n",
            "[[32  8]\n",
            " [ 0  8]]\n",
            "\n",
            "Epoch : 450\n",
            "Train loss : 0.13090138651430608\n",
            "Val loss   : 0.16094321012496948\n",
            "Val f1     : 0.875\n",
            "Val roc auc: 0.925\n",
            "Conf matrix:\n",
            "[[39  1]\n",
            " [ 1  7]]\n",
            "Save best loss model\n",
            "Save best score model\n",
            "\n",
            "Epoch : 500\n",
            "Train loss : 0.1482174947299063\n",
            "Val loss   : 0.17618182549873987\n",
            "Val f1     : 0.875\n",
            "Val roc auc: 0.925\n",
            "Conf matrix:\n",
            "[[39  1]\n",
            " [ 1  7]]\n",
            "\n"
          ],
          "name": "stdout"
        },
        {
          "output_type": "display_data",
          "data": {
            "image/png": "[encoded data removed]",
            "text/plain": [
              "<Figure size 432x288 with 1 Axes>"
            ]
          },
          "metadata": {
            "tags": [],
            "needs_background": "light"
          }
        },
        {
          "output_type": "stream",
          "text": [
            "CPU times: user 1h 1min 55s, sys: 14min 48s, total: 1h 16min 43s\n",
            "Wall time: 1h 7min 54s\n"
          ],
          "name": "stdout"
        }
      ]
    }
  ]
}