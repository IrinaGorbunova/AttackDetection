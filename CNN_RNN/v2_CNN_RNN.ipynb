{
  "nbformat": 4,
  "nbformat_minor": 0,
  "metadata": {
    "accelerator": "GPU",
    "colab": {
      "name": "rnn_10_plus_64_64_mean.ipynb",
      "provenance": [],
      "collapsed_sections": [],
      "toc_visible": true,
      "machine_shape": "hm"
    },
    "kernelspec": {
      "display_name": "Python 3",
      "name": "python3"
    },
    "widgets": {
      "application/vnd.jupyter.widget-state+json": {
        "84de9718fbe140439f89584ea291c999": {
          "model_module": "@jupyter-widgets/controls",
          "model_name": "HBoxModel",
          "state": {
            "_view_name": "HBoxView",
            "_dom_classes": [],
            "_model_name": "HBoxModel",
            "_view_module": "@jupyter-widgets/controls",
            "_model_module_version": "1.5.0",
            "_view_count": null,
            "_view_module_version": "1.5.0",
            "box_style": "",
            "layout": "IPY_MODEL_c0089bd962264541a0485257e60fa97f",
            "_model_module": "@jupyter-widgets/controls",
            "children": [
              "IPY_MODEL_4f0b650c8ebf4567b196006cbbd92f47",
              "IPY_MODEL_656024f8b65c4e329a752b3a7f62a8cf"
            ]
          }
        },
        "c0089bd962264541a0485257e60fa97f": {
          "model_module": "@jupyter-widgets/base",
          "model_name": "LayoutModel",
          "state": {
            "_view_name": "LayoutView",
            "grid_template_rows": null,
            "right": null,
            "justify_content": null,
            "_view_module": "@jupyter-widgets/base",
            "overflow": null,
            "_model_module_version": "1.2.0",
            "_view_count": null,
            "flex_flow": null,
            "width": null,
            "min_width": null,
            "border": null,
            "align_items": null,
            "bottom": null,
            "_model_module": "@jupyter-widgets/base",
            "top": null,
            "grid_column": null,
            "overflow_y": null,
            "overflow_x": null,
            "grid_auto_flow": null,
            "grid_area": null,
            "grid_template_columns": null,
            "flex": null,
            "_model_name": "LayoutModel",
            "justify_items": null,
            "grid_row": null,
            "max_height": null,
            "align_content": null,
            "visibility": null,
            "align_self": null,
            "height": null,
            "min_height": null,
            "padding": null,
            "grid_auto_rows": null,
            "grid_gap": null,
            "max_width": null,
            "order": null,
            "_view_module_version": "1.2.0",
            "grid_template_areas": null,
            "object_position": null,
            "object_fit": null,
            "grid_auto_columns": null,
            "margin": null,
            "display": null,
            "left": null
          }
        },
        "4f0b650c8ebf4567b196006cbbd92f47": {
          "model_module": "@jupyter-widgets/controls",
          "model_name": "FloatProgressModel",
          "state": {
            "_view_name": "ProgressView",
            "style": "IPY_MODEL_9160566c8d6a4415a29b39ff62e92db0",
            "_dom_classes": [],
            "description": "100%",
            "_model_name": "FloatProgressModel",
            "bar_style": "success",
            "max": 87306240,
            "_view_module": "@jupyter-widgets/controls",
            "_model_module_version": "1.5.0",
            "value": 87306240,
            "_view_count": null,
            "_view_module_version": "1.5.0",
            "orientation": "horizontal",
            "min": 0,
            "description_tooltip": null,
            "_model_module": "@jupyter-widgets/controls",
            "layout": "IPY_MODEL_1a55b835cfd94519855c8bf041797690"
          }
        },
        "656024f8b65c4e329a752b3a7f62a8cf": {
          "model_module": "@jupyter-widgets/controls",
          "model_name": "HTMLModel",
          "state": {
            "_view_name": "HTMLView",
            "style": "IPY_MODEL_ff3e7033766443d6abc8d682d8f041c7",
            "_dom_classes": [],
            "description": "",
            "_model_name": "HTMLModel",
            "placeholder": "​",
            "_view_module": "@jupyter-widgets/controls",
            "_model_module_version": "1.5.0",
            "value": " 83.3M/83.3M [04:20&lt;00:00, 335kB/s]",
            "_view_count": null,
            "_view_module_version": "1.5.0",
            "description_tooltip": null,
            "_model_module": "@jupyter-widgets/controls",
            "layout": "IPY_MODEL_3efd2a846e9f49c4bea5a92cbc3edfa7"
          }
        },
        "9160566c8d6a4415a29b39ff62e92db0": {
          "model_module": "@jupyter-widgets/controls",
          "model_name": "ProgressStyleModel",
          "state": {
            "_view_name": "StyleView",
            "_model_name": "ProgressStyleModel",
            "description_width": "initial",
            "_view_module": "@jupyter-widgets/base",
            "_model_module_version": "1.5.0",
            "_view_count": null,
            "_view_module_version": "1.2.0",
            "bar_color": null,
            "_model_module": "@jupyter-widgets/controls"
          }
        },
        "1a55b835cfd94519855c8bf041797690": {
          "model_module": "@jupyter-widgets/base",
          "model_name": "LayoutModel",
          "state": {
            "_view_name": "LayoutView",
            "grid_template_rows": null,
            "right": null,
            "justify_content": null,
            "_view_module": "@jupyter-widgets/base",
            "overflow": null,
            "_model_module_version": "1.2.0",
            "_view_count": null,
            "flex_flow": null,
            "width": null,
            "min_width": null,
            "border": null,
            "align_items": null,
            "bottom": null,
            "_model_module": "@jupyter-widgets/base",
            "top": null,
            "grid_column": null,
            "overflow_y": null,
            "overflow_x": null,
            "grid_auto_flow": null,
            "grid_area": null,
            "grid_template_columns": null,
            "flex": null,
            "_model_name": "LayoutModel",
            "justify_items": null,
            "grid_row": null,
            "max_height": null,
            "align_content": null,
            "visibility": null,
            "align_self": null,
            "height": null,
            "min_height": null,
            "padding": null,
            "grid_auto_rows": null,
            "grid_gap": null,
            "max_width": null,
            "order": null,
            "_view_module_version": "1.2.0",
            "grid_template_areas": null,
            "object_position": null,
            "object_fit": null,
            "grid_auto_columns": null,
            "margin": null,
            "display": null,
            "left": null
          }
        },
        "ff3e7033766443d6abc8d682d8f041c7": {
          "model_module": "@jupyter-widgets/controls",
          "model_name": "DescriptionStyleModel",
          "state": {
            "_view_name": "StyleView",
            "_model_name": "DescriptionStyleModel",
            "description_width": "",
            "_view_module": "@jupyter-widgets/base",
            "_model_module_version": "1.5.0",
            "_view_count": null,
            "_view_module_version": "1.2.0",
            "_model_module": "@jupyter-widgets/controls"
          }
        },
        "3efd2a846e9f49c4bea5a92cbc3edfa7": {
          "model_module": "@jupyter-widgets/base",
          "model_name": "LayoutModel",
          "state": {
            "_view_name": "LayoutView",
            "grid_template_rows": null,
            "right": null,
            "justify_content": null,
            "_view_module": "@jupyter-widgets/base",
            "overflow": null,
            "_model_module_version": "1.2.0",
            "_view_count": null,
            "flex_flow": null,
            "width": null,
            "min_width": null,
            "border": null,
            "align_items": null,
            "bottom": null,
            "_model_module": "@jupyter-widgets/base",
            "top": null,
            "grid_column": null,
            "overflow_y": null,
            "overflow_x": null,
            "grid_auto_flow": null,
            "grid_area": null,
            "grid_template_columns": null,
            "flex": null,
            "_model_name": "LayoutModel",
            "justify_items": null,
            "grid_row": null,
            "max_height": null,
            "align_content": null,
            "visibility": null,
            "align_self": null,
            "height": null,
            "min_height": null,
            "padding": null,
            "grid_auto_rows": null,
            "grid_gap": null,
            "max_width": null,
            "order": null,
            "_view_module_version": "1.2.0",
            "grid_template_areas": null,
            "object_position": null,
            "object_fit": null,
            "grid_auto_columns": null,
            "margin": null,
            "display": null,
            "left": null
          }
        }
      }
    }
  },
  "cells": [
    {
      "cell_type": "markdown",
      "metadata": {
        "id": "xSmXB9NX7JGM"
      },
      "source": [
        "# CNN-RNN"
      ]
    },
    {
      "cell_type": "markdown",
      "metadata": {
        "id": "Dj-7Q2vvDZl-"
      },
      "source": [
        "## Dependences"
      ]
    },
    {
      "cell_type": "code",
      "metadata": {
        "colab": {
          "base_uri": "https://localhost:8080/"
        },
        "id": "n2H3pD4GrRKN",
        "outputId": "c80546bc-7adf-4c10-bf70-89643042a379"
      },
      "source": [
        "!nvidia-smi"
      ],
      "execution_count": null,
      "outputs": [
        {
          "output_type": "stream",
          "text": [
            "Thu Apr 29 14:40:45 2021       \n",
            "+-----------------------------------------------------------------------------+\n",
            "| NVIDIA-SMI 465.19.01    Driver Version: 460.32.03    CUDA Version: 11.2     |\n",
            "|-------------------------------+----------------------+----------------------+\n",
            "| GPU  Name        Persistence-M| Bus-Id        Disp.A | Volatile Uncorr. ECC |\n",
            "| Fan  Temp  Perf  Pwr:Usage/Cap|         Memory-Usage | GPU-Util  Compute M. |\n",
            "|                               |                      |               MIG M. |\n",
            "|===============================+======================+======================|\n",
            "|   0  Tesla T4            Off  | 00000000:00:04.0 Off |                    0 |\n",
            "| N/A   62C    P8    11W /  70W |      0MiB / 15109MiB |      0%      Default |\n",
            "|                               |                      |                  N/A |\n",
            "+-------------------------------+----------------------+----------------------+\n",
            "                                                                               \n",
            "+-----------------------------------------------------------------------------+\n",
            "| Processes:                                                                  |\n",
            "|  GPU   GI   CI        PID   Type   Process name                  GPU Memory |\n",
            "|        ID   ID                                                   Usage      |\n",
            "|=============================================================================|\n",
            "|  No running processes found                                                 |\n",
            "+-----------------------------------------------------------------------------+\n"
          ],
          "name": "stdout"
        }
      ]
    },
    {
      "cell_type": "code",
      "metadata": {
        "colab": {
          "base_uri": "https://localhost:8080/"
        },
        "id": "LLbLrZhUnbhs",
        "outputId": "56fbe86a-7887-40e9-a20a-ee15b963f3a9"
      },
      "source": [
        "!pip install ffmpeg-python"
      ],
      "execution_count": null,
      "outputs": [
        {
          "output_type": "stream",
          "text": [
            "Collecting ffmpeg-python\n",
            "  Downloading https://files.pythonhosted.org/packages/d7/0c/56be52741f75bad4dc6555991fabd2e07b432d333da82c11ad701123888a/ffmpeg_python-0.2.0-py3-none-any.whl\n",
            "Requirement already satisfied: future in /usr/local/lib/python3.7/dist-packages (from ffmpeg-python) (0.16.0)\n",
            "Installing collected packages: ffmpeg-python\n",
            "Successfully installed ffmpeg-python-0.2.0\n"
          ],
          "name": "stdout"
        }
      ]
    },
    {
      "cell_type": "code",
      "metadata": {
        "id": "BF8XH99LcxmV"
      },
      "source": [
        "import os\n",
        "import cv2\n",
        "import ffmpeg\n",
        "from PIL import Image\n",
        "import numpy as np\n",
        "from torch.utils import data\n",
        "import torch\n",
        "import torch.nn as nn\n",
        "import torch.nn.functional as F\n",
        "import torchvision.models as models\n",
        "import torchvision.transforms as transforms\n",
        "from tqdm import tqdm\n",
        "import requests\n",
        "import math\n",
        "import glob\n",
        "import random\n",
        "from random import choice\n",
        "from sklearn.metrics import accuracy_score, f1_score, confusion_matrix, roc_auc_score\n",
        "import matplotlib.pyplot as plt"
      ],
      "execution_count": null,
      "outputs": []
    },
    {
      "cell_type": "code",
      "metadata": {
        "id": "CxKHcYo71lRV"
      },
      "source": [
        "device = torch.device(\"cuda\" if torch.cuda.is_available() else \"cpu\")"
      ],
      "execution_count": null,
      "outputs": []
    },
    {
      "cell_type": "code",
      "metadata": {
        "id": "F9PZXpS79DWk"
      },
      "source": [
        "SEED = 42\n",
        "\n",
        "def seed_everything(seed):\n",
        "    random.seed(seed)\n",
        "    os.environ['PYTHONHASHSEED'] = str(seed)\n",
        "    np.random.seed(seed)\n",
        "    torch.manual_seed(seed)\n",
        "    torch.cuda.manual_seed(seed)\n",
        "    torch.backends.cudnn.deterministic = False\n",
        "    torch.backends.cudnn.benchmark = True\n",
        "\n",
        "seed_everything(SEED)"
      ],
      "execution_count": null,
      "outputs": []
    },
    {
      "cell_type": "markdown",
      "metadata": {
        "id": "5TsKdzsuDgRB"
      },
      "source": [
        "## Data"
      ]
    },
    {
      "cell_type": "code",
      "metadata": {
        "id": "u1WHKFeTzJfL"
      },
      "source": [
        "# %%time\n",
        "# !gdown --id 1SB0qwhhlEFH1DZNeaFrsGEbYfWerRxWc"
      ],
      "execution_count": null,
      "outputs": []
    },
    {
      "cell_type": "code",
      "metadata": {
        "id": "etC2F6MAXhlC",
        "colab": {
          "base_uri": "https://localhost:8080/"
        },
        "outputId": "e0adca45-ecb8-4432-87b4-3ed9f3921303"
      },
      "source": [
        "from google.colab import drive\n",
        "drive.mount('/content/drive')"
      ],
      "execution_count": null,
      "outputs": [
        {
          "output_type": "stream",
          "text": [
            "Mounted at /content/drive\n"
          ],
          "name": "stdout"
        }
      ]
    },
    {
      "cell_type": "code",
      "metadata": {
        "colab": {
          "base_uri": "https://localhost:8080/"
        },
        "id": "k3CHoOXNVubv",
        "outputId": "41f48569-2a03-4a83-9e60-5642f7e2f197"
      },
      "source": [
        "%%time\n",
        "!tar xzf '/content/drive/MyDrive/combined_ds.tar.gz' #combined_ds.tar.gz #"
      ],
      "execution_count": null,
      "outputs": [
        {
          "output_type": "stream",
          "text": [
            "CPU times: user 1.35 s, sys: 208 ms, total: 1.56 s\n",
            "Wall time: 5min 5s\n"
          ],
          "name": "stdout"
        }
      ]
    },
    {
      "cell_type": "code",
      "metadata": {
        "colab": {
          "base_uri": "https://localhost:8080/"
        },
        "id": "3KSKl9OeoKPD",
        "outputId": "9dc63bc8-eb2e-4acf-e1ad-77de41fe4bc8"
      },
      "source": [
        "%%time\n",
        "!unrar x '/content/drive/MyDrive/CASIA_faceAntisp.rar'"
      ],
      "execution_count": null,
      "outputs": [
        {
          "output_type": "stream",
          "text": [
            "\n",
            "UNRAR 5.50 freeware      Copyright (c) 1993-2017 Alexander Roshal\n",
            "\n",
            "\n",
            "Extracting from /content/drive/MyDrive/CASIA_faceAntisp.rar\n",
            "\n",
            "You can download the datset from here : https://pan.baidu.com/s/15HyX7tizCCuwN9BKiV9_zA\n",
            "Password: h5un\n",
            "however, the labels are missing!\n",
            "\n",
            "see https://github.com/mnikitin/Learn-Convolutional-Neural-Network-for-Face-Anti-Spoofing/issues/5#issuecomment-667916800\n",
            "\n",
            "Creating    test_release                                              OK\n",
            "Creating    test_release/18                                           OK\n",
            "Extracting  test_release/18/1.avi                                        \b\b\b\b  0%\b\b\b\b\b  OK \n",
            "Creating    train_release                                             OK\n",
            "Creating    train_release/19                                          OK\n",
            "Extracting  train_release/19/1.avi                                       \b\b\b\b  0%\b\b\b\b\b  OK \n",
            "Creating    train_release/17                                          OK\n",
            "Extracting  train_release/17/1.avi                                       \b\b\b\b  0%\b\b\b\b\b  OK \n",
            "Creating    test_release/11                                           OK\n",
            "Extracting  test_release/11/1.avi                                        \b\b\b\b  0%\b\b\b\b\b  OK \n",
            "Creating    test_release/27                                           OK\n",
            "Extracting  test_release/27/1.avi                                        \b\b\b\b  0%\b\b\b\b\b  OK \n",
            "Creating    test_release/25                                           OK\n",
            "Extracting  test_release/25/1.avi                                        \b\b\b\b  0%\b\b\b\b\b  OK \n",
            "Creating    test_release/21                                           OK\n",
            "Extracting  test_release/21/1.avi                                        \b\b\b\b  0%\b\b\b\b\b  OK \n",
            "Creating    train_release/20                                          OK\n",
            "Extracting  train_release/20/1.avi                                       \b\b\b\b  0%\b\b\b\b\b  OK \n",
            "Creating    test_release/23                                           OK\n",
            "Extracting  test_release/23/1.avi                                        \b\b\b\b  0%\b\b\b\b\b  OK \n",
            "Creating    test_release/6                                            OK\n",
            "Extracting  test_release/6/1.avi                                         \b\b\b\b  0%\b\b\b\b\b  OK \n",
            "Creating    test_release/5                                            OK\n",
            "Extracting  test_release/5/1.avi                                         \b\b\b\b  0%\b\b\b\b\b  OK \n",
            "Creating    train_release/2                                           OK\n",
            "Extracting  train_release/2/1.avi                                        \b\b\b\b  0%\b\b\b\b\b  OK \n",
            "Creating    test_release/19                                           OK\n",
            "Extracting  test_release/19/1.avi                                        \b\b\b\b  0%\b\b\b\b\b  OK \n",
            "Creating    test_release/7                                            OK\n",
            "Extracting  test_release/7/1.avi                                         \b\b\b\b  0%\b\b\b\b\b  OK \n",
            "Creating    train_release/6                                           OK\n",
            "Extracting  train_release/6/1.avi                                        \b\b\b\b  0%\b\b\b\b\b  OK \n",
            "Creating    train_release/16                                          OK\n",
            "Extracting  train_release/16/1.avi                                       \b\b\b\b  0%\b\b\b\b\b  OK \n",
            "Creating    train_release/10                                          OK\n",
            "Extracting  train_release/10/1.avi                                       \b\b\b\b  0%\b\b\b\b\b  OK \n",
            "Creating    test_release/10                                           OK\n",
            "Extracting  test_release/10/1.avi                                        \b\b\b\b  0%\b\b\b\b\b  OK \n",
            "Creating    test_release/22                                           OK\n",
            "Extracting  test_release/22/1.avi                                        \b\b\b\b  1%\b\b\b\b\b  OK \n",
            "Creating    test_release/4                                            OK\n",
            "Extracting  test_release/4/1.avi                                         \b\b\b\b  1%\b\b\b\b\b  OK \n",
            "Creating    test_release/29                                           OK\n",
            "Extracting  test_release/29/1.avi                                        \b\b\b\b  1%\b\b\b\b\b  OK \n",
            "Creating    test_release/9                                            OK\n",
            "Extracting  test_release/9/1.avi                                         \b\b\b\b  1%\b\b\b\b\b  OK \n",
            "Creating    test_release/17                                           OK\n",
            "Extracting  test_release/17/1.avi                                        \b\b\b\b  1%\b\b\b\b\b  OK \n",
            "Creating    test_release/2                                            OK\n",
            "Extracting  test_release/2/1.avi                                         \b\b\b\b  1%\b\b\b\b\b  OK \n",
            "Creating    test_release/1                                            OK\n",
            "Extracting  test_release/1/1.avi                                         \b\b\b\b  1%\b\b\b\b\b  OK \n",
            "Creating    train_release/15                                          OK\n",
            "Extracting  train_release/15/1.avi                                       \b\b\b\b  1%\b\b\b\b\b  OK \n",
            "Creating    test_release/26                                           OK\n",
            "Extracting  test_release/26/1.avi                                        \b\b\b\b  1%\b\b\b\b\b  OK \n",
            "Creating    test_release/16                                           OK\n",
            "Extracting  test_release/16/1.avi                                        \b\b\b\b  1%\b\b\b\b\b  OK \n",
            "Creating    train_release/18                                          OK\n",
            "Extracting  train_release/18/1.avi                                       \b\b\b\b  1%\b\b\b\b\b  OK \n",
            "Creating    train_release/13                                          OK\n",
            "Extracting  train_release/13/1.avi                                       \b\b\b\b  1%\b\b\b\b\b  OK \n",
            "Creating    test_release/30                                           OK\n",
            "Extracting  test_release/30/1.avi                                        \b\b\b\b  1%\b\b\b\b\b  OK \n",
            "Creating    train_release/12                                          OK\n",
            "Extracting  train_release/12/1.avi                                       \b\b\b\b  1%\b\b\b\b\b  OK \n",
            "Creating    test_release/12                                           OK\n",
            "Extracting  test_release/12/1.avi                                        \b\b\b\b  2%\b\b\b\b\b  OK \n",
            "Creating    test_release/8                                            OK\n",
            "Extracting  test_release/8/1.avi                                         \b\b\b\b  2%\b\b\b\b\b  OK \n",
            "Creating    test_release/3                                            OK\n",
            "Extracting  test_release/3/1.avi                                         \b\b\b\b  2%\b\b\b\b\b  OK \n",
            "Creating    train_release/11                                          OK\n",
            "Extracting  train_release/11/1.avi                                       \b\b\b\b  2%\b\b\b\b\b  OK \n",
            "Creating    test_release/20                                           OK\n",
            "Extracting  test_release/20/1.avi                                        \b\b\b\b  2%\b\b\b\b\b  OK \n",
            "Creating    train_release/14                                          OK\n",
            "Extracting  train_release/14/1.avi                                       \b\b\b\b  2%\b\b\b\b\b  OK \n",
            "Creating    test_release/24                                           OK\n",
            "Extracting  test_release/24/1.avi                                        \b\b\b\b  2%\b\b\b\b\b  OK \n",
            "Creating    train_release/8                                           OK\n",
            "Extracting  train_release/8/1.avi                                        \b\b\b\b  2%\b\b\b\b\b  OK \n",
            "Creating    train_release/7                                           OK\n",
            "Extracting  train_release/7/1.avi                                        \b\b\b\b  2%\b\b\b\b\b  OK \n",
            "Creating    train_release/3                                           OK\n",
            "Extracting  train_release/3/1.avi                                        \b\b\b\b  2%\b\b\b\b\b  OK \n",
            "Creating    train_release/5                                           OK\n",
            "Extracting  train_release/5/1.avi                                        \b\b\b\b  2%\b\b\b\b\b  OK \n",
            "Creating    train_release/1                                           OK\n",
            "Extracting  train_release/1/1.avi                                        \b\b\b\b  3%\b\b\b\b\b  OK \n",
            "Creating    test_release/28                                           OK\n",
            "Extracting  test_release/28/1.avi                                        \b\b\b\b  3%\b\b\b\b\b  OK \n",
            "Creating    test_release/15                                           OK\n",
            "Extracting  test_release/15/1.avi                                        \b\b\b\b  3%\b\b\b\b\b  OK \n",
            "Creating    train_release/4                                           OK\n",
            "Extracting  train_release/4/1.avi                                        \b\b\b\b  3%\b\b\b\b\b  OK \n",
            "Creating    train_release/9                                           OK\n",
            "Extracting  train_release/9/1.avi                                        \b\b\b\b  3%\b\b\b\b\b  OK \n",
            "Creating    test_release/13                                           OK\n",
            "Extracting  test_release/13/1.avi                                        \b\b\b\b  3%\b\b\b\b\b  OK \n",
            "Creating    test_release/14                                           OK\n",
            "Extracting  test_release/14/1.avi                                        \b\b\b\b  3%\b\b\b\b\b  OK \n",
            "Extracting  train_release/13/2.avi                                       \b\b\b\b  3%\b\b\b\b\b  OK \n",
            "Extracting  test_release/3/2.avi                                         \b\b\b\b  4%\b\b\b\b\b  OK \n",
            "Extracting  test_release/27/2.avi                                        \b\b\b\b  4%\b\b\b\b\b  OK \n",
            "Extracting  train_release/14/2.avi                                       \b\b\b\b  4%\b\b\b\b\b  OK \n",
            "Extracting  train_release/16/2.avi                                       \b\b\b\b  4%\b\b\b\b\b  OK \n",
            "Extracting  test_release/6/2.avi                                         \b\b\b\b  4%\b\b\b\b\b  OK \n",
            "Extracting  test_release/1/2.avi                                         \b\b\b\b  4%\b\b\b\b\b  OK \n",
            "Extracting  test_release/15/2.avi                                        \b\b\b\b  4%\b\b\b\b\b  OK \n",
            "Extracting  test_release/5/2.avi                                         \b\b\b\b  4%\b\b\b\b\b  OK \n",
            "Extracting  train_release/19/2.avi                                       \b\b\b\b  4%\b\b\b\b\b  OK \n",
            "Extracting  test_release/2/2.avi                                         \b\b\b\b  4%\b\b\b\b\b  OK \n",
            "Extracting  train_release/20/2.avi                                       \b\b\b\b  4%\b\b\b\b\b  OK \n",
            "Extracting  train_release/7/2.avi                                        \b\b\b\b  4%\b\b\b\b\b  OK \n",
            "Extracting  test_release/11/2.avi                                        \b\b\b\b  5%\b\b\b\b\b  OK \n",
            "Extracting  train_release/8/2.avi                                        \b\b\b\b  5%\b\b\b\b\b  OK \n",
            "Extracting  test_release/18/2.avi                                        \b\b\b\b  5%\b\b\b\b\b  OK \n",
            "Extracting  test_release/7/2.avi                                         \b\b\b\b  5%\b\b\b\b\b  OK \n",
            "Extracting  train_release/1/2.avi                                        \b\b\b\b  5%\b\b\b\b\b  OK \n",
            "Extracting  test_release/12/2.avi                                        \b\b\b\b  5%\b\b\b\b\b  OK \n",
            "Extracting  train_release/10/2.avi                                       \b\b\b\b  5%\b\b\b\b\b  OK \n",
            "Extracting  train_release/2/2.avi                                        \b\b\b\b  5%\b\b\b\b\b  OK \n",
            "Extracting  train_release/17/2.avi                                       \b\b\b\b  5%\b\b\b\b\b  OK \n",
            "Extracting  train_release/5/2.avi                                        \b\b\b\b  5%\b\b\b\b\b  OK \n",
            "Extracting  test_release/17/2.avi                                        \b\b\b\b  5%\b\b\b\b\b  OK \n",
            "Extracting  train_release/12/2.avi                                       \b\b\b\b  6%\b\b\b\b\b  OK \n",
            "Extracting  train_release/18/2.avi                                       \b\b\b\b  6%\b\b\b\b\b  OK \n",
            "Extracting  test_release/25/2.avi                                        \b\b\b\b  6%\b\b\b\b\b  OK \n",
            "Extracting  test_release/30/2.avi                                        \b\b\b\b  6%\b\b\b\b\b  OK \n",
            "Extracting  test_release/14/2.avi                                        \b\b\b\b  6%\b\b\b\b\b  OK \n",
            "Extracting  test_release/28/2.avi                                        \b\b\b\b  6%\b\b\b\b\b  OK \n",
            "Extracting  train_release/6/2.avi                                        \b\b\b\b  6%\b\b\b\b\b  OK \n",
            "Extracting  test_release/19/2.avi                                        \b\b\b\b  6%\b\b\b\b\b  OK \n",
            "Extracting  train_release/4/2.avi                                        \b\b\b\b  7%\b\b\b\b\b  OK \n",
            "Extracting  test_release/4/2.avi                                         \b\b\b\b  7%\b\b\b\b\b  OK \n",
            "Extracting  test_release/29/2.avi                                        \b\b\b\b  7%\b\b\b\b\b  OK \n",
            "Extracting  test_release/26/2.avi                                        \b\b\b\b  7%\b\b\b\b\b  OK \n",
            "Extracting  test_release/13/2.avi                                        \b\b\b\b  7%\b\b\b\b\b  OK \n",
            "Extracting  test_release/9/2.avi                                         \b\b\b\b  7%\b\b\b\b\b  OK \n",
            "Extracting  train_release/9/2.avi                                        \b\b\b\b  7%\b\b\b\b\b  OK \n",
            "Extracting  test_release/23/2.avi                                        \b\b\b\b  8%\b\b\b\b\b  OK \n",
            "Extracting  test_release/16/2.avi                                        \b\b\b\b  8%\b\b\b\b\b  OK \n",
            "Extracting  test_release/10/2.avi                                        \b\b\b\b  8%\b\b\b\b\b  OK \n",
            "Extracting  test_release/20/2.avi                                        \b\b\b\b  8%\b\b\b\b\b  OK \n",
            "Extracting  test_release/21/2.avi                                        \b\b\b\b  8%\b\b\b\b\b  OK \n",
            "Extracting  test_release/24/2.avi                                        \b\b\b\b  8%\b\b\b\b\b  OK \n",
            "Extracting  train_release/3/2.avi                                        \b\b\b\b  9%\b\b\b\b\b  OK \n",
            "Extracting  test_release/8/2.avi                                         \b\b\b\b  9%\b\b\b\b\b  OK \n",
            "Extracting  test_release/22/2.avi                                        \b\b\b\b  9%\b\b\b\b\b  OK \n",
            "Extracting  train_release/11/2.avi                                       \b\b\b\b  9%\b\b\b\b\b  OK \n",
            "Extracting  train_release/15/2.avi                                       \b\b\b\b  9%\b\b\b\b\b  OK \n",
            "Extracting  train_release/18/3.avi                                       \b\b\b\b 10%\b\b\b\b\b  OK \n",
            "Extracting  train_release/10/3.avi                                       \b\b\b\b 10%\b\b\b\b\b  OK \n",
            "Extracting  train_release/20/3.avi                                       \b\b\b\b 10%\b\b\b\b\b  OK \n",
            "Extracting  test_release/14/3.avi                                        \b\b\b\b 10%\b\b\b\b\b  OK \n",
            "Extracting  train_release/15/3.avi                                       \b\b\b\b 10%\b\b\b\b\b  OK \n",
            "Extracting  train_release/3/3.avi                                        \b\b\b\b 10%\b\b\b\b\b  OK \n",
            "Extracting  test_release/5/3.avi                                         \b\b\b\b 10%\b\b\b\b\b  OK \n",
            "Extracting  test_release/27/3.avi                                        \b\b\b\b 10%\b\b\b\b\b  OK \n",
            "Extracting  test_release/12/3.avi                                        \b\b\b\b 10%\b\b\b\b\b  OK \n",
            "Extracting  test_release/25/3.avi                                        \b\b\b\b 10%\b\b\b\b\b  OK \n",
            "Extracting  train_release/19/3.avi                                       \b\b\b\b 11%\b\b\b\b\b  OK \n",
            "Extracting  test_release/7/3.avi                                         \b\b\b\b 11%\b\b\b\b\b  OK \n",
            "Extracting  train_release/17/3.avi                                       \b\b\b\b 11%\b\b\b\b\b  OK \n",
            "Extracting  test_release/16/3.avi                                        \b\b\b\b 11%\b\b\b\b\b  OK \n",
            "Extracting  test_release/17/3.avi                                        \b\b\b\b 11%\b\b\b\b\b  OK \n",
            "Extracting  test_release/6/3.avi                                         \b\b\b\b 11%\b\b\b\b\b  OK \n",
            "Extracting  train_release/2/3.avi                                        \b\b\b\b 11%\b\b\b\b\b  OK \n",
            "Extracting  test_release/10/3.avi                                        \b\b\b\b 11%\b\b\b\b\b  OK \n",
            "Extracting  test_release/13/3.avi                                        \b\b\b\b 11%\b\b\b\b\b  OK \n",
            "Extracting  train_release/16/3.avi                                       \b\b\b\b 12%\b\b\b\b\b  OK \n",
            "Extracting  test_release/19/3.avi                                        \b\b\b\b 12%\b\b\b\b\b  OK \n",
            "Extracting  test_release/15/3.avi                                        \b\b\b\b 12%\b\b\b\b\b  OK \n",
            "Extracting  test_release/20/3.avi                                        \b\b\b\b 12%\b\b\b\b\b  OK \n",
            "Extracting  test_release/3/3.avi                                         \b\b\b\b 12%\b\b\b\b\b  OK \n",
            "Extracting  train_release/5/3.avi                                        \b\b\b\b 12%\b\b\b\b\b  OK \n",
            "Extracting  train_release/6/3.avi                                        \b\b\b\b 12%\b\b\b\b\b  OK \n",
            "Extracting  train_release/8/3.avi                                        \b\b\b\b 12%\b\b\b\b\b  OK \n",
            "Extracting  test_release/18/3.avi                                        \b\b\b\b 13%\b\b\b\b\b  OK \n",
            "Extracting  test_release/26/3.avi                                        \b\b\b\b 13%\b\b\b\b\b  OK \n",
            "Extracting  test_release/2/3.avi                                         \b\b\b\b 13%\b\b\b\b\b  OK \n",
            "Extracting  train_release/12/3.avi                                       \b\b\b\b 13%\b\b\b\b\b  OK \n",
            "Extracting  train_release/4/3.avi                                        \b\b\b\b 13%\b\b\b\b\b  OK \n",
            "Extracting  test_release/1/3.avi                                         \b\b\b\b 13%\b\b\b\b\b  OK \n",
            "Extracting  test_release/23/3.avi                                        \b\b\b\b 13%\b\b\b\b\b  OK \n",
            "Extracting  test_release/28/3.avi                                        \b\b\b\b 13%\b\b\b\b\b  OK \n",
            "Extracting  train_release/11/3.avi                                       \b\b\b\b 14%\b\b\b\b\b  OK \n",
            "Extracting  test_release/4/3.avi                                         \b\b\b\b 14%\b\b\b\b\b  OK \n",
            "Extracting  train_release/14/3.avi                                       \b\b\b\b 14%\b\b\b\b\b  OK \n",
            "Extracting  test_release/8/3.avi                                         \b\b\b\b 14%\b\b\b\b\b  OK \n",
            "Extracting  train_release/13/3.avi                                       \b\b\b\b 14%\b\b\b\b\b  OK \n",
            "Extracting  test_release/22/3.avi                                        \b\b\b\b 14%\b\b\b\b\b  OK \n",
            "Extracting  train_release/7/3.avi                                        \b\b\b\b 15%\b\b\b\b\b  OK \n",
            "Extracting  train_release/9/3.avi                                        \b\b\b\b 15%\b\b\b\b\b  OK \n",
            "Extracting  test_release/21/3.avi                                        \b\b\b\b 15%\b\b\b\b\b  OK \n",
            "Extracting  test_release/11/3.avi                                        \b\b\b\b 15%\b\b\b\b\b  OK \n",
            "Extracting  test_release/9/3.avi                                         \b\b\b\b 15%\b\b\b\b\b  OK \n",
            "Extracting  test_release/29/3.avi                                        \b\b\b\b 15%\b\b\b\b\b  OK \n",
            "Extracting  test_release/24/3.avi                                        \b\b\b\b 16%\b\b\b\b\b  OK \n",
            "Extracting  train_release/1/3.avi                                        \b\b\b\b 16%\b\b\b\b\b  OK \n",
            "Extracting  test_release/30/3.avi                                        \b\b\b\b 16%\b\b\b\b\b  OK \n",
            "Extracting  train_release/19/4.avi                                       \b\b\b\b 16%\b\b\b\b\b  OK \n",
            "Extracting  train_release/16/4.avi                                       \b\b\b\b 16%\b\b\b\b\b  OK \n",
            "Extracting  train_release/14/4.avi                                       \b\b\b\b 17%\b\b\b\b\b  OK \n",
            "Extracting  test_release/30/4.avi                                        \b\b\b\b 17%\b\b\b\b\b  OK \n",
            "Extracting  test_release/25/4.avi                                        \b\b\b\b 17%\b\b\b\b\b  OK \n",
            "Extracting  test_release/6/4.avi                                         \b\b\b\b 17%\b\b\b\b\b  OK \n",
            "Extracting  train_release/3/4.avi                                        \b\b\b\b 17%\b\b\b\b\b  OK \n",
            "Extracting  test_release/22/4.avi                                        \b\b\b\b 17%\b\b\b\b\b  OK \n",
            "Extracting  test_release/24/4.avi                                        \b\b\b\b 18%\b\b\b\b\b  OK \n",
            "Extracting  test_release/4/4.avi                                         \b\b\b\b 18%\b\b\b\b\b  OK \n",
            "Extracting  test_release/2/4.avi                                         \b\b\b\b 18%\b\b\b\b\b  OK \n",
            "Extracting  train_release/12/4.avi                                       \b\b\b\b 18%\b\b\b\b\b  OK \n",
            "Extracting  train_release/20/4.avi                                       \b\b\b\b 18%\b\b\b\b\b  OK \n",
            "Extracting  test_release/26/4.avi                                        \b\b\b\b 18%\b\b\b\b\b  OK \n",
            "Extracting  test_release/23/4.avi                                        \b\b\b\b 19%\b\b\b\b\b  OK \n",
            "Extracting  test_release/27/4.avi                                        \b\b\b\b 19%\b\b\b\b\b  OK \n",
            "Extracting  test_release/28/4.avi                                        \b\b\b\b 19%\b\b\b\b\b  OK \n",
            "Extracting  test_release/29/4.avi                                        \b\b\b\b 19%\b\b\b\b\b  OK \n",
            "Extracting  test_release/5/4.avi                                         \b\b\b\b 19%\b\b\b\b\b  OK \n",
            "Extracting  train_release/5/4.avi                                        \b\b\b\b 19%\b\b\b\b\b  OK \n",
            "Extracting  train_release/6/4.avi                                        \b\b\b\b 20%\b\b\b\b\b  OK \n",
            "Extracting  train_release/17/4.avi                                       \b\b\b\b 20%\b\b\b\b\b  OK \n",
            "Extracting  train_release/18/4.avi                                       \b\b\b\b 20%\b\b\b\b\b  OK \n",
            "Extracting  test_release/3/4.avi                                         \b\b\b\b 20%\b\b\b\b\b  OK \n",
            "Extracting  test_release/8/4.avi                                         \b\b\b\b 20%\b\b\b\b\b  OK \n",
            "Extracting  test_release/10/4.avi                                        \b\b\b\b 21%\b\b\b\b\b  OK \n",
            "Extracting  test_release/7/4.avi                                         \b\b\b\b 21%\b\b\b\b\b  OK \n",
            "Extracting  train_release/15/4.avi                                       \b\b\b\b 21%\b\b\b\b\b  OK \n",
            "Extracting  test_release/9/4.avi                                         \b\b\b\b 21%\b\b\b\b\b  OK \n",
            "Extracting  train_release/9/4.avi                                        \b\b\b\b 21%\b\b\b\b\b  OK \n",
            "Extracting  test_release/21/4.avi                                        \b\b\b\b 21%\b\b\b\b\b  OK \n",
            "Extracting  train_release/4/4.avi                                        \b\b\b\b 22%\b\b\b\b\b  OK \n",
            "Extracting  train_release/11/4.avi                                       \b\b\b\b 22%\b\b\b\b\b  OK \n",
            "Extracting  test_release/12/4.avi                                        \b\b\b\b 22%\b\b\b\b\b  OK \n",
            "Extracting  test_release/19/4.avi                                        \b\b\b\b 22%\b\b\b\b\b  OK \n",
            "Extracting  test_release/11/4.avi                                        \b\b\b\b 22%\b\b\b\b\b  OK \n",
            "Extracting  train_release/13/4.avi                                       \b\b\b\b 23%\b\b\b\b\b  OK \n",
            "Extracting  train_release/10/4.avi                                       \b\b\b\b 23%\b\b\b\b\b  OK \n",
            "Extracting  test_release/14/4.avi                                        \b\b\b\b 23%\b\b\b\b\b  OK \n",
            "Extracting  test_release/15/4.avi                                        \b\b\b\b 23%\b\b\b\b\b  OK \n",
            "Extracting  test_release/1/4.avi                                         \b\b\b\b 23%\b\b\b\b\b  OK \n",
            "Extracting  train_release/1/4.avi                                        \b\b\b\b 23%\b\b\b\b\b  OK \n",
            "Extracting  train_release/8/4.avi                                        \b\b\b\b 24%\b\b\b\b\b  OK \n",
            "Extracting  test_release/16/4.avi                                        \b\b\b\b 24%\b\b\b\b\b  OK \n",
            "Extracting  test_release/18/4.avi                                        \b\b\b\b 24%\b\b\b\b\b  OK \n",
            "Extracting  test_release/17/4.avi                                        \b\b\b\b 24%\b\b\b\b\b  OK \n",
            "Extracting  train_release/7/4.avi                                        \b\b\b\b 24%\b\b\b\b\b  OK \n",
            "Extracting  test_release/13/4.avi                                        \b\b\b\b 25%\b\b\b\b\b  OK \n",
            "Extracting  test_release/20/4.avi                                        \b\b\b\b 25%\b\b\b\b\b  OK \n",
            "Extracting  train_release/2/4.avi                                        \b\b\b\b 25%\b\b\b\b\b  OK \n",
            "Extracting  test_release/5/5.avi                                         \b\b\b\b 25%\b\b\b\b\b  OK \n",
            "Extracting  train_release/6/5.avi                                        \b\b\b\b 25%\b\b\b\b\b  OK \n",
            "Extracting  test_release/22/5.avi                                        \b\b\b\b 25%\b\b\b\b\b  OK \n",
            "Extracting  test_release/16/5.avi                                        \b\b\b\b 25%\b\b\b\b\b  OK \n",
            "Extracting  test_release/20/5.avi                                        \b\b\b\b 25%\b\b\b\b\b  OK \n",
            "Extracting  train_release/13/5.avi                                       \b\b\b\b 25%\b\b\b\b\b  OK \n",
            "Extracting  train_release/4/5.avi                                        \b\b\b\b 25%\b\b\b\b\b  OK \n",
            "Extracting  test_release/26/5.avi                                        \b\b\b\b 26%\b\b\b\b\b  OK \n",
            "Extracting  test_release/1/5.avi                                         \b\b\b\b 26%\b\b\b\b\b  OK \n",
            "Extracting  train_release/5/5.avi                                        \b\b\b\b 26%\b\b\b\b\b  OK \n",
            "Extracting  test_release/21/5.avi                                        \b\b\b\b 26%\b\b\b\b\b  OK \n",
            "Extracting  train_release/19/5.avi                                       \b\b\b\b 26%\b\b\b\b\b  OK \n",
            "Extracting  train_release/12/5.avi                                       \b\b\b\b 26%\b\b\b\b\b  OK \n",
            "Extracting  train_release/20/5.avi                                       \b\b\b\b 26%\b\b\b\b\b  OK \n",
            "Extracting  train_release/8/5.avi                                        \b\b\b\b 26%\b\b\b\b\b  OK \n",
            "Extracting  test_release/27/5.avi                                        \b\b\b\b 26%\b\b\b\b\b  OK \n",
            "Extracting  train_release/17/5.avi                                       \b\b\b\b 26%\b\b\b\b\b  OK \n",
            "Extracting  test_release/12/5.avi                                        \b\b\b\b 26%\b\b\b\b\b  OK \n",
            "Extracting  test_release/2/5.avi                                         \b\b\b\b 26%\b\b\b\b\b  OK \n",
            "Extracting  train_release/15/5.avi                                       \b\b\b\b 26%\b\b\b\b\b  OK \n",
            "Extracting  test_release/10/5.avi                                        \b\b\b\b 26%\b\b\b\b\b  OK \n",
            "Extracting  test_release/17/5.avi                                        \b\b\b\b 26%\b\b\b\b\b  OK \n",
            "Extracting  test_release/19/5.avi                                        \b\b\b\b 27%\b\b\b\b\b  OK \n",
            "Extracting  test_release/4/5.avi                                         \b\b\b\b 27%\b\b\b\b\b  OK \n",
            "Extracting  train_release/16/5.avi                                       \b\b\b\b 27%\b\b\b\b\b  OK \n",
            "Extracting  test_release/3/5.avi                                         \b\b\b\b 27%\b\b\b\b\b  OK \n",
            "Extracting  test_release/6/5.avi                                         \b\b\b\b 27%\b\b\b\b\b  OK \n",
            "Extracting  test_release/15/5.avi                                        \b\b\b\b 27%\b\b\b\b\b  OK \n",
            "Extracting  train_release/7/5.avi                                        \b\b\b\b 27%\b\b\b\b\b  OK \n",
            "Extracting  train_release/18/5.avi                                       \b\b\b\b 27%\b\b\b\b\b  OK \n",
            "Extracting  test_release/23/5.avi                                        \b\b\b\b 27%\b\b\b\b\b  OK \n",
            "Extracting  train_release/14/5.avi                                       \b\b\b\b 27%\b\b\b\b\b  OK \n",
            "Extracting  test_release/13/5.avi                                        \b\b\b\b 27%\b\b\b\b\b  OK \n",
            "Extracting  test_release/7/5.avi                                         \b\b\b\b 27%\b\b\b\b\b  OK \n",
            "Extracting  test_release/14/5.avi                                        \b\b\b\b 27%\b\b\b\b\b  OK \n",
            "Extracting  train_release/9/5.avi                                        \b\b\b\b 28%\b\b\b\b\b  OK \n",
            "Extracting  train_release/10/5.avi                                       \b\b\b\b 28%\b\b\b\b\b  OK \n",
            "Extracting  test_release/11/5.avi                                        \b\b\b\b 28%\b\b\b\b\b  OK \n",
            "Extracting  test_release/18/5.avi                                        \b\b\b\b 28%\b\b\b\b\b  OK \n",
            "Extracting  train_release/11/5.avi                                       \b\b\b\b 28%\b\b\b\b\b  OK \n",
            "Extracting  train_release/1/5.avi                                        \b\b\b\b 28%\b\b\b\b\b  OK \n",
            "Extracting  train_release/2/5.avi                                        \b\b\b\b 28%\b\b\b\b\b  OK \n",
            "Extracting  test_release/29/5.avi                                        \b\b\b\b 28%\b\b\b\b\b  OK \n",
            "Extracting  test_release/25/5.avi                                        \b\b\b\b 28%\b\b\b\b\b  OK \n",
            "Extracting  test_release/8/5.avi                                         \b\b\b\b 28%\b\b\b\b\b  OK \n",
            "Extracting  test_release/28/5.avi                                        \b\b\b\b 28%\b\b\b\b\b  OK \n",
            "Extracting  train_release/3/5.avi                                        \b\b\b\b 29%\b\b\b\b\b  OK \n",
            "Extracting  test_release/9/5.avi                                         \b\b\b\b 29%\b\b\b\b\b  OK \n",
            "Extracting  test_release/24/5.avi                                        \b\b\b\b 29%\b\b\b\b\b  OK \n",
            "Extracting  test_release/30/5.avi                                        \b\b\b\b 29%\b\b\b\b\b  OK \n",
            "Extracting  test_release/9/6.avi                                         \b\b\b\b 29%\b\b\b\b\b  OK \n",
            "Extracting  test_release/3/6.avi                                         \b\b\b\b 29%\b\b\b\b\b  OK \n",
            "Extracting  test_release/27/6.avi                                        \b\b\b\b 29%\b\b\b\b\b  OK \n",
            "Extracting  train_release/16/6.avi                                       \b\b\b\b 29%\b\b\b\b\b  OK \n",
            "Extracting  train_release/19/6.avi                                       \b\b\b\b 30%\b\b\b\b\b  OK \n",
            "Extracting  train_release/13/6.avi                                       \b\b\b\b 30%\b\b\b\b\b  OK \n",
            "Extracting  train_release/12/6.avi                                       \b\b\b\b 30%\b\b\b\b\b  OK \n",
            "Extracting  train_release/17/6.avi                                       \b\b\b\b 30%\b\b\b\b\b  OK \n",
            "Extracting  train_release/4/6.avi                                        \b\b\b\b 30%\b\b\b\b\b  OK \n",
            "Extracting  test_release/5/6.avi                                         \b\b\b\b 30%\b\b\b\b\b  OK \n",
            "Extracting  train_release/15/6.avi                                       \b\b\b\b 30%\b\b\b\b\b  OK \n",
            "Extracting  train_release/6/6.avi                                        \b\b\b\b 30%\b\b\b\b\b  OK \n",
            "Extracting  train_release/10/6.avi                                       \b\b\b\b 31%\b\b\b\b\b  OK \n",
            "Extracting  test_release/22/6.avi                                        \b\b\b\b 31%\b\b\b\b\b  OK \n",
            "Extracting  train_release/8/6.avi                                        \b\b\b\b 31%\b\b\b\b\b  OK \n",
            "Extracting  test_release/15/6.avi                                        \b\b\b\b 31%\b\b\b\b\b  OK \n",
            "Extracting  train_release/5/6.avi                                        \b\b\b\b 31%\b\b\b\b\b  OK \n",
            "Extracting  test_release/26/6.avi                                        \b\b\b\b 31%\b\b\b\b\b  OK \n",
            "Extracting  test_release/20/6.avi                                        \b\b\b\b 31%\b\b\b\b\b  OK \n",
            "Extracting  train_release/20/6.avi                                       \b\b\b\b 31%\b\b\b\b\b  OK \n",
            "Extracting  test_release/1/6.avi                                         \b\b\b\b 32%\b\b\b\b\b  OK \n",
            "Extracting  train_release/7/6.avi                                        \b\b\b\b 32%\b\b\b\b\b  OK \n",
            "Extracting  test_release/14/6.avi                                        \b\b\b\b 32%\b\b\b\b\b  OK \n",
            "Extracting  train_release/1/6.avi                                        \b\b\b\b 32%\b\b\b\b\b  OK \n",
            "Extracting  train_release/14/6.avi                                       \b\b\b\b 32%\b\b\b\b\b  OK \n",
            "Extracting  test_release/28/6.avi                                        \b\b\b\b 32%\b\b\b\b\b  OK \n",
            "Extracting  train_release/2/6.avi                                        \b\b\b\b 32%\b\b\b\b\b  OK \n",
            "Extracting  test_release/29/6.avi                                        \b\b\b\b 33%\b\b\b\b\b  OK \n",
            "Extracting  test_release/25/6.avi                                        \b\b\b\b 33%\b\b\b\b\b  OK \n",
            "Extracting  test_release/7/6.avi                                         \b\b\b\b 33%\b\b\b\b\b  OK \n",
            "Extracting  test_release/11/6.avi                                        \b\b\b\b 33%\b\b\b\b\b  OK \n",
            "Extracting  test_release/16/6.avi                                        \b\b\b\b 33%\b\b\b\b\b  OK \n",
            "Extracting  test_release/2/6.avi                                         \b\b\b\b 33%\b\b\b\b\b  OK \n",
            "Extracting  train_release/9/6.avi                                        \b\b\b\b 33%\b\b\b\b\b  OK \n",
            "Extracting  test_release/30/6.avi                                        \b\b\b\b 34%\b\b\b\b\b  OK \n",
            "Extracting  test_release/19/6.avi                                        \b\b\b\b 34%\b\b\b\b\b  OK \n",
            "Extracting  test_release/23/6.avi                                        \b\b\b\b 34%\b\b\b\b\b  OK \n",
            "Extracting  test_release/10/6.avi                                        \b\b\b\b 34%\b\b\b\b\b  OK \n",
            "Extracting  test_release/24/6.avi                                        \b\b\b\b 34%\b\b\b\b\b  OK \n",
            "Extracting  test_release/4/6.avi                                         \b\b\b\b 34%\b\b\b\b\b  OK \n",
            "Extracting  test_release/17/6.avi                                        \b\b\b\b 34%\b\b\b\b\b  OK \n",
            "Extracting  test_release/21/6.avi                                        \b\b\b\b 35%\b\b\b\b\b  OK \n",
            "Extracting  test_release/6/6.avi                                         \b\b\b\b 35%\b\b\b\b\b  OK \n",
            "Extracting  train_release/11/6.avi                                       \b\b\b\b 35%\b\b\b\b\b  OK \n",
            "Extracting  train_release/3/6.avi                                        \b\b\b\b 35%\b\b\b\b\b  OK \n",
            "Extracting  train_release/18/6.avi                                       \b\b\b\b 35%\b\b\b\b\b  OK \n",
            "Extracting  test_release/8/6.avi                                         \b\b\b\b 35%\b\b\b\b\b  OK \n",
            "Extracting  test_release/12/6.avi                                        \b\b\b\b 35%\b\b\b\b\b  OK \n",
            "Extracting  test_release/13/6.avi                                        \b\b\b\b 36%\b\b\b\b\b  OK \n",
            "Extracting  test_release/18/6.avi                                        \b\b\b\b 36%\b\b\b\b\b  OK \n",
            "Extracting  test_release/1/7.avi                                         \b\b\b\b 36%\b\b\b\b\b  OK \n",
            "Extracting  test_release/15/7.avi                                        \b\b\b\b 36%\b\b\b\b\b  OK \n",
            "Extracting  train_release/15/7.avi                                       \b\b\b\b 36%\b\b\b\b\b  OK \n",
            "Extracting  test_release/10/7.avi                                        \b\b\b\b 36%\b\b\b\b\b  OK \n",
            "Extracting  test_release/11/7.avi                                        \b\b\b\b 36%\b\b\b\b\b  OK \n",
            "Extracting  train_release/7/7.avi                                        \b\b\b\b 36%\b\b\b\b\b  OK \n",
            "Extracting  test_release/2/7.avi                                         \b\b\b\b 36%\b\b\b\b\b  OK \n",
            "Extracting  test_release/17/7.avi                                        \b\b\b\b 36%\b\b\b\b\b  OK \n",
            "Extracting  train_release/16/7.avi                                       \b\b\b\b 36%\b\b\b\b\b  OK \n",
            "Extracting  test_release/5/7.avi                                         \b\b\b\b 36%\b\b\b\b\b  OK \n",
            "Extracting  train_release/9/7.avi                                        \b\b\b\b 36%\b\b\b\b\b  OK \n",
            "Extracting  test_release/28/7.avi                                        \b\b\b\b 37%\b\b\b\b\b  OK \n",
            "Extracting  test_release/6/7.avi                                         \b\b\b\b 37%\b\b\b\b\b  OK \n",
            "Extracting  train_release/18/7.avi                                       \b\b\b\b 37%\b\b\b\b\b  OK \n",
            "Extracting  test_release/25/7.avi                                        \b\b\b\b 37%\b\b\b\b\b  OK \n",
            "Extracting  train_release/14/7.avi                                       \b\b\b\b 37%\b\b\b\b\b  OK \n",
            "Extracting  test_release/7/7.avi                                         \b\b\b\b 37%\b\b\b\b\b  OK \n",
            "Extracting  test_release/4/7.avi                                         \b\b\b\b 37%\b\b\b\b\b  OK \n",
            "Extracting  train_release/8/7.avi                                        \b\b\b\b 37%\b\b\b\b\b  OK \n",
            "Extracting  test_release/13/7.avi                                        \b\b\b\b 37%\b\b\b\b\b  OK \n",
            "Extracting  train_release/19/7.avi                                       \b\b\b\b 37%\b\b\b\b\b  OK \n",
            "Extracting  test_release/22/7.avi                                        \b\b\b\b 37%\b\b\b\b\b  OK \n",
            "Extracting  test_release/21/7.avi                                        \b\b\b\b 37%\b\b\b\b\b  OK \n",
            "Extracting  train_release/17/7.avi                                       \b\b\b\b 37%\b\b\b\b\b  OK \n",
            "Extracting  train_release/10/7.avi                                       \b\b\b\b 38%\b\b\b\b\b  OK \n",
            "Extracting  test_release/8/7.avi                                         \b\b\b\b 38%\b\b\b\b\b  OK \n",
            "Extracting  train_release/13/7.avi                                       \b\b\b\b 38%\b\b\b\b\b  OK \n",
            "Extracting  test_release/29/7.avi                                        \b\b\b\b 38%\b\b\b\b\b  OK \n",
            "Extracting  train_release/5/7.avi                                        \b\b\b\b 38%\b\b\b\b\b  OK \n",
            "Extracting  test_release/19/7.avi                                        \b\b\b\b 38%\b\b\b\b\b  OK \n",
            "Extracting  test_release/20/7.avi                                        \b\b\b\b 38%\b\b\b\b\b  OK \n",
            "Extracting  test_release/12/7.avi                                        \b\b\b\b 38%\b\b\b\b\b  OK \n",
            "Extracting  test_release/14/7.avi                                        \b\b\b\b 38%\b\b\b\b\b  OK \n",
            "Extracting  test_release/27/7.avi                                        \b\b\b\b 38%\b\b\b\b\b  OK \n",
            "Extracting  test_release/3/7.avi                                         \b\b\b\b 38%\b\b\b\b\b  OK \n",
            "Extracting  train_release/20/7.avi                                       \b\b\b\b 39%\b\b\b\b\b  OK \n",
            "Extracting  train_release/11/7.avi                                       \b\b\b\b 39%\b\b\b\b\b  OK \n",
            "Extracting  test_release/18/7.avi                                        \b\b\b\b 39%\b\b\b\b\b  OK \n",
            "Extracting  test_release/9/7.avi                                         \b\b\b\b 39%\b\b\b\b\b  OK \n",
            "Extracting  test_release/26/7.avi                                        \b\b\b\b 39%\b\b\b\b\b  OK \n",
            "Extracting  test_release/24/7.avi                                        \b\b\b\b 39%\b\b\b\b\b  OK \n",
            "Extracting  test_release/30/7.avi                                        \b\b\b\b 39%\b\b\b\b\b  OK \n",
            "Extracting  train_release/4/7.avi                                        \b\b\b\b 39%\b\b\b\b\b  OK \n",
            "Extracting  test_release/23/7.avi                                        \b\b\b\b 40%\b\b\b\b\b  OK \n",
            "Extracting  train_release/3/7.avi                                        \b\b\b\b 40%\b\b\b\b\b  OK \n",
            "Extracting  test_release/16/7.avi                                        \b\b\b\b 40%\b\b\b\b\b  OK \n",
            "Extracting  train_release/1/7.avi                                        \b\b\b\b 40%\b\b\b\b\b  OK \n",
            "Extracting  train_release/12/7.avi                                       \b\b\b\b 40%\b\b\b\b\b  OK \n",
            "Extracting  train_release/2/7.avi                                        \b\b\b\b 40%\b\b\b\b\b  OK \n",
            "Extracting  train_release/6/7.avi                                        \b\b\b\b 40%\b\b\b\b\b  OK \n",
            "Extracting  test_release/17/8.avi                                        \b\b\b\b 41%\b\b\b\b\b  OK \n",
            "Extracting  test_release/1/8.avi                                         \b\b\b\b 41%\b\b\b\b\b  OK \n",
            "Extracting  test_release/11/8.avi                                        \b\b\b\b 41%\b\b\b\b\b  OK \n",
            "Extracting  test_release/28/8.avi                                        \b\b\b\b 41%\b\b\b\b\b  OK \n",
            "Extracting  test_release/15/8.avi                                        \b\b\b\b 41%\b\b\b\b\b  OK \n",
            "Extracting  test_release/25/8.avi                                        \b\b\b\b 41%\b\b\b\b\b  OK \n",
            "Extracting  test_release/2/8.avi                                         \b\b\b\b 41%\b\b\b\b\b  OK \n",
            "Extracting  test_release/20/8.avi                                        \b\b\b\b 41%\b\b\b\b\b  OK \n",
            "Extracting  train_release/7/8.avi                                        \b\b\b\b 41%\b\b\b\b\b  OK \n",
            "Extracting  train_release/8/8.avi                                        \b\b\b\b 41%\b\b\b\b\b  OK \n",
            "Extracting  test_release/22/8.avi                                        \b\b\b\b 41%\b\b\b\b\b  OK \n",
            "Extracting  test_release/5/8.avi                                         \b\b\b\b 41%\b\b\b\b\b  OK \n",
            "Extracting  test_release/19/8.avi                                        \b\b\b\b 41%\b\b\b\b\b  OK \n",
            "Extracting  train_release/14/8.avi                                       \b\b\b\b 41%\b\b\b\b\b  OK \n",
            "Extracting  train_release/15/8.avi                                       \b\b\b\b 41%\b\b\b\b\b  OK \n",
            "Extracting  test_release/6/8.avi                                         \b\b\b\b 41%\b\b\b\b\b  OK \n",
            "Extracting  train_release/16/8.avi                                       \b\b\b\b 41%\b\b\b\b\b  OK \n",
            "Extracting  test_release/7/8.avi                                         \b\b\b\b 41%\b\b\b\b\b  OK \n",
            "Extracting  train_release/13/8.avi                                       \b\b\b\b 41%\b\b\b\b\b  OK \n",
            "Extracting  train_release/5/8.avi                                        \b\b\b\b 42%\b\b\b\b\b  OK \n",
            "Extracting  train_release/19/8.avi                                       \b\b\b\b 42%\b\b\b\b\b  OK \n",
            "Extracting  test_release/13/8.avi                                        \b\b\b\b 42%\b\b\b\b\b  OK \n",
            "Extracting  train_release/18/8.avi                                       \b\b\b\b 42%\b\b\b\b\b  OK \n",
            "Extracting  test_release/10/8.avi                                        \b\b\b\b 42%\b\b\b\b\b  OK \n",
            "Extracting  train_release/17/8.avi                                       \b\b\b\b 42%\b\b\b\b\b  OK \n",
            "Extracting  train_release/11/8.avi                                       \b\b\b\b 42%\b\b\b\b\b  OK \n",
            "Extracting  test_release/29/8.avi                                        \b\b\b\b 42%\b\b\b\b\b  OK \n",
            "Extracting  train_release/9/8.avi                                        \b\b\b\b 42%\b\b\b\b\b  OK \n",
            "Extracting  test_release/8/8.avi                                         \b\b\b\b 42%\b\b\b\b\b  OK \n",
            "Extracting  train_release/10/8.avi                                       \b\b\b\b 42%\b\b\b\b\b  OK \n",
            "Extracting  test_release/27/8.avi                                        \b\b\b\b 42%\b\b\b\b\b  OK \n",
            "Extracting  train_release/3/8.avi                                        \b\b\b\b 42%\b\b\b\b\b  OK \n",
            "Extracting  test_release/4/8.avi                                         \b\b\b\b 43%\b\b\b\b\b  OK \n",
            "Extracting  test_release/21/8.avi                                        \b\b\b\b 43%\b\b\b\b\b  OK \n",
            "Extracting  test_release/3/8.avi                                         \b\b\b\b 43%\b\b\b\b\b  OK \n",
            "Extracting  train_release/6/8.avi                                        \b\b\b\b 43%\b\b\b\b\b  OK \n",
            "Extracting  test_release/23/8.avi                                        \b\b\b\b 43%\b\b\b\b\b  OK \n",
            "Extracting  test_release/12/8.avi                                        \b\b\b\b 43%\b\b\b\b\b  OK \n",
            "Extracting  test_release/24/8.avi                                        \b\b\b\b 43%\b\b\b\b\b  OK \n",
            "Extracting  test_release/26/8.avi                                        \b\b\b\b 43%\b\b\b\b\b  OK \n",
            "Extracting  train_release/12/8.avi                                       \b\b\b\b 43%\b\b\b\b\b  OK \n",
            "Extracting  train_release/4/8.avi                                        \b\b\b\b 43%\b\b\b\b\b  OK \n",
            "Extracting  test_release/14/8.avi                                        \b\b\b\b 43%\b\b\b\b\b  OK \n",
            "Extracting  test_release/16/8.avi                                        \b\b\b\b 44%\b\b\b\b\b  OK \n",
            "Extracting  train_release/20/8.avi                                       \b\b\b\b 44%\b\b\b\b\b  OK \n",
            "Extracting  test_release/18/8.avi                                        \b\b\b\b 44%\b\b\b\b\b  OK \n",
            "Extracting  train_release/2/8.avi                                        \b\b\b\b 44%\b\b\b\b\b  OK \n",
            "Extracting  test_release/9/8.avi                                         \b\b\b\b 44%\b\b\b\b\b  OK \n",
            "Extracting  test_release/30/8.avi                                        \b\b\b\b 44%\b\b\b\b\b  OK \n",
            "Extracting  train_release/1/8.avi                                        \b\b\b\b 44%\b\b\b\b\b  OK \n",
            "Extracting  test_release/25/HR_1.avi                                     \b\b\b\b 44%\b\b\b\b\b  OK \n",
            "Extracting  test_release/28/HR_1.avi                                     \b\b\b\b 44%\b\b\b\b\b  OK \n",
            "Extracting  test_release/17/HR_1.avi                                     \b\b\b\b 45%\b\b\b\b\b  OK \n",
            "Extracting  test_release/11/HR_1.avi                                     \b\b\b\b 45%\b\b\b\b\b  OK \n",
            "Extracting  test_release/2/HR_1.avi                                      \b\b\b\b 45%\b\b\b\b\b  OK \n",
            "Extracting  test_release/7/HR_1.avi                                      \b\b\b\b 45%\b\b\b\b\b  OK \n",
            "Extracting  train_release/16/HR_1.avi                                    \b\b\b\b 45%\b\b\b\b\b  OK \n",
            "Extracting  test_release/22/HR_1.avi                                     \b\b\b\b 45%\b\b\b\b\b  OK \n",
            "Extracting  test_release/10/HR_1.avi                                     \b\b\b\b 45%\b\b\b\b\b  OK \n",
            "Extracting  train_release/5/HR_1.avi                                     \b\b\b\b 46%\b\b\b\b\b  OK \n",
            "Extracting  train_release/19/HR_1.avi                                    \b\b\b\b 46%\b\b\b\b\b  OK \n",
            "Extracting  train_release/14/HR_1.avi                                    \b\b\b\b 46%\b\b\b\b\b  OK \n",
            "Extracting  train_release/18/HR_1.avi                                    \b\b\b\b 46%\b\b\b\b\b  OK \n",
            "Extracting  test_release/5/HR_1.avi                                      \b\b\b\b 46%\b\b\b\b\b  OK \n",
            "Extracting  test_release/15/HR_1.avi                                     \b\b\b\b 46%\b\b\b\b\b  OK \n",
            "Extracting  train_release/17/HR_1.avi                                    \b\b\b\b 47%\b\b\b\b\b  OK \n",
            "Extracting  test_release/6/HR_1.avi                                      \b\b\b\b 47%\b\b\b\b\b  OK \n",
            "Extracting  test_release/4/HR_1.avi                                      \b\b\b\b 47%\b\b\b\b\b  OK \n",
            "Extracting  test_release/21/HR_1.avi                                     \b\b\b\b 47%\b\b\b\b\b  OK \n",
            "Extracting  train_release/10/HR_1.avi                                    \b\b\b\b 47%\b\b\b\b\b  OK \n",
            "Extracting  test_release/29/HR_1.avi                                     \b\b\b\b 48%\b\b\b\b\b  OK \n",
            "Extracting  train_release/9/HR_1.avi                                     \b\b\b\b 48%\b\b\b\b\b  OK \n",
            "Extracting  test_release/19/HR_1.avi                                     \b\b\b\b 48%\b\b\b\b\b  OK \n",
            "Extracting  test_release/13/HR_1.avi                                     \b\b\b\b 48%\b\b\b\b\b  OK \n",
            "Extracting  train_release/7/HR_1.avi                                     \b\b\b\b 48%\b\b\b\b\b  OK \n",
            "Extracting  test_release/27/HR_1.avi                                     \b\b\b\b 49%\b\b\b\b\b  OK \n",
            "Extracting  train_release/3/HR_1.avi                                     \b\b\b\b 49%\b\b\b\b\b  OK \n",
            "Extracting  test_release/20/HR_1.avi                                     \b\b\b\b 49%\b\b\b\b\b  OK \n",
            "Extracting  test_release/1/HR_1.avi                                      \b\b\b\b 49%\b\b\b\b\b  OK \n",
            "Extracting  test_release/8/HR_1.avi                                      \b\b\b\b 49%\b\b\b\b\b  OK \n",
            "Extracting  train_release/8/HR_1.avi                                     \b\b\b\b 50%\b\b\b\b\b  OK \n",
            "Extracting  train_release/15/HR_1.avi                                    \b\b\b\b 50%\b\b\b\b\b  OK \n",
            "Extracting  train_release/13/HR_1.avi                                    \b\b\b\b 50%\b\b\b\b\b  OK \n",
            "Extracting  test_release/26/HR_1.avi                                     \b\b\b\b 50%\b\b\b\b\b  OK \n",
            "Extracting  train_release/4/HR_1.avi                                     \b\b\b\b 51%\b\b\b\b\b  OK \n",
            "Extracting  test_release/3/HR_1.avi                                      \b\b\b\b 51%\b\b\b\b\b  OK \n",
            "Extracting  train_release/20/HR_1.avi                                    \b\b\b\b 51%\b\b\b\b\b  OK \n",
            "Extracting  test_release/23/HR_1.avi                                     \b\b\b\b 51%\b\b\b\b\b  OK \n",
            "Extracting  test_release/14/HR_1.avi                                     \b\b\b\b 52%\b\b\b\b\b  OK \n",
            "Extracting  test_release/24/HR_1.avi                                     \b\b\b\b 52%\b\b\b\b\b  OK \n",
            "Extracting  test_release/30/HR_1.avi                                     \b\b\b\b 52%\b\b\b\b\b  OK \n",
            "Extracting  test_release/9/HR_1.avi                                      \b\b\b\b 52%\b\b\b\b\b  OK \n",
            "Extracting  train_release/6/HR_1.avi                                     \b\b\b\b 53%\b\b\b\b\b  OK \n",
            "Extracting  test_release/12/HR_1.avi                                     \b\b\b\b 53%\b\b\b\b\b  OK \n",
            "Extracting  train_release/12/HR_1.avi                                    \b\b\b\b 54%\b\b\b\b\b  OK \n",
            "Extracting  train_release/1/HR_1.avi                                     \b\b\b\b 54%\b\b\b\b\b  OK \n",
            "Extracting  test_release/18/HR_1.avi                                     \b\b\b\b 54%\b\b\b\b\b  OK \n",
            "Extracting  train_release/11/HR_1.avi                                    \b\b\b\b 55%\b\b\b\b\b  OK \n",
            "Extracting  train_release/2/HR_1.avi                                     \b\b\b\b 55%\b\b\b\b\b  OK \n",
            "Extracting  test_release/16/HR_1.avi                                     \b\b\b\b 56%\b\b\b\b\b  OK \n",
            "Extracting  test_release/29/HR_2.avi                                     \b\b\b\b 56%\b\b\b\b\b  OK \n",
            "Extracting  test_release/26/HR_2.avi                                     \b\b\b\b 56%\b\b\b\b\b  OK \n",
            "Extracting  test_release/14/HR_2.avi                                     \b\b\b\b 57%\b\b\b\b\b  OK \n",
            "Extracting  train_release/2/HR_2.avi                                     \b\b\b\b 57%\b\b\b\b\b  OK \n",
            "Extracting  train_release/6/HR_2.avi                                     \b\b\b\b 57%\b\b\b\b\b  OK \n",
            "Extracting  train_release/3/HR_2.avi                                     \b\b\b\b 58%\b\b\b\b\b  OK \n",
            "Extracting  test_release/25/HR_2.avi                                     \b\b\b\b 58%\b\b\b\b\b  OK \n",
            "Extracting  test_release/11/HR_2.avi                                     \b\b\b\b 58%\b\b\b\b\b  OK \n",
            "Extracting  test_release/17/HR_2.avi                                     \b\b\b\b 59%\b\b\b\b\b  OK \n",
            "Extracting  test_release/16/HR_2.avi                                     \b\b\b\b 59%\b\b\b\b\b  OK \n",
            "Extracting  train_release/9/HR_2.avi                                     \b\b\b\b 59%\b\b\b\b\b  OK \n",
            "Extracting  test_release/13/HR_2.avi                                     \b\b\b\b 60%\b\b\b\b\b  OK \n",
            "Extracting  train_release/10/HR_2.avi                                    \b\b\b\b 60%\b\b\b\b\b  OK \n",
            "Extracting  train_release/4/HR_2.avi                                     \b\b\b\b 60%\b\b\b\b\b  OK \n",
            "Extracting  train_release/5/HR_2.avi                                     \b\b\b\b 61%\b\b\b\b\b  OK \n",
            "Extracting  train_release/1/HR_2.avi                                     \b\b\b\b 61%\b\b\b\b\b  OK \n",
            "Extracting  test_release/9/HR_2.avi                                      \b\b\b\b 62%\b\b\b\b\b  OK \n",
            "Extracting  test_release/7/HR_2.avi                                      \b\b\b\b 62%\b\b\b\b\b  OK \n",
            "Extracting  test_release/19/HR_2.avi                                     \b\b\b\b 62%\b\b\b\b\b  OK \n",
            "Extracting  test_release/15/HR_2.avi                                     \b\b\b\b 63%\b\b\b\b\b  OK \n",
            "Extracting  test_release/24/HR_2.avi                                     \b\b\b\b 63%\b\b\b\b\b  OK \n",
            "Extracting  test_release/18/HR_2.avi                                     \b\b\b\b 63%\b\b\b\b\b  OK \n",
            "Extracting  test_release/28/HR_2.avi                                     \b\b\b\b 64%\b\b\b\b\b  OK \n",
            "Extracting  test_release/3/HR_2.avi                                      \b\b\b\b 64%\b\b\b\b\b  OK \n",
            "Extracting  train_release/19/HR_2.avi                                    \b\b\b\b 65%\b\b\b\b\b  OK \n",
            "Extracting  test_release/12/HR_2.avi                                     \b\b\b\b 65%\b\b\b\b\b  OK \n",
            "Extracting  test_release/6/HR_2.avi                                      \b\b\b\b 65%\b\b\b\b\b  OK \n",
            "Extracting  train_release/7/HR_2.avi                                     \b\b\b\b 66%\b\b\b\b\b  OK \n",
            "Extracting  train_release/17/HR_2.avi                                    \b\b\b\b 66%\b\b\b\b\b  OK \n",
            "Extracting  train_release/8/HR_2.avi                                     \b\b\b\b 67%\b\b\b\b\b  OK \n",
            "Extracting  test_release/20/HR_2.avi                                     \b\b\b\b 67%\b\b\b\b\b  OK \n",
            "Extracting  test_release/23/HR_2.avi                                     \b\b\b\b 67%\b\b\b\b\b  OK \n",
            "Extracting  test_release/5/HR_2.avi                                      \b\b\b\b 68%\b\b\b\b\b  OK \n",
            "Extracting  test_release/4/HR_2.avi                                      \b\b\b\b 68%\b\b\b\b\b  OK \n",
            "Extracting  train_release/14/HR_2.avi                                    \b\b\b\b 69%\b\b\b\b\b  OK \n",
            "Extracting  test_release/1/HR_2.avi                                      \b\b\b\b 69%\b\b\b\b\b  OK \n",
            "Extracting  train_release/16/HR_2.avi                                    \b\b\b\b 70%\b\b\b\b\b  OK \n",
            "Extracting  test_release/27/HR_2.avi                                     \b\b\b\b 70%\b\b\b\b\b  OK \n",
            "Extracting  train_release/15/HR_2.avi                                    \b\b\b\b 71%\b\b\b\b\b  OK \n",
            "Extracting  train_release/11/HR_2.avi                                    \b\b\b\b 71%\b\b\b\b\b  OK \n",
            "Extracting  test_release/22/HR_2.avi                                     \b\b\b\b 72%\b\b\b\b\b  OK \n",
            "Extracting  test_release/2/HR_2.avi                                      \b\b\b\b 72%\b\b\b\b\b  OK \n",
            "Extracting  test_release/21/HR_2.avi                                     \b\b\b\b 73%\b\b\b\b\b  OK \n",
            "Extracting  train_release/20/HR_2.avi                                    \b\b\b\b 73%\b\b\b\b\b  OK \n",
            "Extracting  train_release/18/HR_2.avi                                    \b\b\b\b 74%\b\b\b\b\b  OK \n",
            "Extracting  test_release/8/HR_2.avi                                      \b\b\b\b 74%\b\b\b\b\b  OK \n",
            "Extracting  train_release/13/HR_2.avi                                    \b\b\b\b 75%\b\b\b\b\b  OK \n",
            "Extracting  test_release/10/HR_2.avi                                     \b\b\b\b 75%\b\b\b\b\b  OK \n",
            "Extracting  train_release/12/HR_2.avi                                    \b\b\b\b 76%\b\b\b\b\b  OK \n",
            "Extracting  test_release/30/HR_2.avi                                     \b\b\b\b 76%\b\b\b\b\b  OK \n",
            "Extracting  train_release/1/HR_3.avi                                     \b\b\b\b 76%\b\b\b\b\b  OK \n",
            "Extracting  test_release/17/HR_3.avi                                     \b\b\b\b 76%\b\b\b\b\b  OK \n",
            "Extracting  test_release/1/HR_3.avi                                      \b\b\b\b 77%\b\b\b\b\b  OK \n",
            "Extracting  train_release/6/HR_3.avi                                     \b\b\b\b 77%\b\b\b\b\b  OK \n",
            "Extracting  train_release/7/HR_3.avi                                     \b\b\b\b 77%\b\b\b\b\b  OK \n",
            "Extracting  test_release/19/HR_3.avi                                     \b\b\b\b 77%\b\b\b\b\b  OK \n",
            "Extracting  test_release/16/HR_3.avi                                     \b\b\b\b 77%\b\b\b\b\b  OK \n",
            "Extracting  test_release/13/HR_3.avi                                     \b\b\b\b 77%\b\b\b\b\b  OK \n",
            "Extracting  test_release/5/HR_3.avi                                      \b\b\b\b 77%\b\b\b\b\b  OK \n",
            "Extracting  train_release/5/HR_3.avi                                     \b\b\b\b 77%\b\b\b\b\b  OK \n",
            "Extracting  test_release/14/HR_3.avi                                     \b\b\b\b 77%\b\b\b\b\b  OK \n",
            "Extracting  train_release/19/HR_3.avi                                    \b\b\b\b 77%\b\b\b\b\b  OK \n",
            "Extracting  test_release/12/HR_3.avi                                     \b\b\b\b 78%\b\b\b\b\b  OK \n",
            "Extracting  train_release/16/HR_3.avi                                    \b\b\b\b 78%\b\b\b\b\b  OK \n",
            "Extracting  test_release/20/HR_3.avi                                     \b\b\b\b 78%\b\b\b\b\b  OK \n",
            "Extracting  train_release/15/HR_3.avi                                    \b\b\b\b 78%\b\b\b\b\b  OK \n",
            "Extracting  test_release/3/HR_3.avi                                      \b\b\b\b 78%\b\b\b\b\b  OK \n",
            "Extracting  train_release/20/HR_3.avi                                    \b\b\b\b 78%\b\b\b\b\b  OK \n",
            "Extracting  train_release/17/HR_3.avi                                    \b\b\b\b 78%\b\b\b\b\b  OK \n",
            "Extracting  test_release/22/HR_3.avi                                     \b\b\b\b 78%\b\b\b\b\b  OK \n",
            "Extracting  test_release/15/HR_3.avi                                     \b\b\b\b 79%\b\b\b\b\b  OK \n",
            "Extracting  test_release/25/HR_3.avi                                     \b\b\b\b 79%\b\b\b\b\b  OK \n",
            "Extracting  test_release/26/HR_3.avi                                     \b\b\b\b 79%\b\b\b\b\b  OK \n",
            "Extracting  train_release/14/HR_3.avi                                    \b\b\b\b 79%\b\b\b\b\b  OK \n",
            "Extracting  train_release/10/HR_3.avi                                    \b\b\b\b 79%\b\b\b\b\b  OK \n",
            "Extracting  test_release/9/HR_3.avi                                      \b\b\b\b 79%\b\b\b\b\b  OK \n",
            "Extracting  test_release/10/HR_3.avi                                     \b\b\b\b 79%\b\b\b\b\b  OK \n",
            "Extracting  test_release/27/HR_3.avi                                     \b\b\b\b 79%\b\b\b\b\b  OK \n",
            "Extracting  test_release/11/HR_3.avi                                     \b\b\b\b 80%\b\b\b\b\b  OK \n",
            "Extracting  train_release/9/HR_3.avi                                     \b\b\b\b 80%\b\b\b\b\b  OK \n",
            "Extracting  train_release/8/HR_3.avi                                     \b\b\b\b 80%\b\b\b\b\b  OK \n",
            "Extracting  train_release/12/HR_3.avi                                    \b\b\b\b 80%\b\b\b\b\b  OK \n",
            "Extracting  train_release/4/HR_3.avi                                     \b\b\b\b 80%\b\b\b\b\b  OK \n",
            "Extracting  train_release/2/HR_3.avi                                     \b\b\b\b 80%\b\b\b\b\b  OK \n",
            "Extracting  train_release/18/HR_3.avi                                    \b\b\b\b 80%\b\b\b\b\b  OK \n",
            "Extracting  test_release/8/HR_3.avi                                      \b\b\b\b 81%\b\b\b\b\b  OK \n",
            "Extracting  train_release/13/HR_3.avi                                    \b\b\b\b 81%\b\b\b\b\b  OK \n",
            "Extracting  train_release/3/HR_3.avi                                     \b\b\b\b 81%\b\b\b\b\b  OK \n",
            "Extracting  test_release/2/HR_3.avi                                      \b\b\b\b 81%\b\b\b\b\b  OK \n",
            "Extracting  test_release/24/HR_3.avi                                     \b\b\b\b 81%\b\b\b\b\b  OK \n",
            "Extracting  test_release/6/HR_3.avi                                      \b\b\b\b 81%\b\b\b\b\b  OK \n",
            "Extracting  test_release/4/HR_3.avi                                      \b\b\b\b 82%\b\b\b\b\b  OK \n",
            "Extracting  test_release/30/HR_3.avi                                     \b\b\b\b 82%\b\b\b\b\b  OK \n",
            "Extracting  test_release/7/HR_3.avi                                      \b\b\b\b 82%\b\b\b\b\b  OK \n",
            "Extracting  test_release/29/HR_3.avi                                     \b\b\b\b 82%\b\b\b\b\b  OK \n",
            "Extracting  train_release/11/HR_3.avi                                    \b\b\b\b 83%\b\b\b\b\b  OK \n",
            "Extracting  test_release/23/HR_3.avi                                     \b\b\b\b 83%\b\b\b\b\b  OK \n",
            "Extracting  test_release/28/HR_3.avi                                     \b\b\b\b 83%\b\b\b\b\b  OK \n",
            "Extracting  test_release/18/HR_3.avi                                     \b\b\b\b 83%\b\b\b\b\b  OK \n",
            "Extracting  test_release/21/HR_3.avi                                     \b\b\b\b 84%\b\b\b\b\b  OK \n",
            "Extracting  test_release/1/HR_4.avi                                      \b\b\b\b 84%\b\b\b\b\b  OK \n",
            "Extracting  test_release/28/HR_4.avi                                     \b\b\b\b 84%\b\b\b\b\b  OK \n",
            "Extracting  test_release/17/HR_4.avi                                     \b\b\b\b 84%\b\b\b\b\b  OK \n",
            "Extracting  test_release/11/HR_4.avi                                     \b\b\b\b 84%\b\b\b\b\b  OK \n",
            "Extracting  test_release/15/HR_4.avi                                     \b\b\b\b 84%\b\b\b\b\b  OK \n",
            "Extracting  test_release/2/HR_4.avi                                      \b\b\b\b 85%\b\b\b\b\b  OK \n",
            "Extracting  test_release/19/HR_4.avi                                     \b\b\b\b 85%\b\b\b\b\b  OK \n",
            "Extracting  train_release/7/HR_4.avi                                     \b\b\b\b 85%\b\b\b\b\b  OK \n",
            "Extracting  test_release/25/HR_4.avi                                     \b\b\b\b 85%\b\b\b\b\b  OK \n",
            "Extracting  train_release/9/HR_4.avi                                     \b\b\b\b 85%\b\b\b\b\b  OK \n",
            "Extracting  train_release/13/HR_4.avi                                    \b\b\b\b 86%\b\b\b\b\b  OK \n",
            "Extracting  train_release/5/HR_4.avi                                     \b\b\b\b 86%\b\b\b\b\b  OK \n",
            "Extracting  test_release/7/HR_4.avi                                      \b\b\b\b 86%\b\b\b\b\b  OK \n",
            "Extracting  test_release/10/HR_4.avi                                     \b\b\b\b 86%\b\b\b\b\b  OK \n",
            "Extracting  test_release/20/HR_4.avi                                     \b\b\b\b 86%\b\b\b\b\b  OK \n",
            "Extracting  train_release/16/HR_4.avi                                    \b\b\b\b 86%\b\b\b\b\b  OK \n",
            "Extracting  train_release/10/HR_4.avi                                    \b\b\b\b 87%\b\b\b\b\b  OK \n",
            "Extracting  train_release/14/HR_4.avi                                    \b\b\b\b 87%\b\b\b\b\b  OK \n",
            "Extracting  test_release/21/HR_4.avi                                     \b\b\b\b 87%\b\b\b\b\b  OK \n",
            "Extracting  test_release/22/HR_4.avi                                     \b\b\b\b 87%\b\b\b\b\b  OK \n",
            "Extracting  test_release/6/HR_4.avi                                      \b\b\b\b 87%\b\b\b\b\b  OK \n",
            "Extracting  test_release/4/HR_4.avi                                      \b\b\b\b 88%\b\b\b\b\b  OK \n",
            "Extracting  test_release/13/HR_4.avi                                     \b\b\b\b 88%\b\b\b\b\b  OK \n",
            "Extracting  test_release/5/HR_4.avi                                      \b\b\b\b 88%\b\b\b\b\b  OK \n",
            "Extracting  train_release/8/HR_4.avi                                     \b\b\b\b 88%\b\b\b\b\b  OK \n",
            "Extracting  train_release/18/HR_4.avi                                    \b\b\b\b 89%\b\b\b\b\b  OK \n",
            "Extracting  train_release/3/HR_4.avi                                     \b\b\b\b 89%\b\b\b\b\b  OK \n",
            "Extracting  train_release/19/HR_4.avi                                    \b\b\b\b 89%\b\b\b\b\b  OK \n",
            "Extracting  test_release/29/HR_4.avi                                     \b\b\b\b 89%\b\b\b\b\b  OK \n",
            "Extracting  train_release/15/HR_4.avi                                    \b\b\b\b 89%\b\b\b\b\b  OK \n",
            "Extracting  train_release/17/HR_4.avi                                    \b\b\b\b 90%\b\b\b\b\b  OK \n",
            "Extracting  test_release/14/HR_4.avi                                     \b\b\b\b 90%\b\b\b\b\b  OK \n",
            "Extracting  test_release/27/HR_4.avi                                     \b\b\b\b 90%\b\b\b\b\b  OK \n",
            "Extracting  test_release/8/HR_4.avi                                      \b\b\b\b 90%\b\b\b\b\b  OK \n",
            "Extracting  test_release/3/HR_4.avi                                      \b\b\b\b 91%\b\b\b\b\b  OK \n",
            "Extracting  test_release/26/HR_4.avi                                     \b\b\b\b 91%\b\b\b\b\b  OK \n",
            "Extracting  test_release/23/HR_4.avi                                     \b\b\b\b 91%\b\b\b\b\b  OK \n",
            "Extracting  test_release/12/HR_4.avi                                     \b\b\b\b 92%\b\b\b\b\b  OK \n",
            "Extracting  test_release/24/HR_4.avi                                     \b\b\b\b 92%\b\b\b\b\b  OK \n",
            "Extracting  train_release/20/HR_4.avi                                    \b\b\b\b 92%\b\b\b\b\b  OK \n",
            "Extracting  test_release/30/HR_4.avi                                     \b\b\b\b 93%\b\b\b\b\b  OK \n",
            "Extracting  train_release/4/HR_4.avi                                     \b\b\b\b 93%\b\b\b\b\b  OK \n",
            "Extracting  test_release/18/HR_4.avi                                     \b\b\b\b 93%\b\b\b\b\b  OK \n",
            "Extracting  test_release/9/HR_4.avi                                      \b\b\b\b 94%\b\b\b\b\b  OK \n",
            "Extracting  train_release/1/HR_4.avi                                     \b\b\b\b 94%\b\b\b\b\b  OK \n",
            "Extracting  train_release/6/HR_4.avi                                     \b\b\b\b 95%\b\b\b\b\b  OK \n",
            "Extracting  test_release/16/HR_4.avi                                     \b\b\b\b 95%\b\b\b\b\b  OK \n",
            "Extracting  train_release/2/HR_4.avi                                     \b\b\b\b 95%\b\b\b\b\b  OK \n",
            "Extracting  train_release/11/HR_4.avi                                    \b\b\b\b 96%\b\b\b\b\b  OK \n",
            "Extracting  train_release/12/HR_4.avi                                    \b\b\b\b 96%\b\b\b\b 97%\b\b\b\b\b  OK \n",
            "All OK\n",
            "CPU times: user 364 ms, sys: 62.1 ms, total: 426 ms\n",
            "Wall time: 44.9 s\n"
          ],
          "name": "stdout"
        }
      ]
    },
    {
      "cell_type": "code",
      "metadata": {
        "colab": {
          "base_uri": "https://localhost:8080/"
        },
        "id": "2jryH63puAv9",
        "outputId": "32274a2e-cfad-41e2-c0d3-49272475b688"
      },
      "source": [
        "dir_1 = '/content/irina/attack/opt/labeler/static/video/api'\n",
        "images_1 = glob.glob(dir_1 + '/*.*') + glob.glob(dir_1 + '/*/*.*')\n",
        "len(images_1)"
      ],
      "execution_count": null,
      "outputs": [
        {
          "output_type": "execute_result",
          "data": {
            "text/plain": [
              "48"
            ]
          },
          "metadata": {
            "tags": []
          },
          "execution_count": 10
        }
      ]
    },
    {
      "cell_type": "code",
      "metadata": {
        "colab": {
          "base_uri": "https://localhost:8080/"
        },
        "id": "WuBjq2Iqwynz",
        "outputId": "1ebabf30-3169-45a6-ab96-101c089b6188"
      },
      "source": [
        "dir_2 = '/content/irina/original/opt/labeler/static/video/api'\n",
        "images_2 = glob.glob(dir_2 + '/*.*') + glob.glob(dir_2 + '/*/*.*')\n",
        "len(images_2)"
      ],
      "execution_count": null,
      "outputs": [
        {
          "output_type": "execute_result",
          "data": {
            "text/plain": [
              "5092"
            ]
          },
          "metadata": {
            "tags": []
          },
          "execution_count": 11
        }
      ]
    },
    {
      "cell_type": "code",
      "metadata": {
        "id": "ceeVzsL5gEzm"
      },
      "source": [
        "dir_3_4 = '/content/train_release/*/'\n",
        "names_real = ['1', '2', 'HR_1']\n",
        "names_fake = ['3', '4', '5', '6', '7', '8', 'HR_2', 'HR_3', 'HR_4']"
      ],
      "execution_count": null,
      "outputs": []
    },
    {
      "cell_type": "code",
      "metadata": {
        "id": "nAyafw7bgEzn",
        "colab": {
          "base_uri": "https://localhost:8080/"
        },
        "outputId": "66b6cf5b-c4a1-4b61-ac7f-c50f615c336d"
      },
      "source": [
        "images_3 = []\n",
        "for name in names_fake:\n",
        "    images_3 += glob.glob(dir_3_4 + name + '.avi')\n",
        "len(images_3)"
      ],
      "execution_count": null,
      "outputs": [
        {
          "output_type": "execute_result",
          "data": {
            "text/plain": [
              "180"
            ]
          },
          "metadata": {
            "tags": []
          },
          "execution_count": 13
        }
      ]
    },
    {
      "cell_type": "code",
      "metadata": {
        "id": "0KaXiHtrnK2x",
        "colab": {
          "base_uri": "https://localhost:8080/"
        },
        "outputId": "f421815a-eeb2-49d0-c54b-34f06ef327e7"
      },
      "source": [
        "images_4 = []\n",
        "for name in names_real:\n",
        "    images_4 += glob.glob(dir_3_4 + name + '.avi')\n",
        "len(images_4)"
      ],
      "execution_count": null,
      "outputs": [
        {
          "output_type": "execute_result",
          "data": {
            "text/plain": [
              "60"
            ]
          },
          "metadata": {
            "tags": []
          },
          "execution_count": 14
        }
      ]
    },
    {
      "cell_type": "code",
      "metadata": {
        "colab": {
          "base_uri": "https://localhost:8080/"
        },
        "id": "iEeN_3OI-ykT",
        "outputId": "de6b9601-4f4f-46fa-b07d-897d39d20067"
      },
      "source": [
        "train_threshold = len(images_1) + len(images_4) - 8\n",
        "train_images = images_1[:40] + images_3 + images_2[:5052] + images_4\n",
        "train_labels = [1 for i in range(train_threshold)] + [0 for i in range(len(train_images)-train_threshold)]\n",
        "print(len(train_images))"
      ],
      "execution_count": null,
      "outputs": [
        {
          "output_type": "stream",
          "text": [
            "5332\n"
          ],
          "name": "stdout"
        }
      ]
    },
    {
      "cell_type": "code",
      "metadata": {
        "colab": {
          "base_uri": "https://localhost:8080/"
        },
        "id": "ahS-KKAS-ykT",
        "outputId": "ca63e44f-1ccb-4747-a0b7-0811992b4e12"
      },
      "source": [
        "val_images = images_1[-8:] + images_2[-40:]\n",
        "val_labels = [1 for i in range(8)] + [0 for i in range(40)]\n",
        "print(len(val_images))"
      ],
      "execution_count": null,
      "outputs": [
        {
          "output_type": "stream",
          "text": [
            "48\n"
          ],
          "name": "stdout"
        }
      ]
    },
    {
      "cell_type": "markdown",
      "metadata": {
        "id": "d3TFupB2Dnk7"
      },
      "source": [
        "## Preprocessing"
      ]
    },
    {
      "cell_type": "code",
      "metadata": {
        "id": "k2ZRoG55XqHD"
      },
      "source": [
        "h, w = 224, 224\n",
        "mean = [0.485, 0.456, 0.406]\n",
        "std = [0.229, 0.224, 0.225]"
      ],
      "execution_count": null,
      "outputs": []
    },
    {
      "cell_type": "code",
      "metadata": {
        "id": "nYvEHxN0saVf"
      },
      "source": [
        "def check_rotation(path_video_file):\n",
        "\n",
        "    meta_dict = ffmpeg.probe(path_video_file)\n",
        "\n",
        "    rotateCode = None\n",
        "    try:\n",
        "        if int(meta_dict['streams'][0]['tags']['rotate']) == 90:\n",
        "            rotateCode = cv2.ROTATE_90_CLOCKWISE\n",
        "        elif int(meta_dict['streams'][0]['tags']['rotate']) == 180:\n",
        "            rotateCode = cv2.ROTATE_180\n",
        "        elif int(meta_dict['streams'][0]['tags']['rotate']) == 270:\n",
        "            rotateCode = cv2.ROTATE_90_COUNTERCLOCKWISE\n",
        "    except: \n",
        "        pass\n",
        "        \n",
        "    return rotateCode"
      ],
      "execution_count": null,
      "outputs": []
    },
    {
      "cell_type": "code",
      "metadata": {
        "id": "_C7Fyc_bsc_V"
      },
      "source": [
        "def correct_rotation(frame, rotateCode):  \n",
        "    return cv2.rotate(frame, rotateCode)"
      ],
      "execution_count": null,
      "outputs": []
    },
    {
      "cell_type": "code",
      "metadata": {
        "id": "tcigkDg4cz_7"
      },
      "source": [
        "def get_frames(filename, n_max=float('inf')):\n",
        "    \n",
        "    frames = []\n",
        "    v_cap = cv2.VideoCapture(filename)\n",
        "    rotateCode = check_rotation(filename)\n",
        "    v_len = int(v_cap.get(cv2.CAP_PROP_FRAME_COUNT))\n",
        "    \n",
        "    n_frames = min(v_len, n_max)\n",
        "    frame_list= np.linspace(0, v_len-1, n_frames, dtype=np.int16)\n",
        "\n",
        "    for fn in range(v_len):\n",
        "        success, frame = v_cap.read()\n",
        "        if success is False:\n",
        "            continue\n",
        "        if (fn in frame_list):\n",
        "            frame = cv2.cvtColor(frame, cv2.COLOR_BGR2RGB)\n",
        "            if rotateCode is not None:\n",
        "                frame = correct_rotation(frame, rotateCode)  \n",
        "            frames.append(frame)\n",
        "\n",
        "    v_cap.release()\n",
        "\n",
        "    return frames, len(frames)"
      ],
      "execution_count": null,
      "outputs": []
    },
    {
      "cell_type": "code",
      "metadata": {
        "id": "ZunZ2svjYKM-"
      },
      "source": [
        "def transform_frames(frames, train=True):\n",
        "\n",
        "    img_transforms_0 = transforms.Compose([\n",
        "                transforms.Resize((h,w)),\n",
        "                transforms.ToTensor(),\n",
        "                transforms.Normalize(mean, std)])\n",
        "    img_transforms_1 = transforms.Compose([\n",
        "                transforms.Resize((h,w)),\n",
        "                transforms.Grayscale(num_output_channels=3),\n",
        "                transforms.ToTensor(),\n",
        "                transforms.Normalize(mean, std)])\n",
        "    img_transforms_2 = transforms.Compose([\n",
        "                transforms.Resize((h,w)),\n",
        "                transforms.RandomHorizontalFlip(p=1.),\n",
        "                transforms.ToTensor(),\n",
        "                transforms.Normalize(mean, std)])\n",
        "    img_transforms_3 = transforms.Compose([\n",
        "                transforms.Resize((h,w)),\n",
        "                transforms.Grayscale(num_output_channels=3),\n",
        "                transforms.RandomHorizontalFlip(p=1.),\n",
        "                transforms.ToTensor(),\n",
        "                transforms.Normalize(mean, std)])\n",
        "    \n",
        "    img_transforms = [img_transforms_0, \n",
        "                      img_transforms_1, \n",
        "                      img_transforms_2, \n",
        "                      img_transforms_3] \n",
        "    if train:\n",
        "        img_transform = random.choice(img_transforms)\n",
        "    else:\n",
        "        img_transform = img_transforms_0\n",
        "    \n",
        "    frames_tr = []\n",
        "    for frame in frames:\n",
        "        frame = Image.fromarray(frame)       \n",
        "        frame_tr = img_transform(frame)\n",
        "        frames_tr.append(frame_tr)\n",
        "        \n",
        "    imgs_tensor = torch.stack(frames_tr)    \n",
        "\n",
        "    return imgs_tensor"
      ],
      "execution_count": null,
      "outputs": []
    },
    {
      "cell_type": "markdown",
      "metadata": {
        "id": "9ES92OoTDy8d"
      },
      "source": [
        "## Model"
      ]
    },
    {
      "cell_type": "code",
      "metadata": {
        "id": "d9_de_h6XqbJ"
      },
      "source": [
        "class CNNEncoder(nn.Module):\n",
        "\n",
        "    def __init__(self, pretrained=True):\n",
        "        super(CNNEncoder, self).__init__()\n",
        "        \n",
        "        resnet = models.resnet34(pretrained=pretrained) \n",
        "\n",
        "        # Удаляем последний линейный слой\n",
        "        # На выходе будем получать тензор (batch_size, 512, 1, 1)\n",
        "        modules = list(resnet.children())[:-1]\n",
        "        self.resnet = nn.Sequential(*modules)\n",
        "\n",
        "        self.fine_tune(7)\n",
        "\n",
        "    def forward(self, image):\n",
        "\n",
        "        # (batch_size, 512, 1, 1)\n",
        "        out = self.resnet(image)\n",
        "\n",
        "        return out \n",
        "\n",
        "    def fine_tune(self, fine_tune=None):\n",
        "\n",
        "        for p in self.resnet.parameters():\n",
        "            p.requires_grad = False\n",
        "        if fine_tune is not None:\n",
        "            for p in self.resnet[fine_tune:].parameters():\n",
        "                p.requires_grad = True"
      ],
      "execution_count": null,
      "outputs": []
    },
    {
      "cell_type": "code",
      "metadata": {
        "id": "4HGI62kDPFGs"
      },
      "source": [
        "class CNN_RNN(nn.Module):\n",
        "    def __init__(self, num_classes, rnn_num_layers, hidden, rnn_hidden_size, bidirectional, dropout=0):\n",
        "        super(CNN_RNN, self).__init__()\n",
        "\n",
        "        self.hidden = hidden\n",
        "\n",
        "        # CNN\n",
        "        self.cnn = CNNEncoder()\n",
        "        self.conv = nn.Conv2d(512, self.hidden, 1)\n",
        "        \n",
        "        # RNN\n",
        "        if rnn_num_layers > 1:\n",
        "            self.rnn = nn.LSTM(self.hidden, rnn_hidden_size, rnn_num_layers, \n",
        "                               bidirectional=bidirectional, dropout=dropout)\n",
        "        else:\n",
        "            self.rnn = nn.LSTM(self.hidden, rnn_hidden_size, rnn_num_layers, \n",
        "                               bidirectional=bidirectional)\n",
        "        \n",
        "        # Classifier\n",
        "        self.dropout= nn.Dropout(dropout)\n",
        "        if bidirectional:\n",
        "            self.fc = nn.Linear(rnn_hidden_size*2, num_classes)\n",
        "        else:\n",
        "            self.fc = nn.Linear(rnn_hidden_size, num_classes)\n",
        "\n",
        "    def forward(self, frames, f_lens):\n",
        "        bs, s, c, height, width = frames.shape\n",
        "        frames_emb = torch.zeros(s, bs, self.hidden).to(device)\n",
        "\n",
        "        for i in range(s):\n",
        "            img_emb = self.cnn(frames[:, i])\n",
        "            img_emb = torch.relu(self.conv(img_emb))\n",
        "            frames_emb[i] = img_emb.view(bs, -1)\n",
        "\n",
        "        packed_frames_emb = nn.utils.rnn.pack_padded_sequence(frames_emb, f_lens, enforce_sorted=False)\n",
        "        packed_out, h = self.rnn(packed_frames_emb)\n",
        "        out, _ = nn.utils.rnn.pad_packed_sequence(packed_out)\n",
        "\n",
        "        out = self.fc(self.dropout(torch.mean(out, 0)))  \n",
        " \n",
        "        return out"
      ],
      "execution_count": null,
      "outputs": []
    },
    {
      "cell_type": "markdown",
      "metadata": {
        "id": "MFHGppF0Ij3g"
      },
      "source": [
        "## Configuration"
      ]
    },
    {
      "cell_type": "code",
      "metadata": {
        "id": "sATKuvPYNd1t",
        "colab": {
          "base_uri": "https://localhost:8080/",
          "height": 104,
          "referenced_widgets": [
            "84de9718fbe140439f89584ea291c999",
            "c0089bd962264541a0485257e60fa97f",
            "4f0b650c8ebf4567b196006cbbd92f47",
            "656024f8b65c4e329a752b3a7f62a8cf",
            "9160566c8d6a4415a29b39ff62e92db0",
            "1a55b835cfd94519855c8bf041797690",
            "ff3e7033766443d6abc8d682d8f041c7",
            "3efd2a846e9f49c4bea5a92cbc3edfa7"
          ]
        },
        "outputId": "e0be9f31-93b4-4fdd-9e31-4a91e5803eda"
      },
      "source": [
        "model = CNN_RNN(num_classes=2, rnn_num_layers=1, hidden=64, rnn_hidden_size=64, bidirectional=False, dropout=0.)"
      ],
      "execution_count": null,
      "outputs": [
        {
          "output_type": "stream",
          "text": [
            "Downloading: \"https://download.pytorch.org/models/resnet34-333f7ec4.pth\" to /root/.cache/torch/hub/checkpoints/resnet34-333f7ec4.pth\n"
          ],
          "name": "stderr"
        },
        {
          "output_type": "display_data",
          "data": {
            "application/vnd.jupyter.widget-view+json": {
              "model_id": "84de9718fbe140439f89584ea291c999",
              "version_minor": 0,
              "version_major": 2
            },
            "text/plain": [
              "HBox(children=(FloatProgress(value=0.0, max=87306240.0), HTML(value='')))"
            ]
          },
          "metadata": {
            "tags": []
          }
        },
        {
          "output_type": "stream",
          "text": [
            "\n"
          ],
          "name": "stdout"
        }
      ]
    },
    {
      "cell_type": "code",
      "metadata": {
        "id": "Nvr30rzlNd1x"
      },
      "source": [
        "model = model.to(device)"
      ],
      "execution_count": null,
      "outputs": []
    },
    {
      "cell_type": "code",
      "metadata": {
        "id": "C_jSkZ93Nd1x"
      },
      "source": [
        "optimizer = torch.optim.AdamW(model.parameters(), \n",
        "                              lr = 0.0001)\n",
        "criterion = nn.CrossEntropyLoss()\n",
        "scheduler = torch.optim.lr_scheduler.StepLR(optimizer, \n",
        "                                            step_size=1, \n",
        "                                            gamma=0.5)"
      ],
      "execution_count": null,
      "outputs": []
    },
    {
      "cell_type": "code",
      "metadata": {
        "id": "gGyRTi6eNd1y"
      },
      "source": [
        "max_epochs = 500\n",
        "every_epochs = 50\n",
        "n_max = 40\n",
        "clip = 5"
      ],
      "execution_count": null,
      "outputs": []
    },
    {
      "cell_type": "markdown",
      "metadata": {
        "id": "VfJJL6_GGCgf"
      },
      "source": [
        "## Training"
      ]
    },
    {
      "cell_type": "code",
      "metadata": {
        "id": "416eecDSwLNh"
      },
      "source": [
        "def generate_batch(images, labels, batch_size, threshold=None, size=None, train=True, n_max=30):\n",
        "    \n",
        "    if train:\n",
        "        if size is None:\n",
        "            size = batch_size // 2\n",
        "        if threshold is None:\n",
        "            threshold = sum(labels)\n",
        "        n = random.randint(max(1, n_max-10), n_max+10)\n",
        "        index_1 = np.random.randint(0, threshold, size=size)\n",
        "        index_2 = np.random.randint(threshold, len(images), size=batch_size-size)\n",
        "        random_index = np.concatenate((index_1, index_2))\n",
        "        np.random.shuffle(random_index)\n",
        "        filenames = np.array(images)[random_index]\n",
        "        batch_labels = np.array(labels)[random_index]\n",
        "    else:\n",
        "        n = n_max\n",
        "        filenames = np.array(images)\n",
        "        batch_labels = np.array(labels)\n",
        "\n",
        "    batch_images = []\n",
        "    f_lens = []\n",
        "\n",
        "    for filename in filenames:\n",
        "        frames, f_len = get_frames(filename, n_max=n)\n",
        "        f_lens.append(f_len)\n",
        "        img_tensor = transform_frames(frames, train)\n",
        "        batch_images.append(img_tensor)\n",
        "\n",
        "    max_len = np.max(f_lens)\n",
        "\n",
        "    _, c, h, w = batch_images[0].shape\n",
        "    batch_images_padded = torch.zeros((batch_size, max_len, c, h, w)) \n",
        "    mask = [] \n",
        "\n",
        "    for i, img in enumerate(batch_images):\n",
        "\n",
        "        batch_images_padded[i, :f_lens[i], :, :, :] = img\n",
        "        mask.append([False for j in range(f_lens[i])] + [True for j in range(max_len-f_lens[i])])\n",
        "    \n",
        "    return batch_images_padded, torch.LongTensor(batch_labels), torch.LongTensor(f_lens) #, torch.tensor(mask)"
      ],
      "execution_count": null,
      "outputs": []
    },
    {
      "cell_type": "code",
      "metadata": {
        "id": "g5OpYK0ryqMc"
      },
      "source": [
        "def evaluate(model, criterion, val_images, val_labels, batch_size):\n",
        "    \n",
        "    model.eval()\n",
        "    \n",
        "    epoch_loss = 0\n",
        "    f1 = 0\n",
        "    outputs = []\n",
        "\n",
        "    # Не учитываем последний неполный батч\n",
        "    val_size = len(val_images) // batch_size * batch_size\n",
        "    \n",
        "    with torch.no_grad():\n",
        "    \n",
        "        for i in range(0, val_size, batch_size):\n",
        "\n",
        "            batch = generate_batch(val_images[i:i+batch_size], \n",
        "                                   val_labels[i:i+batch_size], \n",
        "                                   batch_size=16, \n",
        "                                   train=False)\n",
        "            labels = batch[1].to(device)\n",
        "        \n",
        "            output = model(batch[0].to(device), batch[2])\n",
        "\n",
        "            loss = criterion(output, labels)\n",
        "            outputs += output.argmax(-1).tolist()\n",
        "            \n",
        "            epoch_loss += loss.item()\n",
        "    \n",
        "    f1 = f1_score(val_labels, outputs)\n",
        "    conf_matrix = confusion_matrix(val_labels, outputs)\n",
        "    roc_auc = roc_auc_score(val_labels, outputs)\n",
        "        \n",
        "    return epoch_loss / (val_size // batch_size), f1, conf_matrix, roc_auc"
      ],
      "execution_count": null,
      "outputs": []
    },
    {
      "cell_type": "code",
      "metadata": {
        "colab": {
          "base_uri": "https://localhost:8080/",
          "height": 1000
        },
        "id": "RJC-1g2sNd1y",
        "outputId": "1e9d75e1-0a0a-4186-d729-8a42377c1f72"
      },
      "source": [
        "%%time\n",
        "best_f1 = 0\n",
        "best_loss = float('inf')\n",
        "epoch_loss = 0\n",
        "train_losses = []\n",
        "val_losses = []\n",
        "\n",
        "for epoch in range(1, max_epochs+1):\n",
        "\n",
        "    batch = generate_batch(images=train_images, \n",
        "                           labels=train_labels, \n",
        "                           batch_size=8, \n",
        "                           threshold=train_threshold, \n",
        "                           size=4, \n",
        "                           train=True, \n",
        "                           n_max=n_max)\n",
        "    labels = batch[1].to(device)\n",
        "    model.train()\n",
        "    optimizer.zero_grad()\n",
        "        \n",
        "    outputs = model(batch[0].to(device), batch[2])\n",
        "\n",
        "    loss = criterion(outputs, labels)        \n",
        "    loss.backward()       \n",
        "    torch.nn.utils.clip_grad_norm_(model.parameters(), clip)       \n",
        "    optimizer.step()       \n",
        "    epoch_loss += loss.item()\n",
        "\n",
        "    if epoch % every_epochs == 0:\n",
        "        scheduler.step()\n",
        "        \n",
        "        val_loss, val_f1, conf_matrix, val_roc_auc = evaluate(model, \n",
        "                                                              criterion, \n",
        "                                                              val_images, \n",
        "                                                              val_labels, \n",
        "                                                              batch_size=16)   \n",
        "        print('Epoch : {}'.format(epoch))\n",
        "        print('Train loss : {}'.format(epoch_loss / every_epochs))\n",
        "        print('Val loss   : {}'.format(val_loss))\n",
        "        print('Val f1     : {}'.format(val_f1))\n",
        "        print('Val roc auc: {}'.format(val_roc_auc))\n",
        "        print('Conf matrix:')\n",
        "        print(conf_matrix)\n",
        "        \n",
        "        train_losses.append(epoch_loss / every_epochs)\n",
        "        val_losses.append(val_loss)\n",
        "        if val_loss < best_loss:\n",
        "            best_loss = val_loss\n",
        "            torch.save(model.state_dict(), '/content/model_best_loss.pt')\n",
        "            print('Save best loss model')\n",
        "        if val_f1 > best_f1:\n",
        "            best_f1 = val_f1\n",
        "            torch.save(model.state_dict(), '/content/model_best_score.pt')\n",
        "            print('Save best score model')\n",
        "        epoch_loss = 0\n",
        "        print()\n",
        "\n",
        "plt.title(\"Losses\")\n",
        "plt.plot(train_losses, label=\"train loss\")\n",
        "plt.plot(val_losses, label=\"val loss\")\n",
        "plt.plot(np.argmin(val_losses), np.min(val_losses), marker=\"x\", color=\"r\", label=\"best val loss\")\n",
        "plt.xlabel(\"Epochs\")\n",
        "plt.ylabel(\"Losses\")\n",
        "plt.legend()\n",
        "plt.show()"
      ],
      "execution_count": null,
      "outputs": [
        {
          "output_type": "stream",
          "text": [
            "Epoch : 50\n",
            "Train loss : 0.4477052366733551\n",
            "Val loss   : 0.5284981727600098\n",
            "Val f1     : 0.5714285714285714\n",
            "Val roc auc: 0.7874999999999999\n",
            "Conf matrix:\n",
            "[[33  7]\n",
            " [ 2  6]]\n",
            "Save best loss model\n",
            "Save best score model\n",
            "\n",
            "Epoch : 100\n",
            "Train loss : 0.2548907890915871\n",
            "Val loss   : 0.4120846639076869\n",
            "Val f1     : 0.2222222222222222\n",
            "Val roc auc: 0.5625\n",
            "Conf matrix:\n",
            "[[40  0]\n",
            " [ 7  1]]\n",
            "Save best loss model\n",
            "\n",
            "Epoch : 150\n",
            "Train loss : 0.20195715129375458\n",
            "Val loss   : 0.301345298687617\n",
            "Val f1     : 0.7692307692307693\n",
            "Val roc auc: 0.8125\n",
            "Conf matrix:\n",
            "[[40  0]\n",
            " [ 3  5]]\n",
            "Save best loss model\n",
            "Save best score model\n",
            "\n",
            "Epoch : 200\n",
            "Train loss : 0.16076516821980477\n",
            "Val loss   : 0.3827625662088394\n",
            "Val f1     : 0.5454545454545454\n",
            "Val roc auc: 0.6875\n",
            "Conf matrix:\n",
            "[[40  0]\n",
            " [ 5  3]]\n",
            "\n",
            "Epoch : 250\n",
            "Train loss : 0.16288659796118737\n",
            "Val loss   : 0.33743731180826825\n",
            "Val f1     : 0.7058823529411765\n",
            "Val roc auc: 0.8375\n",
            "Conf matrix:\n",
            "[[37  3]\n",
            " [ 2  6]]\n",
            "\n",
            "Epoch : 300\n",
            "Train loss : 0.14711367391049862\n",
            "Val loss   : 0.26785845557848614\n",
            "Val f1     : 0.7692307692307693\n",
            "Val roc auc: 0.8125\n",
            "Conf matrix:\n",
            "[[40  0]\n",
            " [ 3  5]]\n",
            "Save best loss model\n",
            "\n",
            "Epoch : 350\n",
            "Train loss : 0.137408954128623\n",
            "Val loss   : 0.3598674436410268\n",
            "Val f1     : 0.6666666666666666\n",
            "Val roc auc: 0.75\n",
            "Conf matrix:\n",
            "[[40  0]\n",
            " [ 4  4]]\n",
            "\n",
            "Epoch : 400\n",
            "Train loss : 0.13147649101912975\n",
            "Val loss   : 0.3367252101500829\n",
            "Val f1     : 0.7692307692307693\n",
            "Val roc auc: 0.8125\n",
            "Conf matrix:\n",
            "[[40  0]\n",
            " [ 3  5]]\n",
            "\n",
            "Epoch : 450\n",
            "Train loss : 0.14700942710042\n",
            "Val loss   : 0.2981786330540975\n",
            "Val f1     : 0.875\n",
            "Val roc auc: 0.925\n",
            "Conf matrix:\n",
            "[[39  1]\n",
            " [ 1  7]]\n",
            "Save best score model\n",
            "\n",
            "Epoch : 500\n",
            "Train loss : 0.13642729587852956\n",
            "Val loss   : 0.2981889347235362\n",
            "Val f1     : 0.7692307692307693\n",
            "Val roc auc: 0.8125\n",
            "Conf matrix:\n",
            "[[40  0]\n",
            " [ 3  5]]\n",
            "\n"
          ],
          "name": "stdout"
        },
        {
          "output_type": "display_data",
          "data": {
            "image/png": "[encoded data removed]",
            "text/plain": [
              "<Figure size 432x288 with 1 Axes>"
            ]
          },
          "metadata": {
            "tags": [],
            "needs_background": "light"
          }
        },
        {
          "output_type": "stream",
          "text": [
            "CPU times: user 54min 19s, sys: 9min 33s, total: 1h 3min 53s\n",
            "Wall time: 55min 42s\n"
          ],
          "name": "stdout"
        }
      ]
    },
    {
      "cell_type": "code",
      "metadata": {
        "id": "22V2lMM11fr5"
      },
      "source": [
        ""
      ],
      "execution_count": null,
      "outputs": []
    }
  ]
}