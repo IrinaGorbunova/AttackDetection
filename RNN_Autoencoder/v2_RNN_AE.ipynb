{
  "nbformat": 4,
  "nbformat_minor": 0,
  "metadata": {
    "accelerator": "GPU",
    "colab": {
      "name": "v2_RNN_AE.ipynb",
      "provenance": [],
      "collapsed_sections": [],
      "toc_visible": true,
      "machine_shape": "hm"
    },
    "kernelspec": {
      "display_name": "Python 3",
      "name": "python3"
    },
    "widgets": {
      "application/vnd.jupyter.widget-state+json": {
        "19de1a631b4f4c6bba48086beaf84c38": {
          "model_module": "@jupyter-widgets/controls",
          "model_name": "HBoxModel",
          "state": {
            "_view_name": "HBoxView",
            "_dom_classes": [],
            "_model_name": "HBoxModel",
            "_view_module": "@jupyter-widgets/controls",
            "_model_module_version": "1.5.0",
            "_view_count": null,
            "_view_module_version": "1.5.0",
            "box_style": "",
            "layout": "IPY_MODEL_a11ed0269d554ade8afa3347a52aeeb9",
            "_model_module": "@jupyter-widgets/controls",
            "children": [
              "IPY_MODEL_53c95315128e4ed89fb0c55d87258d88",
              "IPY_MODEL_cba3576483b94638818d2c3b6218a751"
            ]
          }
        },
        "a11ed0269d554ade8afa3347a52aeeb9": {
          "model_module": "@jupyter-widgets/base",
          "model_name": "LayoutModel",
          "state": {
            "_view_name": "LayoutView",
            "grid_template_rows": null,
            "right": null,
            "justify_content": null,
            "_view_module": "@jupyter-widgets/base",
            "overflow": null,
            "_model_module_version": "1.2.0",
            "_view_count": null,
            "flex_flow": null,
            "width": null,
            "min_width": null,
            "border": null,
            "align_items": null,
            "bottom": null,
            "_model_module": "@jupyter-widgets/base",
            "top": null,
            "grid_column": null,
            "overflow_y": null,
            "overflow_x": null,
            "grid_auto_flow": null,
            "grid_area": null,
            "grid_template_columns": null,
            "flex": null,
            "_model_name": "LayoutModel",
            "justify_items": null,
            "grid_row": null,
            "max_height": null,
            "align_content": null,
            "visibility": null,
            "align_self": null,
            "height": null,
            "min_height": null,
            "padding": null,
            "grid_auto_rows": null,
            "grid_gap": null,
            "max_width": null,
            "order": null,
            "_view_module_version": "1.2.0",
            "grid_template_areas": null,
            "object_position": null,
            "object_fit": null,
            "grid_auto_columns": null,
            "margin": null,
            "display": null,
            "left": null
          }
        },
        "53c95315128e4ed89fb0c55d87258d88": {
          "model_module": "@jupyter-widgets/controls",
          "model_name": "FloatProgressModel",
          "state": {
            "_view_name": "ProgressView",
            "style": "IPY_MODEL_e388f5b61a5e4a8f9e3a0f599cc0a6d2",
            "_dom_classes": [],
            "description": "100%",
            "_model_name": "FloatProgressModel",
            "bar_style": "success",
            "max": 87306240,
            "_view_module": "@jupyter-widgets/controls",
            "_model_module_version": "1.5.0",
            "value": 87306240,
            "_view_count": null,
            "_view_module_version": "1.5.0",
            "orientation": "horizontal",
            "min": 0,
            "description_tooltip": null,
            "_model_module": "@jupyter-widgets/controls",
            "layout": "IPY_MODEL_1b302f7794a444f9b47748ab0eb2d928"
          }
        },
        "cba3576483b94638818d2c3b6218a751": {
          "model_module": "@jupyter-widgets/controls",
          "model_name": "HTMLModel",
          "state": {
            "_view_name": "HTMLView",
            "style": "IPY_MODEL_9e20352dfde94705b7b2b62e9cff4f33",
            "_dom_classes": [],
            "description": "",
            "_model_name": "HTMLModel",
            "placeholder": "​",
            "_view_module": "@jupyter-widgets/controls",
            "_model_module_version": "1.5.0",
            "value": " 83.3M/83.3M [00:14&lt;00:00, 6.09MB/s]",
            "_view_count": null,
            "_view_module_version": "1.5.0",
            "description_tooltip": null,
            "_model_module": "@jupyter-widgets/controls",
            "layout": "IPY_MODEL_ef8f6231280b4cc9a7aa8787ec9ff2e1"
          }
        },
        "e388f5b61a5e4a8f9e3a0f599cc0a6d2": {
          "model_module": "@jupyter-widgets/controls",
          "model_name": "ProgressStyleModel",
          "state": {
            "_view_name": "StyleView",
            "_model_name": "ProgressStyleModel",
            "description_width": "initial",
            "_view_module": "@jupyter-widgets/base",
            "_model_module_version": "1.5.0",
            "_view_count": null,
            "_view_module_version": "1.2.0",
            "bar_color": null,
            "_model_module": "@jupyter-widgets/controls"
          }
        },
        "1b302f7794a444f9b47748ab0eb2d928": {
          "model_module": "@jupyter-widgets/base",
          "model_name": "LayoutModel",
          "state": {
            "_view_name": "LayoutView",
            "grid_template_rows": null,
            "right": null,
            "justify_content": null,
            "_view_module": "@jupyter-widgets/base",
            "overflow": null,
            "_model_module_version": "1.2.0",
            "_view_count": null,
            "flex_flow": null,
            "width": null,
            "min_width": null,
            "border": null,
            "align_items": null,
            "bottom": null,
            "_model_module": "@jupyter-widgets/base",
            "top": null,
            "grid_column": null,
            "overflow_y": null,
            "overflow_x": null,
            "grid_auto_flow": null,
            "grid_area": null,
            "grid_template_columns": null,
            "flex": null,
            "_model_name": "LayoutModel",
            "justify_items": null,
            "grid_row": null,
            "max_height": null,
            "align_content": null,
            "visibility": null,
            "align_self": null,
            "height": null,
            "min_height": null,
            "padding": null,
            "grid_auto_rows": null,
            "grid_gap": null,
            "max_width": null,
            "order": null,
            "_view_module_version": "1.2.0",
            "grid_template_areas": null,
            "object_position": null,
            "object_fit": null,
            "grid_auto_columns": null,
            "margin": null,
            "display": null,
            "left": null
          }
        },
        "9e20352dfde94705b7b2b62e9cff4f33": {
          "model_module": "@jupyter-widgets/controls",
          "model_name": "DescriptionStyleModel",
          "state": {
            "_view_name": "StyleView",
            "_model_name": "DescriptionStyleModel",
            "description_width": "",
            "_view_module": "@jupyter-widgets/base",
            "_model_module_version": "1.5.0",
            "_view_count": null,
            "_view_module_version": "1.2.0",
            "_model_module": "@jupyter-widgets/controls"
          }
        },
        "ef8f6231280b4cc9a7aa8787ec9ff2e1": {
          "model_module": "@jupyter-widgets/base",
          "model_name": "LayoutModel",
          "state": {
            "_view_name": "LayoutView",
            "grid_template_rows": null,
            "right": null,
            "justify_content": null,
            "_view_module": "@jupyter-widgets/base",
            "overflow": null,
            "_model_module_version": "1.2.0",
            "_view_count": null,
            "flex_flow": null,
            "width": null,
            "min_width": null,
            "border": null,
            "align_items": null,
            "bottom": null,
            "_model_module": "@jupyter-widgets/base",
            "top": null,
            "grid_column": null,
            "overflow_y": null,
            "overflow_x": null,
            "grid_auto_flow": null,
            "grid_area": null,
            "grid_template_columns": null,
            "flex": null,
            "_model_name": "LayoutModel",
            "justify_items": null,
            "grid_row": null,
            "max_height": null,
            "align_content": null,
            "visibility": null,
            "align_self": null,
            "height": null,
            "min_height": null,
            "padding": null,
            "grid_auto_rows": null,
            "grid_gap": null,
            "max_width": null,
            "order": null,
            "_view_module_version": "1.2.0",
            "grid_template_areas": null,
            "object_position": null,
            "object_fit": null,
            "grid_auto_columns": null,
            "margin": null,
            "display": null,
            "left": null
          }
        }
      }
    }
  },
  "cells": [
    {
      "cell_type": "markdown",
      "metadata": {
        "id": "xSmXB9NX7JGM"
      },
      "source": [
        "# RNN-Autoencoder\n",
        "\n",
        "Попытка использовать большое количество оригиналов для обучения без учителя. С этой целью используется модель автоэнкодера с RNN энкодером и декодером. В качестве входных данных эмбеддинги, полученные с помощью ResNet 34.\n",
        "\n",
        "Гипотеза: При реконструкции атак ошибка должна быть выше (аномалии).\n",
        "\n",
        "Улучшение: Предобученная ResNet 34 (например, часть CNN из CNN_Transformer)"
      ]
    },
    {
      "cell_type": "markdown",
      "metadata": {
        "id": "Dj-7Q2vvDZl-"
      },
      "source": [
        "## Dependences"
      ]
    },
    {
      "cell_type": "code",
      "metadata": {
        "colab": {
          "base_uri": "https://localhost:8080/"
        },
        "id": "n2H3pD4GrRKN",
        "outputId": "74c239a9-825e-4bf1-9264-e17078919439"
      },
      "source": [
        "!nvidia-smi"
      ],
      "execution_count": null,
      "outputs": [
        {
          "output_type": "stream",
          "text": [
            "Wed Apr 28 21:59:58 2021       \n",
            "+-----------------------------------------------------------------------------+\n",
            "| NVIDIA-SMI 465.19.01    Driver Version: 460.32.03    CUDA Version: 11.2     |\n",
            "|-------------------------------+----------------------+----------------------+\n",
            "| GPU  Name        Persistence-M| Bus-Id        Disp.A | Volatile Uncorr. ECC |\n",
            "| Fan  Temp  Perf  Pwr:Usage/Cap|         Memory-Usage | GPU-Util  Compute M. |\n",
            "|                               |                      |               MIG M. |\n",
            "|===============================+======================+======================|\n",
            "|   0  Tesla P4            Off  | 00000000:00:04.0 Off |                    0 |\n",
            "| N/A   34C    P8     6W /  75W |      0MiB /  7611MiB |      0%      Default |\n",
            "|                               |                      |                  N/A |\n",
            "+-------------------------------+----------------------+----------------------+\n",
            "                                                                               \n",
            "+-----------------------------------------------------------------------------+\n",
            "| Processes:                                                                  |\n",
            "|  GPU   GI   CI        PID   Type   Process name                  GPU Memory |\n",
            "|        ID   ID                                                   Usage      |\n",
            "|=============================================================================|\n",
            "|  No running processes found                                                 |\n",
            "+-----------------------------------------------------------------------------+\n"
          ],
          "name": "stdout"
        }
      ]
    },
    {
      "cell_type": "code",
      "metadata": {
        "colab": {
          "base_uri": "https://localhost:8080/"
        },
        "id": "LLbLrZhUnbhs",
        "outputId": "e967738c-eee9-4ed1-a2ec-ca1cdb3f98de"
      },
      "source": [
        "!pip install ffmpeg-python"
      ],
      "execution_count": null,
      "outputs": [
        {
          "output_type": "stream",
          "text": [
            "Collecting ffmpeg-python\n",
            "  Downloading https://files.pythonhosted.org/packages/d7/0c/56be52741f75bad4dc6555991fabd2e07b432d333da82c11ad701123888a/ffmpeg_python-0.2.0-py3-none-any.whl\n",
            "Requirement already satisfied: future in /usr/local/lib/python3.7/dist-packages (from ffmpeg-python) (0.16.0)\n",
            "Installing collected packages: ffmpeg-python\n",
            "Successfully installed ffmpeg-python-0.2.0\n"
          ],
          "name": "stdout"
        }
      ]
    },
    {
      "cell_type": "code",
      "metadata": {
        "id": "BF8XH99LcxmV"
      },
      "source": [
        "import os\n",
        "import cv2\n",
        "import ffmpeg\n",
        "from PIL import Image\n",
        "import numpy as np\n",
        "from torch.utils import data\n",
        "import torch\n",
        "import torch.nn as nn\n",
        "import torch.nn.functional as F\n",
        "import torchvision.models as models\n",
        "import torchvision.transforms as transforms\n",
        "from tqdm import tqdm\n",
        "import requests\n",
        "import math\n",
        "import glob\n",
        "import random\n",
        "from random import choice\n",
        "from sklearn.metrics import accuracy_score, f1_score, confusion_matrix, roc_auc_score\n",
        "import matplotlib.pyplot as plt"
      ],
      "execution_count": null,
      "outputs": []
    },
    {
      "cell_type": "code",
      "metadata": {
        "id": "CxKHcYo71lRV"
      },
      "source": [
        "device = torch.device(\"cuda\" if torch.cuda.is_available() else \"cpu\")"
      ],
      "execution_count": null,
      "outputs": []
    },
    {
      "cell_type": "code",
      "metadata": {
        "id": "F9PZXpS79DWk"
      },
      "source": [
        "SEED = 42\n",
        "\n",
        "def seed_everything(seed):\n",
        "    random.seed(seed)\n",
        "    os.environ['PYTHONHASHSEED'] = str(seed)\n",
        "    np.random.seed(seed)\n",
        "    torch.manual_seed(seed)\n",
        "    torch.cuda.manual_seed(seed)\n",
        "    torch.backends.cudnn.deterministic = False\n",
        "    torch.backends.cudnn.benchmark = True\n",
        "\n",
        "seed_everything(SEED)"
      ],
      "execution_count": null,
      "outputs": []
    },
    {
      "cell_type": "markdown",
      "metadata": {
        "id": "5TsKdzsuDgRB"
      },
      "source": [
        "## Data"
      ]
    },
    {
      "cell_type": "code",
      "metadata": {
        "id": "etC2F6MAXhlC",
        "colab": {
          "base_uri": "https://localhost:8080/"
        },
        "outputId": "79ab7a8d-1571-439e-dc8b-35a2f473774b"
      },
      "source": [
        "from google.colab import drive\n",
        "drive.mount('/content/drive')"
      ],
      "execution_count": null,
      "outputs": [
        {
          "output_type": "stream",
          "text": [
            "Mounted at /content/drive\n"
          ],
          "name": "stdout"
        }
      ]
    },
    {
      "cell_type": "code",
      "metadata": {
        "id": "u1WHKFeTzJfL"
      },
      "source": [
        "# %%time\n",
        "# !gdown --id 1SB0qwhhlEFH1DZNeaFrsGEbYfWerRxWc"
      ],
      "execution_count": null,
      "outputs": []
    },
    {
      "cell_type": "code",
      "metadata": {
        "colab": {
          "base_uri": "https://localhost:8080/"
        },
        "id": "k3CHoOXNVubv",
        "outputId": "d4c1507b-917e-4b60-b3b7-dde9b1487f4f"
      },
      "source": [
        "%%time\n",
        "!tar xzf '/content/drive/MyDrive/combined_ds.tar.gz' #combined_ds.tar.gz #"
      ],
      "execution_count": null,
      "outputs": [
        {
          "output_type": "stream",
          "text": [
            "CPU times: user 1.49 s, sys: 228 ms, total: 1.72 s\n",
            "Wall time: 5min 9s\n"
          ],
          "name": "stdout"
        }
      ]
    },
    {
      "cell_type": "code",
      "metadata": {
        "colab": {
          "base_uri": "https://localhost:8080/"
        },
        "id": "2jryH63puAv9",
        "outputId": "1590436c-eab1-46f3-e5bd-142d2acb2adf"
      },
      "source": [
        "dir_1 = '/content/irina/attack/opt/labeler/static/video/api'\n",
        "images_1 = glob.glob(dir_1 + '/*.*') + glob.glob(dir_1 + '/*/*.*')\n",
        "len(images_1)"
      ],
      "execution_count": null,
      "outputs": [
        {
          "output_type": "execute_result",
          "data": {
            "text/plain": [
              "48"
            ]
          },
          "metadata": {
            "tags": []
          },
          "execution_count": 8
        }
      ]
    },
    {
      "cell_type": "code",
      "metadata": {
        "colab": {
          "base_uri": "https://localhost:8080/"
        },
        "id": "WuBjq2Iqwynz",
        "outputId": "5fef8407-dea3-4060-ca3d-5af3ed15b704"
      },
      "source": [
        "dir_2 = '/content/irina/original/opt/labeler/static/video/api'\n",
        "images_2 = glob.glob(dir_2 + '/*.*') + glob.glob(dir_2 + '/*/*.*')\n",
        "len(images_2)"
      ],
      "execution_count": null,
      "outputs": [
        {
          "output_type": "execute_result",
          "data": {
            "text/plain": [
              "5092"
            ]
          },
          "metadata": {
            "tags": []
          },
          "execution_count": 9
        }
      ]
    },
    {
      "cell_type": "code",
      "metadata": {
        "id": "mT-EcMSA6F-a",
        "colab": {
          "base_uri": "https://localhost:8080/"
        },
        "outputId": "dc7ce215-4bfb-433f-85b0-4206af5bcee6"
      },
      "source": [
        "train_images = images_2[:-48]\n",
        "print(len(train_images))"
      ],
      "execution_count": null,
      "outputs": [
        {
          "output_type": "stream",
          "text": [
            "5044\n"
          ],
          "name": "stdout"
        }
      ]
    },
    {
      "cell_type": "code",
      "metadata": {
        "id": "_8iYtxpv4HGT",
        "colab": {
          "base_uri": "https://localhost:8080/"
        },
        "outputId": "fa7479ad-b393-422c-c4fc-b22d1de23b29"
      },
      "source": [
        "val_images = images_2[-48:]\n",
        "print(len(val_images))"
      ],
      "execution_count": null,
      "outputs": [
        {
          "output_type": "stream",
          "text": [
            "48\n"
          ],
          "name": "stdout"
        }
      ]
    },
    {
      "cell_type": "code",
      "metadata": {
        "colab": {
          "base_uri": "https://localhost:8080/"
        },
        "id": "J-Ksk2_BZzrK",
        "outputId": "23b5466e-912c-47fd-bd7d-4b4a36f746af"
      },
      "source": [
        "val_images_1 = images_1\n",
        "print(len(val_images_1))"
      ],
      "execution_count": null,
      "outputs": [
        {
          "output_type": "stream",
          "text": [
            "48\n"
          ],
          "name": "stdout"
        }
      ]
    },
    {
      "cell_type": "markdown",
      "metadata": {
        "id": "d3TFupB2Dnk7"
      },
      "source": [
        "## Preprocessing"
      ]
    },
    {
      "cell_type": "code",
      "metadata": {
        "id": "k2ZRoG55XqHD"
      },
      "source": [
        "h, w = 224, 224\n",
        "mean = [0.485, 0.456, 0.406]\n",
        "std = [0.229, 0.224, 0.225]"
      ],
      "execution_count": null,
      "outputs": []
    },
    {
      "cell_type": "code",
      "metadata": {
        "id": "nYvEHxN0saVf"
      },
      "source": [
        "def check_rotation(path_video_file):\n",
        "\n",
        "    meta_dict = ffmpeg.probe(path_video_file)\n",
        "\n",
        "    rotateCode = None\n",
        "    try:\n",
        "        if int(meta_dict['streams'][0]['tags']['rotate']) == 90:\n",
        "            rotateCode = cv2.ROTATE_90_CLOCKWISE\n",
        "        elif int(meta_dict['streams'][0]['tags']['rotate']) == 180:\n",
        "            rotateCode = cv2.ROTATE_180\n",
        "        elif int(meta_dict['streams'][0]['tags']['rotate']) == 270:\n",
        "            rotateCode = cv2.ROTATE_90_COUNTERCLOCKWISE\n",
        "    except: \n",
        "        pass\n",
        "        \n",
        "    return rotateCode"
      ],
      "execution_count": null,
      "outputs": []
    },
    {
      "cell_type": "code",
      "metadata": {
        "id": "_C7Fyc_bsc_V"
      },
      "source": [
        "def correct_rotation(frame, rotateCode):  \n",
        "    return cv2.rotate(frame, rotateCode)"
      ],
      "execution_count": null,
      "outputs": []
    },
    {
      "cell_type": "code",
      "metadata": {
        "id": "tcigkDg4cz_7"
      },
      "source": [
        "def get_frames(filename, n_max=float('inf')):\n",
        "    \n",
        "    frames = []\n",
        "    v_cap = cv2.VideoCapture(filename)\n",
        "    rotateCode = check_rotation(filename)\n",
        "    v_len = int(v_cap.get(cv2.CAP_PROP_FRAME_COUNT))\n",
        "    \n",
        "    n_frames = min(v_len, n_max)\n",
        "    frame_list= np.linspace(0, v_len-1, n_frames, dtype=np.int16)\n",
        "\n",
        "    for fn in range(v_len):\n",
        "        success, frame = v_cap.read()\n",
        "        if success is False:\n",
        "            continue\n",
        "        if (fn in frame_list):\n",
        "            frame = cv2.cvtColor(frame, cv2.COLOR_BGR2RGB)\n",
        "            if rotateCode is not None:\n",
        "                frame = correct_rotation(frame, rotateCode)  \n",
        "            frames.append(frame)\n",
        "\n",
        "    v_cap.release()\n",
        "\n",
        "    return frames, len(frames)"
      ],
      "execution_count": null,
      "outputs": []
    },
    {
      "cell_type": "code",
      "metadata": {
        "id": "ZunZ2svjYKM-"
      },
      "source": [
        "def transform_frames(frames, train=True):\n",
        "\n",
        "    img_transforms_0 = transforms.Compose([\n",
        "                transforms.Resize((h,w)),\n",
        "                transforms.ToTensor(),\n",
        "                transforms.Normalize(mean, std)])\n",
        "    img_transforms_1 = transforms.Compose([\n",
        "                transforms.Resize((h,w)),\n",
        "                transforms.Grayscale(num_output_channels=3),\n",
        "                transforms.ToTensor(),\n",
        "                transforms.Normalize(mean, std)])\n",
        "    img_transforms_2 = transforms.Compose([\n",
        "                transforms.Resize((h,w)),\n",
        "                transforms.RandomHorizontalFlip(p=1.),\n",
        "                transforms.ToTensor(),\n",
        "                transforms.Normalize(mean, std)])\n",
        "    img_transforms_3 = transforms.Compose([\n",
        "                transforms.Resize((h,w)),\n",
        "                transforms.Grayscale(num_output_channels=3),\n",
        "                transforms.RandomHorizontalFlip(p=1.),\n",
        "                transforms.ToTensor(),\n",
        "                transforms.Normalize(mean, std)])\n",
        "    \n",
        "    img_transforms = [img_transforms_0, \n",
        "                      img_transforms_1, \n",
        "                      img_transforms_2, \n",
        "                      img_transforms_3] \n",
        "    if train:\n",
        "        img_transform = random.choice(img_transforms)\n",
        "    else:\n",
        "        img_transform = img_transforms_0\n",
        "    \n",
        "    frames_tr = []\n",
        "    for frame in frames:\n",
        "        frame = Image.fromarray(frame)       \n",
        "        frame_tr = img_transform(frame)\n",
        "        frames_tr.append(frame_tr)\n",
        "        \n",
        "    imgs_tensor = torch.stack(frames_tr)    \n",
        "\n",
        "    return imgs_tensor"
      ],
      "execution_count": null,
      "outputs": []
    },
    {
      "cell_type": "markdown",
      "metadata": {
        "id": "9ES92OoTDy8d"
      },
      "source": [
        "## Model"
      ]
    },
    {
      "cell_type": "code",
      "metadata": {
        "id": "Ze3b9HKWICeK"
      },
      "source": [
        "class EncoderRNN(nn.Module):\n",
        "\n",
        "    def __init__(self, input_size, hidden_size, num_layers, bidirectional):\n",
        "        super(EncoderRNN, self).__init__()\n",
        "\n",
        "        self.lstm = nn.LSTM(input_size, hidden_size, num_layers, batch_first=True, \n",
        "                            dropout=0.2, bidirectional=bidirectional)\n",
        "\n",
        "    def forward(self, x, lens):\n",
        "\n",
        "        packed_frames_emb = nn.utils.rnn.pack_padded_sequence(x, lens, enforce_sorted=False)\n",
        "        packed_out, h = self.lstm(packed_frames_emb)\n",
        "        out, _ = nn.utils.rnn.pad_packed_sequence(packed_out)\n",
        "\n",
        "        return out\n",
        "\n",
        "\n",
        "class DecoderRNN(nn.Module):\n",
        "\n",
        "    def __init__(self, hidden_size, output_size, num_layers, bidirectional=False):\n",
        "        super(DecoderRNN, self).__init__()\n",
        "\n",
        "        self.lstm = nn.LSTM(hidden_size, output_size, num_layers, batch_first=True,\n",
        "                            dropout=0.2, bidirectional=bidirectional)\n",
        "        \n",
        "    def forward(self, x, lens):\n",
        "\n",
        "        packed_frames_emb = nn.utils.rnn.pack_padded_sequence(x, lens, enforce_sorted=False)\n",
        "        packed_out, h = self.lstm(packed_frames_emb)\n",
        "        out, _ = nn.utils.rnn.pad_packed_sequence(packed_out)\n",
        "\n",
        "        return out\n",
        "\n",
        "\n",
        "class AutoEncoderRNN(nn.Module):\n",
        "    def __init__(self, input_size, hidden_size, num_layers, bidirectional=False):\n",
        "        super(AutoEncoderRNN, self).__init__()\n",
        "        self.encoder = EncoderRNN(input_size, hidden_size, num_layers, bidirectional)\n",
        "        self.decoder = DecoderRNN(hidden_size, input_size, num_layers, bidirectional)\n",
        "\n",
        "    def forward(self, x, lens):\n",
        "        encoded_x = self.encoder(x, lens)\n",
        "        decoded_x = self.decoder(encoded_x, lens)\n",
        "\n",
        "        return decoded_x"
      ],
      "execution_count": null,
      "outputs": []
    },
    {
      "cell_type": "code",
      "metadata": {
        "id": "d9_de_h6XqbJ"
      },
      "source": [
        "class CNNEncoder(nn.Module):\n",
        "\n",
        "    def __init__(self, pretrained=True):\n",
        "        super(CNNEncoder, self).__init__()\n",
        "        \n",
        "        resnet = models.resnet34(pretrained=pretrained) \n",
        "\n",
        "        modules = list(resnet.children())[:-1]\n",
        "        self.resnet = nn.Sequential(*modules)\n",
        "\n",
        "    def forward(self, image):\n",
        "\n",
        "        # (batch_size, 512, 1, 1)\n",
        "        out = self.resnet(image)\n",
        "\n",
        "        return out.view(-1, 512) "
      ],
      "execution_count": null,
      "outputs": []
    },
    {
      "cell_type": "code",
      "metadata": {
        "id": "pGahhMAvR2BY"
      },
      "source": [
        "class PositionalEncoding(nn.Module):\n",
        "    \n",
        "    def __init__(self, d_model, dropout=0.1, max_len=5000):\n",
        "\n",
        "        super(PositionalEncoding, self).__init__()\n",
        "        self.dropout = nn.Dropout(p=dropout)\n",
        "        self.scale = nn.Parameter(torch.ones(1))\n",
        "\n",
        "        pe = torch.zeros(max_len, d_model)\n",
        "        position = torch.arange(0, max_len, dtype=torch.float).unsqueeze(1)\n",
        "        div_term = torch.exp(torch.arange(\n",
        "            0, d_model, 2).float() * (-math.log(10000.0) / d_model))\n",
        "        pe[:, 0::2] = torch.sin(position * div_term)\n",
        "        pe[:, 1::2] = torch.cos(position * div_term)\n",
        "        pe = pe.unsqueeze(0).transpose(0, 1)\n",
        "        self.register_buffer('pe', pe)\n",
        "\n",
        "    def forward(self, x):\n",
        "\n",
        "        x = x + self.scale * self.pe[:x.size(0), :]\n",
        "\n",
        "        return self.dropout(x)\n",
        "\n",
        "\n",
        "class CNN_Transformer(nn.Module):\n",
        "\n",
        "    def __init__(self, num_classes, nlayers, hidden, nhead, dim_feedforward, \n",
        "                 dropout=0, activation='relu'):\n",
        "\n",
        "        super(CNN_Transformer, self).__init__()\n",
        "\n",
        "        self.hidden = hidden\n",
        "        \n",
        "        # CNN\n",
        "        self.cnn = CNNEncoder()\n",
        "        self.conv = nn.Conv2d(512, hidden, 1)\n",
        "\n",
        "        # Transformer\n",
        "        self.pos = PositionalEncoding(hidden) \n",
        "        encoder_layer = nn.TransformerEncoderLayer(hidden, \n",
        "                                                   nhead, \n",
        "                                                   dim_feedforward, \n",
        "                                                   dropout, \n",
        "                                                   activation)\n",
        "        encoder_norm = nn.LayerNorm(hidden)\n",
        "        self.transformer = nn.TransformerEncoder(encoder_layer, \n",
        "                                                 nlayers, \n",
        "                                                 encoder_norm)\n",
        "\n",
        "        # Classifier\n",
        "        self.dropout= nn.Dropout(dropout)\n",
        "        self.fc = nn.Linear(hidden*1, num_classes)\n",
        "\n",
        "    def forward(self, frames, f_lens, mask):\n",
        "        \n",
        "        bs, s, c, height, width = frames.shape\n",
        "        frames_emb = torch.zeros(s, bs, self.hidden).to(device)\n",
        "\n",
        "        for i in range(s):\n",
        "            img_emb = self.cnn(frames[:, i])\n",
        "            img_emb = torch.relu(self.conv(img_emb))\n",
        "            frames_emb[i] = img_emb.view(bs, -1)\n",
        "\n",
        "        frames_emb = self.pos(frames_emb) \n",
        "        out = self.transformer(src=frames_emb, src_key_padding_mask=mask)\n",
        "        out = self.fc(self.dropout(torch.max(out, 0)[0]))\n",
        " \n",
        "        return out "
      ],
      "execution_count": null,
      "outputs": []
    },
    {
      "cell_type": "markdown",
      "metadata": {
        "id": "MFHGppF0Ij3g"
      },
      "source": [
        "## Configuration"
      ]
    },
    {
      "cell_type": "code",
      "metadata": {
        "colab": {
          "base_uri": "https://localhost:8080/",
          "height": 104,
          "referenced_widgets": [
            "19de1a631b4f4c6bba48086beaf84c38",
            "a11ed0269d554ade8afa3347a52aeeb9",
            "53c95315128e4ed89fb0c55d87258d88",
            "cba3576483b94638818d2c3b6218a751",
            "e388f5b61a5e4a8f9e3a0f599cc0a6d2",
            "1b302f7794a444f9b47748ab0eb2d928",
            "9e20352dfde94705b7b2b62e9cff4f33",
            "ef8f6231280b4cc9a7aa8787ec9ff2e1"
          ]
        },
        "id": "2mUJOtFzPhFN",
        "outputId": "f83dcf20-68fb-4e88-b174-3b8ad43639da"
      },
      "source": [
        "cnn = CNNEncoder()"
      ],
      "execution_count": null,
      "outputs": [
        {
          "output_type": "stream",
          "text": [
            "Downloading: \"https://download.pytorch.org/models/resnet34-333f7ec4.pth\" to /root/.cache/torch/hub/checkpoints/resnet34-333f7ec4.pth\n"
          ],
          "name": "stderr"
        },
        {
          "output_type": "display_data",
          "data": {
            "application/vnd.jupyter.widget-view+json": {
              "model_id": "19de1a631b4f4c6bba48086beaf84c38",
              "version_minor": 0,
              "version_major": 2
            },
            "text/plain": [
              "HBox(children=(FloatProgress(value=0.0, max=87306240.0), HTML(value='')))"
            ]
          },
          "metadata": {
            "tags": []
          }
        },
        {
          "output_type": "stream",
          "text": [
            "\n"
          ],
          "name": "stdout"
        }
      ]
    },
    {
      "cell_type": "code",
      "metadata": {
        "id": "DYtzgQO-PkIK"
      },
      "source": [
        "cnn = cnn.to(device)"
      ],
      "execution_count": null,
      "outputs": []
    },
    {
      "cell_type": "code",
      "metadata": {
        "id": "mcEnjU-7SoEv"
      },
      "source": [
        "model_clf = CNN_Transformer(num_classes=2,\n",
        "                                nlayers=1,\n",
        "                                hidden=32,\n",
        "                                nhead=4,\n",
        "                                dim_feedforward=128,\n",
        "                                dropout=0.5)"
      ],
      "execution_count": null,
      "outputs": []
    },
    {
      "cell_type": "code",
      "metadata": {
        "id": "TDxBAlKUSsjm",
        "colab": {
          "base_uri": "https://localhost:8080/"
        },
        "outputId": "1780873a-96ae-465f-e1b1-049d03440adb"
      },
      "source": [
        "model_clf.load_state_dict(torch.load('/content/v2_CNN_Transformer_best_score.pt'))"
      ],
      "execution_count": null,
      "outputs": [
        {
          "output_type": "execute_result",
          "data": {
            "text/plain": [
              "<All keys matched successfully>"
            ]
          },
          "metadata": {
            "tags": []
          },
          "execution_count": 25
        }
      ]
    },
    {
      "cell_type": "code",
      "metadata": {
        "id": "ll1wbmgyS3Sw",
        "colab": {
          "base_uri": "https://localhost:8080/"
        },
        "outputId": "9dc1f67b-6acb-4ff3-a726-580896504ce9"
      },
      "source": [
        "cnn.load_state_dict(model_clf.cnn.state_dict())"
      ],
      "execution_count": null,
      "outputs": [
        {
          "output_type": "execute_result",
          "data": {
            "text/plain": [
              "<All keys matched successfully>"
            ]
          },
          "metadata": {
            "tags": []
          },
          "execution_count": 26
        }
      ]
    },
    {
      "cell_type": "code",
      "metadata": {
        "id": "RzP5gMucdnNt"
      },
      "source": [
        "cnn = cnn.to(device)"
      ],
      "execution_count": null,
      "outputs": []
    },
    {
      "cell_type": "code",
      "metadata": {
        "id": "Y2OZO2gAIYZd"
      },
      "source": [
        "model = AutoEncoderRNN(input_size=512, hidden_size=32, num_layers=2)"
      ],
      "execution_count": null,
      "outputs": []
    },
    {
      "cell_type": "code",
      "metadata": {
        "id": "Nvr30rzlNd1x"
      },
      "source": [
        "model = model.to(device)"
      ],
      "execution_count": null,
      "outputs": []
    },
    {
      "cell_type": "code",
      "metadata": {
        "id": "C_jSkZ93Nd1x"
      },
      "source": [
        "optimizer = torch.optim.AdamW(model.parameters(), \n",
        "                              lr = 0.001)\n",
        "criterion = nn.MSELoss(reduction='none')"
      ],
      "execution_count": null,
      "outputs": []
    },
    {
      "cell_type": "code",
      "metadata": {
        "id": "gGyRTi6eNd1y"
      },
      "source": [
        "max_epochs = 100\n",
        "every_epochs = 10\n",
        "n_max = 30\n",
        "clip = 3"
      ],
      "execution_count": null,
      "outputs": []
    },
    {
      "cell_type": "markdown",
      "metadata": {
        "id": "VfJJL6_GGCgf"
      },
      "source": [
        "## Training"
      ]
    },
    {
      "cell_type": "code",
      "metadata": {
        "id": "416eecDSwLNh"
      },
      "source": [
        "def generate_batch(images, batch_size, train=True, n_max=30):\n",
        "    \n",
        "    if train:\n",
        "        random_index = np.random.randint(0, len(images), size=batch_size)\n",
        "        np.random.shuffle(random_index)\n",
        "        filenames = np.array(images)[random_index]\n",
        "    else:\n",
        "        filenames = np.array(images)\n",
        "\n",
        "    batch_images = []\n",
        "    f_lens = []\n",
        "\n",
        "    for filename in filenames:\n",
        "        frames, f_len = get_frames(filename, n_max=n_max)\n",
        "        f_lens.append(f_len)\n",
        "        img_tensor = transform_frames(frames, train)\n",
        "        batch_images.append(img_tensor)\n",
        "\n",
        "    max_len = np.max(f_lens)\n",
        "\n",
        "    _, c, h, w = batch_images[0].shape\n",
        "    batch_images_padded = torch.zeros((batch_size, max_len, c, h, w)) \n",
        "    mask = [] \n",
        "\n",
        "    for i, img in enumerate(batch_images):\n",
        "\n",
        "        batch_images_padded[i, :f_lens[i], :, :, :] = img\n",
        "    \n",
        "    return batch_images_padded, torch.LongTensor(f_lens) "
      ],
      "execution_count": null,
      "outputs": []
    },
    {
      "cell_type": "code",
      "metadata": {
        "id": "g5OpYK0ryqMc"
      },
      "source": [
        "def evaluate(model, criterion, val_images, batch_size):\n",
        "    \n",
        "    model.eval()\n",
        "    cnn.eval()\n",
        "    \n",
        "    epoch_loss = 0\n",
        "    outputs = []\n",
        "\n",
        "    val_size = len(val_images) // batch_size * batch_size\n",
        "    \n",
        "    with torch.no_grad():\n",
        "    \n",
        "        for i in range(0, val_size, batch_size):\n",
        "\n",
        "            batch = generate_batch(val_images[i:i+batch_size], batch_size=batch_size, train=False)\n",
        "            frames = batch[0].to(device)\n",
        "\n",
        "            # Get embeddings\n",
        "            with torch.no_grad():\n",
        "                bs, s, c, height, width = frames.shape\n",
        "                frames_emb = torch.zeros(s, bs, 512).to(device)\n",
        "                for i in range(s):\n",
        "                    frames_emb[i] = cnn(frames[:, i])\n",
        "        \n",
        "            output = model(frames_emb, batch[1]) \n",
        "\n",
        "            loss_ = criterion(output, frames_emb)\n",
        "            loss_batch = []\n",
        "            for i in range(bs):\n",
        "                loss_batch.append(loss_[:batch[1][i], i].mean())\n",
        "\n",
        "            loss = torch.mean(torch.stack(loss_batch)) \n",
        "            \n",
        "            epoch_loss += loss.item()\n",
        "        \n",
        "    return epoch_loss / (val_size // batch_size) "
      ],
      "execution_count": null,
      "outputs": []
    },
    {
      "cell_type": "code",
      "metadata": {
        "colab": {
          "base_uri": "https://localhost:8080/"
        },
        "id": "RJC-1g2sNd1y",
        "outputId": "75a01ded-2321-479a-9cac-06621f2aef09"
      },
      "source": [
        "%%time\n",
        "epoch_loss = 0\n",
        "cnn.eval()\n",
        "\n",
        "for epoch in range(1, max_epochs+1):\n",
        "\n",
        "    batch = generate_batch(images=train_images, \n",
        "                           batch_size=8,  \n",
        "                           train=True, \n",
        "                           n_max=n_max)\n",
        "    frames = batch[0].to(device)\n",
        "\n",
        "    # Get embeddings\n",
        "    with torch.no_grad():\n",
        "        bs, s, c, height, width = frames.shape\n",
        "        frames_emb = torch.zeros(s, bs, 512).to(device)\n",
        "        for i in range(s):\n",
        "            frames_emb[i] = cnn(frames[:, i])\n",
        "\n",
        "    model.train()\n",
        "    optimizer.zero_grad()\n",
        "        \n",
        "    outputs = model(frames_emb, batch[1]) \n",
        "\n",
        "    loss_ = criterion(outputs, frames_emb)\n",
        "    loss_batch = []\n",
        "    for i in range(bs):\n",
        "        loss_batch.append(loss_[:batch[1][i], i].mean())\n",
        "\n",
        "    loss = torch.mean(torch.stack(loss_batch))        \n",
        "    loss.backward()       \n",
        "    torch.nn.utils.clip_grad_norm_(model.parameters(), clip)       \n",
        "    optimizer.step()       \n",
        "    epoch_loss += loss.item()\n",
        "\n",
        "    if epoch % every_epochs == 0:\n",
        "        val_loss_0 = evaluate(model, criterion, val_images, batch_size=16)\n",
        "        val_loss_1 = evaluate(model, criterion, val_images_1, batch_size=16)   \n",
        "        print('Epoch : {}'.format(epoch))\n",
        "        print('Train loss : {}'.format(epoch_loss / every_epochs))\n",
        "        print('Val loss 0 : {}'.format(val_loss_0))\n",
        "        print('Val loss 1 : {}'.format(val_loss_1))\n",
        "\n",
        "        epoch_loss = 0\n",
        "        print()"
      ],
      "execution_count": null,
      "outputs": [
        {
          "output_type": "stream",
          "text": [
            "Epoch : 10\n",
            "Train loss : 0.8576911628246308\n",
            "Val loss 0 : 0.5643331011136373\n",
            "Val loss 1 : 1.4982965389887493\n",
            "\n",
            "Epoch : 20\n",
            "Train loss : 0.4660246282815933\n",
            "Val loss 0 : 0.44582189122835797\n",
            "Val loss 1 : 1.6527654727300007\n",
            "\n",
            "Epoch : 30\n",
            "Train loss : 0.4107699304819107\n",
            "Val loss 0 : 0.4136157234509786\n",
            "Val loss 1 : 1.5996062755584717\n",
            "\n",
            "Epoch : 40\n",
            "Train loss : 0.41363338232040403\n",
            "Val loss 0 : 0.39356998602549237\n",
            "Val loss 1 : 1.5426439841588337\n",
            "\n",
            "Epoch : 50\n",
            "Train loss : 0.35441747307777405\n",
            "Val loss 0 : 0.3842362662156423\n",
            "Val loss 1 : 1.5570050080617268\n",
            "\n",
            "Epoch : 60\n",
            "Train loss : 0.33060345947742464\n",
            "Val loss 0 : 0.3825668195883433\n",
            "Val loss 1 : 1.5792627334594727\n",
            "\n",
            "Epoch : 70\n",
            "Train loss : 0.36366947889328005\n",
            "Val loss 0 : 0.37882551550865173\n",
            "Val loss 1 : 1.5033152898152669\n",
            "\n",
            "Epoch : 80\n",
            "Train loss : 0.33928095996379853\n",
            "Val loss 0 : 0.37560002009073895\n",
            "Val loss 1 : 1.5995275576909382\n",
            "\n",
            "Epoch : 90\n",
            "Train loss : 0.3522491306066513\n",
            "Val loss 0 : 0.37582847476005554\n",
            "Val loss 1 : 1.5578138430913289\n",
            "\n",
            "Epoch : 100\n",
            "Train loss : 0.356269970536232\n",
            "Val loss 0 : 0.3749303420384725\n",
            "Val loss 1 : 1.5555814901987712\n",
            "\n",
            "CPU times: user 20min 37s, sys: 2min 35s, total: 23min 12s\n",
            "Wall time: 19min 20s\n"
          ],
          "name": "stdout"
        }
      ]
    },
    {
      "cell_type": "code",
      "metadata": {
        "id": "Vv4c4P07y9lK"
      },
      "source": [
        "torch.save(model.state_dict(), '/content/v2_RNN_AE.pt')"
      ],
      "execution_count": null,
      "outputs": []
    },
    {
      "cell_type": "markdown",
      "metadata": {
        "id": "FI7pbMUUnDXZ"
      },
      "source": [
        "## Inference"
      ]
    },
    {
      "cell_type": "code",
      "metadata": {
        "id": "rWJRVsTUnWWS"
      },
      "source": [
        "def predict(model, criterion, val_images, batch_size=1):\n",
        "    \n",
        "    model.eval()\n",
        "    cnn.eval()\n",
        "\n",
        "    losses = []\n",
        "\n",
        "    val_size = len(val_images) // batch_size * batch_size\n",
        "    \n",
        "    with torch.no_grad():\n",
        "    \n",
        "        for i in range(0, val_size, batch_size):\n",
        "\n",
        "            batch = generate_batch(val_images[i:i+batch_size], batch_size=batch_size, train=False)\n",
        "            frames = batch[0].to(device)\n",
        "            f_len = batch[1]\n",
        "\n",
        "            # Get embeddings\n",
        "            with torch.no_grad():\n",
        "                bs, s, c, height, width = frames.shape\n",
        "                frames_emb = torch.zeros(s, bs, 512).to(device)\n",
        "                for i in range(s):\n",
        "                    frames_emb[i] = cnn(frames[:, i])\n",
        "        \n",
        "            output = model(frames_emb, f_len) \n",
        "\n",
        "            loss_ = criterion(output, frames_emb)\n",
        "            loss_batch = []\n",
        "            for i in range(bs):\n",
        "                loss_batch.append(loss_[:f_len[i], i].mean())\n",
        "\n",
        "            losses += loss_batch \n",
        "        \n",
        "    return losses "
      ],
      "execution_count": null,
      "outputs": []
    },
    {
      "cell_type": "code",
      "metadata": {
        "id": "KBJACbC76l4c"
      },
      "source": [
        "out_0 = predict(model, criterion, val_images, batch_size=16)"
      ],
      "execution_count": null,
      "outputs": []
    },
    {
      "cell_type": "code",
      "metadata": {
        "id": "IG2NqUQ0ydCP"
      },
      "source": [
        "out_1 = predict(model, criterion, val_images_1, batch_size=16)"
      ],
      "execution_count": null,
      "outputs": []
    },
    {
      "cell_type": "code",
      "metadata": {
        "id": "22V2lMM11fr5",
        "colab": {
          "base_uri": "https://localhost:8080/",
          "height": 265
        },
        "outputId": "cd2c50c7-bb90-43fb-ac83-d847cce8b102"
      },
      "source": [
        "plt.figure()\n",
        "plt.eventplot(out_0, orientation='horizontal', colors='b')\n",
        "plt.eventplot(out_1, orientation='horizontal', colors='r')\n",
        "plt.show()"
      ],
      "execution_count": null,
      "outputs": [
        {
          "output_type": "display_data",
          "data": {
            "image/png": "[encoded data removed]",
            "text/plain": [
              "<Figure size 432x288 with 1 Axes>"
            ]
          },
          "metadata": {
            "tags": [],
            "needs_background": "light"
          }
        }
      ]
    },
    {
      "cell_type": "code",
      "metadata": {
        "id": "ajwxuOSSzW-1"
      },
      "source": [
        "out_0 = predict(model, criterion, val_images[-8:], batch_size=8)"
      ],
      "execution_count": null,
      "outputs": []
    },
    {
      "cell_type": "code",
      "metadata": {
        "id": "d8GudkR2zW-4"
      },
      "source": [
        "out_1 = predict(model, criterion, val_images_1[-8:], batch_size=8)"
      ],
      "execution_count": null,
      "outputs": []
    },
    {
      "cell_type": "code",
      "metadata": {
        "colab": {
          "base_uri": "https://localhost:8080/",
          "height": 265
        },
        "id": "2z3-WOQHzW-4",
        "outputId": "fb1ce9bc-a26c-421a-f393-e217b67b62b6"
      },
      "source": [
        "plt.figure()\n",
        "plt.eventplot(out_0, orientation='horizontal', colors='b')\n",
        "plt.eventplot(out_1, orientation='horizontal', colors='r')\n",
        "plt.show()"
      ],
      "execution_count": null,
      "outputs": [
        {
          "output_type": "display_data",
          "data": {
            "image/png": "[encoded data removed]",
            "text/plain": [
              "<Figure size 432x288 with 1 Axes>"
            ]
          },
          "metadata": {
            "tags": [],
            "needs_background": "light"
          }
        }
      ]
    },
    {
      "cell_type": "markdown",
      "metadata": {
        "id": "1mMG7yuynWwY"
      },
      "source": [
        "Вывод: По значению ошибки реконструкции оригиналы и атаки довольно хорошо разделяются."
      ]
    }
  ]
}